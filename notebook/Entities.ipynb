{
 "cells": [
  {
   "cell_type": "markdown",
   "metadata": {},
   "source": [
    "# Identifying entities in notes\n",
    "\n",
    "Goal of this notebook is to determine how successful entity identification is using\n"
   ]
  },
  {
   "cell_type": "code",
   "execution_count": 50,
   "metadata": {
    "collapsed": false
   },
   "outputs": [],
   "source": [
    "%matplotlib inline\n",
    "from __future__ import print_function\n",
    "import os\n",
    "from pyspark import SQLContext\n",
    "from pyspark.sql import Row\n",
    "import pyspark.sql.functions as sql\n",
    "import pyspark.sql.types as types\n",
    "#from pyspark.sql.functions import udf, length\n",
    "import matplotlib.pyplot as plt\n",
    "import numpy\n",
    "import math\n",
    "import matplotlib.pyplot as plt\n",
    "import seaborn as sns\n",
    "\n",
    "import nltk\n",
    "import pyspark.ml.feature as feature"
   ]
  },
  {
   "cell_type": "code",
   "execution_count": 51,
   "metadata": {
    "collapsed": false
   },
   "outputs": [
    {
     "name": "stdout",
     "output_type": "stream",
     "text": [
      "3232459\n",
      "322653\n"
     ]
    }
   ],
   "source": [
    "# Load Processed Parquet\n",
    "sqlContext = SQLContext(sc)\n",
    "notes = sqlContext.read.parquet(\"../data/idigbio_notes.parquet\")\n",
    "total_records = notes.count()\n",
    "print(total_records)\n",
    "# Small sample of the df\n",
    "notes = notes.sample(withReplacement=False, fraction=0.1)\n",
    "\n",
    "print(notes.count())"
   ]
  },
  {
   "cell_type": "code",
   "execution_count": 64,
   "metadata": {
    "collapsed": false,
    "scrolled": true
   },
   "outputs": [
    {
     "name": "stdout",
     "output_type": "stream",
     "text": [
      "322504\n",
      "+--------------------------------------------------------------------------------------------------------------------------------------------------------------------------------------------------------------------------------------------------------------------+\n",
      "|document                                                                                                                                                                                                                                                            |\n",
      "+--------------------------------------------------------------------------------------------------------------------------------------------------------------------------------------------------------------------------------------------------------------------+\n",
      "|[ USA: Ohio, Hocking Co. | Little Rocky Hollow| Gerdeman BS | 29 V 1998 | ex narceus | (Diplopoda: Spirobolidae) | BSG98-0529-4 AL5523 ] [ Iphiopsididae | Narceolaelaps annularis | Kethley 1978 | DN | det.: Gerdeman 1998 | Lactophenol | Hoyer's | OSAL0004567 ]|\n",
      "|[Mexico X-26-32 City] [A. Dampf collr]                                                                                                                                                                                                                              |\n",
      "|Study skin plus tissues. Not able to sex. Not aged. Specimen collected on joint California Academy of Sciences/Kunming Institute of Zoology Gaoligongshan (GLGS) Biodiversity Expedition. GLGS Locality No. 11, Net No. 2.                                          |\n",
      "|found on Poliomintha incana (Torr.) A. Gray (frosted mint) [USDA]                                                                                                                                                                                                   |\n",
      "|Sterile                                                                                                                                                                                                                                                             |\n",
      "|Larva                                                                                                                                                                                                                                                               |\n",
      "|see also no. 12465-94; station no. 6; 20 specimens sent on exchange to UMMZ. See field notes; see also UF20172 and UF12465-94.                                                                                                                                      |\n",
      "|Small patch of plants. Shallow soil at base of granite canyon wall beside Buffalo Bill Reservoir Dam.                                                                                                                                                               |\n",
      "|Numerous.  At least 3 other inulae in some place.  Flrs. and foliage have pointed appearance.  Grows up fairly straight from ground.                                                                                                                                |\n",
      "|Freely escaped or naturalized.                                                                                                                                                                                                                                      |\n",
      "+--------------------------------------------------------------------------------------------------------------------------------------------------------------------------------------------------------------------------------------------------------------------+\n",
      "only showing top 10 rows\n",
      "\n"
     ]
    }
   ],
   "source": [
    "# Still have some problems with the document field having nulls and\n",
    "# being empty. Not sure where nulls came from but likely the \n",
    "# empties are really whitespace\n",
    "notes = notes.select(sql.trim(notes[\"document\"]).alias(\"document\"))\\\n",
    "    .dropna(subset=\"document\")\\\n",
    "    .filter(sql.length(\"document\") > 0)\n",
    "notes.cache()  \n",
    "\n",
    "print(notes.count())\n",
    "notes.select(notes[\"document\"])\\\n",
    "    .show(10, truncate=False)\n",
    "#    .orderBy(notes[\"document\"])\\\n",
    "#notes.select(notes[\"document\"])\\\n",
    "#    .orderBy(notes[\"document\"], ascending=False)\\\n",
    "#    .show(10, truncate=False)"
   ]
  },
  {
   "cell_type": "markdown",
   "metadata": {},
   "source": [
    "## Sentence detection\n",
    "\n",
    "Does splitting in to sentences matter? Is there enough information to do this with a natural language library or should things like \",\" \"[]\", and \"{}\" be worked in to address semi-structured data?"
   ]
  },
  {
   "cell_type": "markdown",
   "metadata": {},
   "source": [
    "## Tokenize documents\n"
   ]
  },
  {
   "cell_type": "code",
   "execution_count": 53,
   "metadata": {
    "collapsed": false
   },
   "outputs": [
    {
     "name": "stdout",
     "output_type": "stream",
     "text": [
      "['Hello', ',', 'my', 'name', 'is', 'Mace', 'Windoo']\n"
     ]
    }
   ],
   "source": [
    "from lib.tokens import Tokens\n",
    "tokens = Tokens()\n",
    "t = tokens.tokenize(\"Hello, my name is Mace Windoo\")\n",
    "print(t)"
   ]
  },
  {
   "cell_type": "code",
   "execution_count": 54,
   "metadata": {
    "collapsed": false
   },
   "outputs": [
    {
     "name": "stdout",
     "output_type": "stream",
     "text": [
      "[ | USA | : | Ohio | , | Hocking | Co. | | | Little | Rocky | Hollow| | Gerdeman | BS | | | 29 | V | 1998 | | | ex | narceus | | | ( | Diplopoda | : | Spirobolidae | ) | | | BSG98-0529-4 | AL5523 | ] | [ | Iphiopsididae | | | Narceolaelaps | annularis | | | Kethley | 1978 | | | DN | | | det | . | : | Gerdeman | 1998 | | | Lactophenol | | | Hoyer | 's | | | OSAL0004567 | ]\n",
      "\n",
      "\n",
      "[ | Mexico | X-26-32 | City | ] | [ | A. | Dampf | collr | ]\n",
      "\n",
      "\n",
      "Study | skin | plus | tissues | . | Not | able | to | sex | . | Not | aged | . | Specimen | collected | on | joint | California | Academy | of | Sciences/Kunming | Institute | of | Zoology | Gaoligongshan | ( | GLGS | ) | Biodiversity | Expedition | . | GLGS | Locality | No | . | 11 | , | Net | No | . | 2 | .\n",
      "\n",
      "\n",
      "found | on | Poliomintha | incana | ( | Torr | . | ) | A | . | Gray | ( | frosted | mint | ) | [ | USDA | ]\n",
      "\n",
      "\n",
      "Sterile\n",
      "\n",
      "\n",
      "Larva\n",
      "\n",
      "\n",
      "see | also | no | . | 12465-94 | ; | station | no | . | 6 | ; | 20 | specimens | sent | on | exchange | to | UMMZ | . | See | field | notes | ; | see | also | UF20172 | and | UF12465-94 | .\n",
      "\n",
      "\n",
      "Small | patch | of | plants | . | Shallow | soil | at | base | of | granite | canyon | wall | beside | Buffalo | Bill | Reservoir | Dam | .\n",
      "\n",
      "\n",
      "Numerous | . | At | least | 3 | other | inulae | in | some | place | . | Flrs | . | and | foliage | have | pointed | appearance | . | Grows | up | fairly | straight | from | ground | .\n",
      "\n",
      "\n",
      "Freely | escaped | or | naturalized | .\n",
      "\n",
      "\n",
      "ACT | COLL | DATE | MAR | 25-26 | KARYOTYPED | 2N=24\n",
      "\n",
      "\n",
      "Herbarium | of | The | University | of | Tennessee\n",
      "\n",
      "\n",
      "ACTUAL | COLLECTION | DATE | AUGUST | 25-SEPTEMBER | 2\n",
      "\n",
      "\n",
      "[ | SWEDEN | : | Västmanland | , | Kärrbo | s | : | n | , | Solbacken | ( | RN | 1552/6600 | ) | The | shore | of | Lake | Mälaren | ] | [ | 14-21.VIII.1988 | ]\n",
      "\n",
      "\n",
      "BBP | 5.12-6\n",
      "\n",
      "\n",
      "NOTEBY | LLAMA | , | NOTEDATE | 3-May-11 | : | Along | Sendero | El | Mojon | where | forest | starts | .\n",
      "\n",
      "\n",
      "Herbarium | of | the | University | of | Pennsylvannia\n",
      "\n",
      "\n",
      "berlese | rainforest | litter\n",
      "\n",
      "\n",
      "From | UC | Zool | . | Dept. | , | Berkeley | , | Calif. | ; | CAS | 12114-27 | , | 12129-33 | , | 12135-46 | in | vials | in | same | jar | . | Hydrographic | sta | . | 5102\n",
      "\n",
      "\n",
      "Exposed | roadside | bank | , | sandy | , | moist | .\n",
      "\n",
      "\n",
      "Collected | in | lindo | estero | ca | . | 3 | km | N. | W. | from | camp\n",
      "\n",
      "\n",
      "Sex | questionable | .\n",
      "\n",
      "\n",
      "mbined | with | UF | 10703 | . | See | field | notes | . | Collected | 5-7 | Sept | 1963 | .\n",
      "\n",
      "\n",
      "stored | in | 70 | % | EtOH | . | this | locality | is | 5.3 | road-miles | from | junc | of | St.Rte | . | 114 | in | Lyerly | , | and | about | 0.2 | mile | ENE | of | AL-GA | state | line | ; | see | field | notes\n",
      "\n",
      "\n",
      "flight | intercept | trap\n",
      "\n",
      "\n",
      "Coral | Triangle | Exped | . | 2010\n",
      "\n",
      "\n",
      "Sigma | XI | Research | Grant\n",
      "\n",
      "\n",
      "1 | paired | bivalve | with | animal | . | Originally | fixed | in | formalin | and | transferred | to | 70 | % | ethanol | . | Voucher | marked | # | 19 | for | use | of | soft | anatomy | description | in | Freshwater | Mussels | of | Alabama | , | JD | Williams | , | et | al | .\n",
      "\n",
      "\n",
      "Mother | from | stated | locality | ; | this | individual | born | in | Aquarium | , | 1951 | .\n",
      "\n",
      "\n",
      "Additional | data | on | card | .\n",
      "\n",
      "\n",
      "Accn | # | from | NPS | : | BIBE | 1350\n",
      "\n",
      "\n",
      "Locally | common | . | Sandy | areas | .\n",
      "\n",
      "\n",
      "[ | Suidasia | F | + | Sancassania | N | ] | [ | Ex | Colon | of | necropsied | PIG | fecal | flotation | tech | | | 30.VIII.75 | | | P. | R. | Fox | ]\n",
      "\n",
      "\n",
      "Pitfall\n",
      "\n",
      "\n",
      "Additional | data | on | card | ; | collected | for | J. | D. | Sornborger\n",
      "\n",
      "\n",
      "Source | : | specimen | tags | and | NCSM | catalog | .\n",
      "\n",
      "\n",
      "south | sample\n",
      "\n",
      "\n",
      "Paratype | of | Kassina | argyreivittis | ruandae | Laurent | , | 1956 | .\n",
      "\n",
      "\n",
      "Also | assigned | number | SK-25 | . | Collected | by | ES | Wing | , | SJ | Scudder | & | Humphrey | ; | St. | Christopher | ( | =St | . | Kitts | ) | .\n",
      "\n",
      "\n",
      "GOW | 65 | Field | Emergence | Date | 4/4/1965\n",
      "\n",
      "\n",
      "NOTEBY | J. | Longino | , | NOTEDATE | 14-Jul-07 | : | Litter | brought | back | to | San | Cristobal | , | hung | morning | of | 15 | July | , | 3 | mesh | sacks | filled | , | sample | taken | off | afternoon | of | 19 | July | .\n",
      "\n",
      "\n",
      "Plot | F | , | Tree | No | . | F-22 | .\n",
      "\n",
      "\n",
      "2 | specimens | aquarium | kept | ; | killed | & | preserved | 23 | March | 1998\n",
      "\n",
      "\n",
      "Card | .\n",
      "\n",
      "\n",
      "With | drawing\n",
      "\n",
      "\n",
      "Cultivated | tree | - | 6m | tall | .\n",
      "\n",
      "\n",
      "No | field | notes | in | our | possession | .\n",
      "\n",
      "\n",
      "LAB | BORN | , | AGE | 125 | WEEKS\n",
      "\n",
      "\n",
      "Shrub | 10 | feet | tall | ; | Per | online | search | , | El | Rosario | is | in | Mpo | . | La | Independencia | ; | Niquivil | in | Mpo | . | Motozintla\n",
      "\n",
      "\n",
      "Occasional\n",
      "\n",
      "\n"
     ]
    }
   ],
   "source": [
    "udf_tokenize = sql.udf(tokens.tokenize, types.ArrayType(types.StringType()))\n",
    "\n",
    "notes_w_tokens = notes.withColumn('tokens', udf_tokenize(notes['document']))\n",
    "for r in notes_w_tokens.select(notes_w_tokens[\"tokens\"]).head(50):\n",
    "    print(\" | \".join(r[\"tokens\"]))\n",
    "    print(\"\\n\")"
   ]
  },
  {
   "cell_type": "code",
   "execution_count": 55,
   "metadata": {
    "collapsed": false
   },
   "outputs": [
    {
     "name": "stdout",
     "output_type": "stream",
     "text": [
      "root\n",
      " |-- document: string (nullable = true)\n",
      " |-- tokens: array (nullable = true)\n",
      " |    |-- element: string (containsNull = true)\n",
      "\n"
     ]
    }
   ],
   "source": [
    "notes_w_tokens.printSchema()"
   ]
  },
  {
   "cell_type": "code",
   "execution_count": 56,
   "metadata": {
    "collapsed": false
   },
   "outputs": [
    {
     "name": "stdout",
     "output_type": "stream",
     "text": [
      "[{'tag': 'NNP', 'word': 'Hello'}, {'tag': ',', 'word': ','}, {'tag': 'PRP$', 'word': 'my'}, {'tag': 'NN', 'word': 'name'}, {'tag': 'VBZ', 'word': 'is'}, {'tag': 'NNP', 'word': 'Mace'}, {'tag': 'NNP', 'word': 'Windoo'}]\n",
      "<type 'list'>\n",
      "<type 'dict'>\n",
      "<type 'str'>\n",
      "{'tag': 'NNP', 'word': 'Hello'}\n"
     ]
    }
   ],
   "source": [
    "from lib.pos_tags import PosTags\n",
    "pos_tags = PosTags()\n",
    "\n",
    "pos = pos_tags.tag(t)\n",
    "print(pos)\n",
    "print(type(pos))\n",
    "print(type(pos[0]))\n",
    "print(type(pos[0][\"tag\"]))\n",
    "print(pos[0])"
   ]
  },
  {
   "cell_type": "code",
   "execution_count": 57,
   "metadata": {
    "collapsed": false,
    "scrolled": false
   },
   "outputs": [
    {
     "name": "stdout",
     "output_type": "stream",
     "text": [
      "[ (NN) | USA (NNP) | : (:) | Ohio (NNP) | , (,) | Hocking (NNP) | Co. (NNP) | | (NNP) | Little (NNP) | Rocky (NNP) | Hollow| (NNP) | Gerdeman (NNP) | BS (NNP) | | (NNP) | 29 (CD) | V (NNP) | 1998 (CD) | | (CD) | ex (NN) | narceus (VBZ) | | (:) | ( (:) | Diplopoda (NNP) | : (:) | Spirobolidae (NNP) | ) (:) | | (:) | BSG98-0529-4 (-NONE-) | AL5523 (NNP) | ] (NNP) | [ (NNP) | Iphiopsididae (NNP) | | (NNP) | Narceolaelaps (NNP) | annularis (VBZ) | | (:) | Kethley (NNP) | 1978 (CD) | | (CD) | DN (NNP) | | (NNP) | det (NN) | . (.) | : (:) | Gerdeman (NNP) | 1998 (CD) | | (CD) | Lactophenol (NNP) | | (NNP) | Hoyer (NNP) | 's (POS) | | (NNP) | OSAL0004567 (NNP) | ] (NNP) | \n",
      "\n",
      "[ (NN) | Mexico (NNP) | X-26-32 (NNP) | City (NNP) | ] (NNP) | [ (NNP) | A. (NNP) | Dampf (NNP) | collr (NN) | ] (:) | \n",
      "\n",
      "Study (NNP) | skin (NN) | plus (VBZ) | tissues (NNS) | . (.) | Not (RB) | able (JJ) | to (TO) | sex (NN) | . (.) | Not (RB) | aged (VBD) | . (.) | Specimen (NNP) | collected (VBD) | on (IN) | joint (JJ) | California (NNP) | Academy (NNP) | of (IN) | Sciences/Kunming (JJ) | Institute (NNP) | of (IN) | Zoology (NNP) | Gaoligongshan (NNP) | ( (NNP) | GLGS (NNP) | ) (NNP) | Biodiversity (NNP) | Expedition (NNP) | . (.) | GLGS (NNP) | Locality (NNP) | No (NNP) | . (.) | 11 (CD) | , (,) | Net (JJ) | No (DT) | . (.) | 2 (CD) | . (.) | \n",
      "\n",
      "found (VBD) | on (IN) | Poliomintha (NNP) | incana (NN) | ( (:) | Torr (NNP) | . (.) | ) (:) | A (DT) | . (.) | Gray (NNP) | ( (NNP) | frosted (VBD) | mint (NN) | ) (:) | [ (:) | USDA (NNP) | ] (:) | \n",
      "\n",
      "Sterile (NNP) | \n",
      "\n",
      "Larva (NNP) | \n",
      "\n",
      "see (NN) | also (RB) | no (DT) | . (.) | 12465-94 (CD) | ; (:) | station (NN) | no (RB) | . (.) | 6 (CD) | ; (:) | 20 (CD) | specimens (NNS) | sent (VBN) | on (IN) | exchange (NN) | to (TO) | UMMZ (NNP) | . (.) | See (NNP) | field (NN) | notes (NNS) | ; (:) | see (VB) | also (RB) | UF20172 (NNP) | and (CC) | UF12465-94 (NNP) | . (.) | \n",
      "\n",
      "Small (JJ) | patch (NN) | of (IN) | plants (NNS) | . (.) | Shallow (NNP) | soil (NN) | at (IN) | base (NN) | of (IN) | granite (JJ) | canyon (NN) | wall (NN) | beside (NN) | Buffalo (NNP) | Bill (NNP) | Reservoir (NNP) | Dam (NNP) | . (.) | \n",
      "\n",
      "Numerous (JJ) | . (.) | At (IN) | least (JJS) | 3 (CD) | other (JJ) | inulae (NN) | in (IN) | some (DT) | place (NN) | . (.) | Flrs (NNS) | . (.) | and (CC) | foliage (NN) | have (VBP) | pointed (VBN) | appearance (NN) | . (.) | Grows (VBZ) | up (RP) | fairly (RB) | straight (JJ) | from (IN) | ground (NN) | . (.) | \n",
      "\n",
      "Freely (RB) | escaped (VBD) | or (CC) | naturalized (VBN) | . (.) | \n",
      "\n",
      "ACT (NN) | COLL (NNP) | DATE (NNP) | MAR (NNP) | 25-26 (CD) | KARYOTYPED (NNP) | 2N=24 (CD) | \n",
      "\n",
      "Herbarium (NN) | of (IN) | The (DT) | University (NNP) | of (IN) | Tennessee (NNP) | \n",
      "\n",
      "ACTUAL (NNP) | COLLECTION (NNP) | DATE (NNP) | AUGUST (NNP) | 25-SEPTEMBER (CD) | 2 (CD) | \n",
      "\n",
      "[ (NN) | SWEDEN (NNP) | : (:) | Västmanland (JJ) | , (,) | Kärrbo (NNP) | s (VBZ) | : (:) | n (NN) | , (,) | Solbacken (NNP) | ( (NNP) | RN (NNP) | 1552/6600 (CD) | ) (CD) | The (DT) | shore (NN) | of (IN) | Lake (NNP) | Mälaren (NNP) | ] (NNP) | [ (NNP) | 14-21.VIII.1988 (CD) | ] (CD) | \n",
      "\n",
      "BBP (NNP) | 5.12-6 (CD) | \n",
      "\n",
      "NOTEBY (NNP) | LLAMA (NNP) | , (,) | NOTEDATE (NNP) | 3-May-11 (CD) | : (:) | Along (JJ) | Sendero (NNP) | El (NNP) | Mojon (NNP) | where (WRB) | forest (JJS) | starts (NNS) | . (.) | \n",
      "\n",
      "Herbarium (NN) | of (IN) | the (DT) | University (NNP) | of (IN) | Pennsylvannia (NNP) | \n",
      "\n",
      "berlese (NN) | rainforest (VBD) | litter (NN) | \n",
      "\n",
      "From (IN) | UC (NNP) | Zool (NNP) | . (.) | Dept. (NNP) | , (,) | Berkeley (NNP) | , (,) | Calif. (NNP) | ; (:) | CAS (NNP) | 12114-27 (CD) | , (,) | 12129-33 (CD) | , (,) | 12135-46 (CD) | in (IN) | vials (NNS) | in (IN) | same (JJ) | jar (NN) | . (.) | Hydrographic (NNP) | sta (NN) | . (.) | 5102 (CD) | \n",
      "\n",
      "Exposed (VBN) | roadside (NN) | bank (NN) | , (,) | sandy (NN) | , (,) | moist (NN) | . (.) | \n",
      "\n",
      "Collected (NNP) | in (IN) | lindo (NN) | estero (NN) | ca (MD) | . (.) | 3 (CD) | km (NN) | N. (NNP) | W. (NNP) | from (IN) | camp (NN) | \n",
      "\n",
      "Sex (NNP) | questionable (JJ) | . (.) | \n",
      "\n",
      "mbined (VBD) | with (IN) | UF (NNP) | 10703 (CD) | . (.) | See (NNP) | field (NN) | notes (NNS) | . (.) | Collected (NNP) | 5-7 (CD) | Sept (NNP) | 1963 (CD) | . (.) | \n",
      "\n",
      "stored (VBD) | in (IN) | 70 (CD) | % (NN) | EtOH (NNP) | . (.) | this (DT) | locality (NN) | is (VBZ) | 5.3 (CD) | road-miles (NNS) | from (IN) | junc (NN) | of (IN) | St.Rte (JJ) | . (.) | 114 (CD) | in (IN) | Lyerly (NNP) | , (,) | and (CC) | about (IN) | 0.2 (CD) | mile (NN) | ENE (NNP) | of (IN) | AL-GA (NNP) | state (NN) | line (NN) | ; (:) | see (VB) | field (NN) | notes (NNS) | \n",
      "\n",
      "flight (NN) | intercept (VBD) | trap (NN) | \n",
      "\n",
      "Coral (NNP) | Triangle (NNP) | Exped (NNP) | . (.) | 2010 (CD) | \n",
      "\n",
      "Sigma (NNP) | XI (NNP) | Research (NNP) | Grant (NNP) | \n",
      "\n",
      "1 (LS) | paired (VBN) | bivalve (NN) | with (IN) | animal (JJ) | . (.) | Originally (RB) | fixed (VBN) | in (IN) | formalin (NN) | and (CC) | transferred (VBD) | to (TO) | 70 (CD) | % (NN) | ethanol (NN) | . (.) | Voucher (NNP) | marked (VBD) | # (#) | 19 (CD) | for (IN) | use (NN) | of (IN) | soft (JJ) | anatomy (NN) | description (NN) | in (IN) | Freshwater (NNP) | Mussels (NNP) | of (IN) | Alabama (NNP) | , (,) | JD (NNP) | Williams (NNP) | , (,) | et (NN) | al (NN) | . (.) | \n",
      "\n",
      "Mother (NNP) | from (IN) | stated (VBN) | locality (NN) | ; (:) | this (DT) | individual (NN) | born (NN) | in (IN) | Aquarium (NNP) | , (,) | 1951 (CD) | . (.) | \n",
      "\n",
      "Additional (JJ) | data (NNS) | on (IN) | card (NN) | . (.) | \n",
      "\n",
      "Accn (NNP) | # (#) | from (IN) | NPS (NNP) | : (:) | BIBE (NNP) | 1350 (CD) | \n",
      "\n",
      "Locally (RB) | common (JJ) | . (.) | Sandy (NNP) | areas (NNS) | . (.) | \n",
      "\n",
      "[ (NN) | Suidasia (NNP) | F (NNP) | + (NNP) | Sancassania (NNP) | N (NNP) | ] (NNP) | [ (NNP) | Ex (NNP) | Colon (NNP) | of (IN) | necropsied (JJ) | PIG (NNP) | fecal (JJ) | flotation (NN) | tech (NN) | | (:) | 30.VIII.75 (CD) | | (CD) | P. (NNP) | R. (NNP) | Fox (NNP) | ] (NNP) | \n",
      "\n",
      "Pitfall (NNP) | \n",
      "\n",
      "Additional (JJ) | data (NNS) | on (IN) | card (NN) | ; (:) | collected (VBN) | for (IN) | J. (NNP) | D. (NNP) | Sornborger (NNP) | \n",
      "\n",
      "Source (NN) | : (:) | specimen (NNS) | tags (NNS) | and (CC) | NCSM (NNP) | catalog (NN) | . (.) | \n",
      "\n",
      "south (NN) | sample (NN) | \n",
      "\n",
      "Paratype (NNP) | of (IN) | Kassina (NNP) | argyreivittis (VBZ) | ruandae (NN) | Laurent (NNP) | , (,) | 1956 (CD) | . (.) | \n",
      "\n",
      "Also (RB) | assigned (VBD) | number (NN) | SK-25 (-NONE-) | . (.) | Collected (NNP) | by (IN) | ES (NNP) | Wing (NNP) | , (,) | SJ (NNP) | Scudder (NNP) | & (CC) | Humphrey (NNP) | ; (:) | St. (NNP) | Christopher (NNP) | ( (NNP) | =St (NNP) | . (.) | Kitts (NNP) | ) (NNP) | . (.) | \n",
      "\n",
      "GOW (NNP) | 65 (CD) | Field (NNP) | Emergence (NNP) | Date (NNP) | 4/4/1965 (CD) | \n",
      "\n",
      "NOTEBY (NNP) | J. (NNP) | Longino (NNP) | , (,) | NOTEDATE (NNP) | 14-Jul-07 (CD) | : (:) | Litter (NNP) | brought (VBD) | back (RP) | to (TO) | San (NNP) | Cristobal (NNP) | , (,) | hung (JJ) | morning (NN) | of (IN) | 15 (CD) | July (NNP) | , (,) | 3 (CD) | mesh (JJ) | sacks (NNS) | filled (VBN) | , (,) | sample (JJ) | taken (NN) | off (RB) | afternoon (NN) | of (IN) | 19 (CD) | July (NNP) | . (.) | \n",
      "\n",
      "Plot (NN) | F (NN) | , (,) | Tree (NNP) | No (NNP) | . (.) | F-22 (-NONE-) | . (.) | \n",
      "\n",
      "2 (LS) | specimens (NNS) | aquarium (NN) | kept (VBD) | ; (:) | killed (VBN) | & (CC) | preserved (VBN) | 23 (CD) | March (NNP) | 1998 (CD) | \n",
      "\n",
      "Card (NN) | . (.) | \n",
      "\n",
      "With (IN) | drawing (NN) | \n",
      "\n",
      "Cultivated (NNP) | tree (VBP) | - (:) | 6m (CD) | tall (NN) | . (.) | \n",
      "\n",
      "No (DT) | field (NN) | notes (NNS) | in (IN) | our (PRP$) | possession (NN) | . (.) | \n",
      "\n",
      "LAB (NNP) | BORN (NNP) | , (,) | AGE (NNP) | 125 (CD) | WEEKS (NNS) | \n",
      "\n",
      "Shrub (NNP) | 10 (CD) | feet (NNS) | tall (JJ) | ; (:) | Per (NNP) | online (NN) | search (NN) | , (,) | El (NNP) | Rosario (NNP) | is (VBZ) | in (IN) | Mpo (NNP) | . (.) | La (NNP) | Independencia (NNP) | ; (:) | Niquivil (NNP) | in (IN) | Mpo (NNP) | . (.) | Motozintla (NNP) | \n",
      "\n",
      "Occasional (NNP) | \n",
      "\n"
     ]
    }
   ],
   "source": [
    "udf_part_of_speech = sql.udf(pos_tags.tag, types.ArrayType(\n",
    "                                    types.MapType(\n",
    "                                        types.StringType(),\n",
    "                                        types.StringType()\n",
    "                                    )\n",
    "                                )\n",
    "                            )\n",
    "\n",
    "notes_w_tokens2 = notes_w_tokens.withColumn('pos', \n",
    "                                            udf_part_of_speech(notes_w_tokens['tokens']))\n",
    "\n",
    "for r in notes_w_tokens2.select(notes_w_tokens2[\"pos\"]).head(50):\n",
    "    s = \"\"\n",
    "    for p in r[\"pos\"]:\n",
    "        s = s + p[\"word\"] + \" (\" + p[\"tag\"] + \") | \"\n",
    "    print(s + \"\\n\")"
   ]
  },
  {
   "cell_type": "code",
   "execution_count": 62,
   "metadata": {
    "collapsed": false,
    "scrolled": false
   },
   "outputs": [
    {
     "name": "stdout",
     "output_type": "stream",
     "text": [
      "root\n",
      " |-- document: string (nullable = true)\n",
      " |-- tokens: array (nullable = true)\n",
      " |    |-- element: string (containsNull = true)\n",
      " |-- pos: array (nullable = true)\n",
      " |    |-- element: map (containsNull = true)\n",
      " |    |    |-- key: string\n",
      " |    |    |-- value: string (valueContainsNull = true)\n",
      "\n"
     ]
    }
   ],
   "source": [
    "notes_w_tokens2.printSchema()"
   ]
  },
  {
   "cell_type": "code",
   "execution_count": 63,
   "metadata": {
    "collapsed": false,
    "scrolled": true
   },
   "outputs": [
    {
     "name": "stdout",
     "output_type": "stream",
     "text": [
      "+------------+\n",
      "|pos[0][word]|\n",
      "+------------+\n",
      "|[           |\n",
      "|[           |\n",
      "|Study       |\n",
      "+------------+\n",
      "only showing top 3 rows\n",
      "\n"
     ]
    }
   ],
   "source": [
    "# Can we work with maps natively?\n",
    "notes_w_tokens2.select(notes_w_tokens2[\"pos\"][0][\"word\"]).show(3, truncate=False)\n",
    "# YES!"
   ]
  },
  {
   "cell_type": "code",
   "execution_count": 60,
   "metadata": {
    "collapsed": false
   },
   "outputs": [
    {
     "name": "stdout",
     "output_type": "stream",
     "text": [
      "['Hello', 'name', 'Mace', 'Windoo']\n"
     ]
    }
   ],
   "source": [
    "# Split out words by type\n",
    "# Can't figure out how to access elements of a map in a filter so \n",
    "# build something that filters the lists for us.\n",
    "def find_pos(pos, part):\n",
    "    '''\n",
    "    Take a list of dicts that represent words tagged with\n",
    "    pos information and return a list of words that match\n",
    "    the requested pos\n",
    "    '''\n",
    "    retval = []\n",
    "    for p in pos:\n",
    "        if p[\"tag\"].startswith(part):\n",
    "            retval.append(p[\"word\"])\n",
    "    return retval\n",
    "\n",
    "print(find_pos(pos, \"NN\"))"
   ]
  },
  {
   "cell_type": "code",
   "execution_count": 61,
   "metadata": {
    "collapsed": true
   },
   "outputs": [],
   "source": [
    "# Can't figure out how to pass a single string to a UDF\n",
    "find_nouns_udf = sql.udf(lambda x: find_pos(x, \"NN\"), types.ArrayType(types.StringType()))\n"
   ]
  },
  {
   "cell_type": "code",
   "execution_count": 162,
   "metadata": {
    "collapsed": false
   },
   "outputs": [
    {
     "name": "stdout",
     "output_type": "stream",
     "text": [
      "+-----+\n",
      "| word|\n",
      "+-----+\n",
      "|cloud|\n",
      "|sappy|\n",
      "| bark|\n",
      "+-----+\n",
      "only showing top 3 rows\n",
      "\n"
     ]
    }
   ],
   "source": [
    "nouns = notes_w_tokens2\\\n",
    "    .select(sql.explode(find_nouns_udf(notes_w_tokens2[\"pos\"])).alias(\"word\"))\n",
    "nouns.cache()\n",
    "nouns.show(3)"
   ]
  },
  {
   "cell_type": "code",
   "execution_count": 168,
   "metadata": {
    "collapsed": false
   },
   "outputs": [
    {
     "name": "stdout",
     "output_type": "stream",
     "text": [
      "+----------+-----+\n",
      "|      word|count|\n",
      "+----------+-----+\n",
      "|         [|43176|\n",
      "|         ]|27293|\n",
      "|      data|16949|\n",
      "|     notes|14227|\n",
      "|      card|11475|\n",
      "|     field|10874|\n",
      "|      trap|10457|\n",
      "|       See|10227|\n",
      "|      soil|10045|\n",
      "|         ||10035|\n",
      "|collection| 9629|\n",
      "|         S| 9596|\n",
      "|    forest| 9478|\n",
      "|         (| 9363|\n",
      "|      Alch| 8557|\n",
      "|    litter| 8281|\n",
      "|       Co.| 7984|\n",
      "|    NOTEBY| 7062|\n",
      "|         m| 7059|\n",
      "|    Number| 6985|\n",
      "|    flight| 6847|\n",
      "| Herbarium| 6837|\n",
      "|Collection| 6719|\n",
      "|         C| 6298|\n",
      "|         )| 6151|\n",
      "|         W| 5951|\n",
      "|  specimen| 5936|\n",
      "|  NOTEDATE| 5689|\n",
      "|   prairie| 5583|\n",
      "|      tall| 5373|\n",
      "+----------+-----+\n",
      "only showing top 30 rows\n",
      "\n"
     ]
    }
   ],
   "source": [
    "noun_counts = nouns\\\n",
    "    .groupBy(\"word\")\\\n",
    "    .count()\\\n",
    "    .orderBy(\"count\", ascending=False)\\\n",
    "    \n",
    "noun_counts.show(30)"
   ]
  },
  {
   "cell_type": "code",
   "execution_count": 169,
   "metadata": {
    "collapsed": false
   },
   "outputs": [
    {
     "data": {
      "text/plain": [
       "DataFrame[word: string, count: bigint]"
      ]
     },
     "execution_count": 169,
     "metadata": {},
     "output_type": "execute_result"
    }
   ],
   "source": [
    "noun_counts.cache()"
   ]
  },
  {
   "cell_type": "code",
   "execution_count": 171,
   "metadata": {
    "collapsed": false
   },
   "outputs": [
    {
     "name": "stdout",
     "output_type": "stream",
     "text": [
      "+--------------------+-----+\n",
      "|                word|count|\n",
      "+--------------------+-----+\n",
      "|                R32W|    1|\n",
      "|                Lehm|    1|\n",
      "|                 CFS|    1|\n",
      "|Gaultheria-Vaccinium|    1|\n",
      "|          Slimbridge|    1|\n",
      "|             CUTLEAF|    1|\n",
      "|              ywllow|    1|\n",
      "|             FURNACE|    1|\n",
      "|             litosol|    1|\n",
      "|            prosrate|    1|\n",
      "|            CAS/HBOI|    1|\n",
      "|                 tim|    1|\n",
      "|          OSAL001066|    1|\n",
      "|              km80.2|    1|\n",
      "|            elkoense|    1|\n",
      "|det_comments:29.8...|    1|\n",
      "|             videtai|    1|\n",
      "|              Pledad|    1|\n",
      "|               IV-19|    1|\n",
      "|                 BRH|    1|\n",
      "|           ATTENDING|    1|\n",
      "|            bivelves|    1|\n",
      "|              Khybeu|    1|\n",
      "|            Oonopsis|    1|\n",
      "|                Exs.|    1|\n",
      "|          VI-27-1933|    1|\n",
      "|               Refer|    1|\n",
      "|          truncicola|    1|\n",
      "|           suberecta|    1|\n",
      "|           rosy-pink|    1|\n",
      "+--------------------+-----+\n",
      "only showing top 30 rows\n",
      "\n"
     ]
    }
   ],
   "source": [
    "noun_counts.orderBy(noun_counts[\"count\"]).show(30)"
   ]
  },
  {
   "cell_type": "code",
   "execution_count": 187,
   "metadata": {
    "collapsed": false
   },
   "outputs": [
    {
     "name": "stdout",
     "output_type": "stream",
     "text": [
      "    word  count\n",
      "0      [  43176\n",
      "1      ]  27293\n",
      "2   data  16949\n",
      "3  notes  14227\n",
      "4   card  11475\n"
     ]
    }
   ],
   "source": [
    "noun_counts_pdf = noun_counts.limit(1000).toPandas()\n",
    "print(noun_counts_pdf.head())\n",
    "\n",
    "tuples = []\n",
    "for l in noun_counts_pdf.iterrows():\n",
    "    tuples.append( (l[1], l[0]) )"
   ]
  },
  {
   "cell_type": "code",
   "execution_count": 186,
   "metadata": {
    "collapsed": false
   },
   "outputs": [
    {
     "ename": "ValueError",
     "evalue": "The truth value of a Series is ambiguous. Use a.empty, a.bool(), a.item(), a.any() or a.all().",
     "output_type": "error",
     "traceback": [
      "\u001b[1;31m---------------------------------------------------------------------------\u001b[0m",
      "\u001b[1;31mValueError\u001b[0m                                Traceback (most recent call last)",
      "\u001b[1;32m<ipython-input-186-d1d9a105dc58>\u001b[0m in \u001b[0;36m<module>\u001b[1;34m()\u001b[0m\n\u001b[0;32m      2\u001b[0m \u001b[1;32mfrom\u001b[0m \u001b[0mwordcloud\u001b[0m \u001b[1;32mimport\u001b[0m \u001b[0mWordCloud\u001b[0m\u001b[1;33m\u001b[0m\u001b[0m\n\u001b[0;32m      3\u001b[0m \u001b[1;33m\u001b[0m\u001b[0m\n\u001b[1;32m----> 4\u001b[1;33m \u001b[0mwordcloud\u001b[0m \u001b[1;33m=\u001b[0m \u001b[0mWordCloud\u001b[0m\u001b[1;33m(\u001b[0m\u001b[1;33m)\u001b[0m\u001b[1;33m.\u001b[0m\u001b[0mgenerate_from_frequencies\u001b[0m\u001b[1;33m(\u001b[0m\u001b[0mtuples\u001b[0m\u001b[1;33m)\u001b[0m\u001b[1;33m\u001b[0m\u001b[0m\n\u001b[0m",
      "\u001b[1;32m/usr/local/lib/python2.7/dist-packages/wordcloud/wordcloud.pyc\u001b[0m in \u001b[0;36mgenerate_from_frequencies\u001b[1;34m(self, frequencies)\u001b[0m\n\u001b[0;32m    261\u001b[0m         \"\"\"\n\u001b[0;32m    262\u001b[0m         \u001b[1;31m# make sure frequencies are sorted and normalized\u001b[0m\u001b[1;33m\u001b[0m\u001b[1;33m\u001b[0m\u001b[0m\n\u001b[1;32m--> 263\u001b[1;33m         \u001b[0mfrequencies\u001b[0m \u001b[1;33m=\u001b[0m \u001b[0msorted\u001b[0m\u001b[1;33m(\u001b[0m\u001b[0mfrequencies\u001b[0m\u001b[1;33m,\u001b[0m \u001b[0mkey\u001b[0m\u001b[1;33m=\u001b[0m\u001b[0mitem1\u001b[0m\u001b[1;33m,\u001b[0m \u001b[0mreverse\u001b[0m\u001b[1;33m=\u001b[0m\u001b[0mTrue\u001b[0m\u001b[1;33m)\u001b[0m\u001b[1;33m\u001b[0m\u001b[0m\n\u001b[0m\u001b[0;32m    264\u001b[0m         \u001b[0mfrequencies\u001b[0m \u001b[1;33m=\u001b[0m \u001b[0mfrequencies\u001b[0m\u001b[1;33m[\u001b[0m\u001b[1;33m:\u001b[0m\u001b[0mself\u001b[0m\u001b[1;33m.\u001b[0m\u001b[0mmax_words\u001b[0m\u001b[1;33m]\u001b[0m\u001b[1;33m\u001b[0m\u001b[0m\n\u001b[0;32m    265\u001b[0m         \u001b[1;31m# largest entry will be 1\u001b[0m\u001b[1;33m\u001b[0m\u001b[1;33m\u001b[0m\u001b[0m\n",
      "\u001b[1;32m/usr/local/lib/python2.7/dist-packages/pandas/core/generic.pyc\u001b[0m in \u001b[0;36m__nonzero__\u001b[1;34m(self)\u001b[0m\n\u001b[0;32m    712\u001b[0m         raise ValueError(\"The truth value of a {0} is ambiguous. \"\n\u001b[0;32m    713\u001b[0m                          \u001b[1;34m\"Use a.empty, a.bool(), a.item(), a.any() or a.all().\"\u001b[0m\u001b[1;33m\u001b[0m\u001b[0m\n\u001b[1;32m--> 714\u001b[1;33m                          .format(self.__class__.__name__))\n\u001b[0m\u001b[0;32m    715\u001b[0m \u001b[1;33m\u001b[0m\u001b[0m\n\u001b[0;32m    716\u001b[0m     \u001b[0m__bool__\u001b[0m \u001b[1;33m=\u001b[0m \u001b[0m__nonzero__\u001b[0m\u001b[1;33m\u001b[0m\u001b[0m\n",
      "\u001b[1;31mValueError\u001b[0m: The truth value of a Series is ambiguous. Use a.empty, a.bool(), a.item(), a.any() or a.all()."
     ]
    }
   ],
   "source": [
    "%matplotlib inline\n",
    "from wordcloud import WordCloud\n",
    "\n",
    "wordcloud = WordCloud().generate_from_frequencies(tuples)"
   ]
  },
  {
   "cell_type": "code",
   "execution_count": null,
   "metadata": {
    "collapsed": true
   },
   "outputs": [],
   "source": [
    "# And some verbs"
   ]
  }
 ],
 "metadata": {
  "kernelspec": {
   "display_name": "Python 2",
   "language": "python",
   "name": "python2"
  },
  "language_info": {
   "codemirror_mode": {
    "name": "ipython",
    "version": 2
   },
   "file_extension": ".py",
   "mimetype": "text/x-python",
   "name": "python",
   "nbconvert_exporter": "python",
   "pygments_lexer": "ipython2",
   "version": "2.7.6"
  }
 },
 "nbformat": 4,
 "nbformat_minor": 0
}

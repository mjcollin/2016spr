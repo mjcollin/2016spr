{
 "cells": [
  {
   "cell_type": "markdown",
   "metadata": {},
   "source": [
    "# Identifying entities in notes\n",
    "\n",
    "Goal of this notebook is to determine how successful entity identification is using\n"
   ]
  },
  {
   "cell_type": "code",
   "execution_count": 1,
   "metadata": {
    "collapsed": false
   },
   "outputs": [
    {
     "name": "stderr",
     "output_type": "stream",
     "text": [
      ":0: FutureWarning: IPython widgets are experimental and may change in the future.\n"
     ]
    }
   ],
   "source": [
    "%matplotlib inline\n",
    "from __future__ import print_function\n",
    "import os\n",
    "from pyspark import SQLContext\n",
    "from pyspark.sql import Row\n",
    "import pyspark.sql.functions as sql\n",
    "#from pyspark.sql.functions import udf, length\n",
    "import matplotlib.pyplot as plt\n",
    "import numpy\n",
    "import math\n",
    "import matplotlib.pyplot as plt\n",
    "import seaborn as sns\n",
    "\n",
    "import nltk\n",
    "import pyspark.ml.feature as feature"
   ]
  },
  {
   "cell_type": "code",
   "execution_count": 2,
   "metadata": {
    "collapsed": false
   },
   "outputs": [
    {
     "name": "stdout",
     "output_type": "stream",
     "text": [
      "3232459\n",
      "323405\n"
     ]
    }
   ],
   "source": [
    "# Load Processed Parquet\n",
    "sqlContext = SQLContext(sc)\n",
    "notes = sqlContext.read.parquet(\"../data/idigbio_notes.parquet\")\n",
    "total_records = notes.count()\n",
    "print(total_records)\n",
    "# Small sample of the df\n",
    "notes = notes.sample(withReplacement=False, fraction=0.1)\n",
    "notes.cache()\n",
    "print(notes.count())"
   ]
  },
  {
   "cell_type": "code",
   "execution_count": 3,
   "metadata": {
    "collapsed": false
   },
   "outputs": [
    {
     "name": "stdout",
     "output_type": "stream",
     "text": [
      " 9:00-14:00. Collected in mixed primary and secondary growth, immature or regenerating forest, on limestone forest floor. \n",
      "\n",
      "Study skin plus tissues. Not able to sex. Not aged. Specimen collected on joint California Academy of Sciences/Kunming Institute of Zoology Gaoligongshan (GLGS) Biodiversity Expedition. GLGS Locality No. 11, Net No. 2.  \n",
      "\n",
      " Roadside bank along pasture, brushy. \n",
      "\n",
      " cloud forest under sappy fermenting bark \n",
      "\n",
      "This specimen is stored in the indet. Mycena box  \n",
      "\n",
      "WHITE PINE-HEMLOCK-BEECH-MAPLE-OAK   HEAVY LITTER MANY LARGE TREES  \n",
      "\n",
      "Small patch of plants. Shallow soil at base of granite canyon wall beside Buffalo Bill Reservoir Dam. \n",
      "\n",
      "Annual herb, 40 cm. tall, tiny purple & green flowers, infrequent.  \n",
      "\n",
      "Substrate: soil and moss. AdditionalNotesPresent=Y.  \n",
      "\n",
      " ridge  for. litter berlese forest litter \n",
      "\n",
      "Notes with collection J. Elisha Mitchell Sci. Soc. 1946 62: 199.  \n",
      "\n",
      "NO NOTES  \n",
      "\n",
      "Lost in the earthquake and fire of 1906.  \n",
      "\n",
      "  [Zimipan Hdq. K.222 10-31-45] [DeLong Hershberger Elliot]\n",
      "\n",
      "2200 h  \n",
      "\n",
      "Accn # from NPS: BIBE 1350  \n",
      "\n",
      "ON CARPINUS CAROLINIANA  \n",
      "\n",
      "2nd Sheet.  Sheet 1: CAS 413727, barcode 279901.  \n",
      "\n",
      "Ex Herb. Hort Reg. Kew.  \n",
      "\n",
      "specimens in original lot; 1 See field notes. Collected 21-22 August. Same as G-8-2166-2. \n",
      "\n"
     ]
    }
   ],
   "source": [
    "for r in notes.head(20):\n",
    "    print(r['document'] + \"\\n\")"
   ]
  },
  {
   "cell_type": "markdown",
   "metadata": {},
   "source": [
    "## Sentence detection\n",
    "\n",
    "Does splitting in to sentences matter? Is there enough information to do this with a natural language library or should things like \",\" \"[]\", and \"{}\" be worked in to address semi-structured data?"
   ]
  },
  {
   "cell_type": "markdown",
   "metadata": {},
   "source": [
    "## Tokenize documents\n"
   ]
  },
  {
   "cell_type": "code",
   "execution_count": 17,
   "metadata": {
    "collapsed": false
   },
   "outputs": [],
   "source": [
    "def tokenize(s):\n",
    "    '''\n",
    "    Take a string and return a list of tokens split out from it\n",
    "    with the nltk library\n",
    "    '''\n",
    "    return nltk.tokenize.word_tokenize(s)\n",
    "\n",
    "udf_tokenize = sql.udf(tokenize)\n",
    "\n",
    "notes_w_tokens = notes.withColumn('tokens', udf_tokenize(notes['document']))"
   ]
  },
  {
   "cell_type": "code",
   "execution_count": 18,
   "metadata": {
    "collapsed": false
   },
   "outputs": [
    {
     "name": "stdout",
     "output_type": "stream",
     "text": [
      "Row(uuid=u'18e8da12-02c7-4e08-b16d-c40a5d745f69', occurrenceID=u'b0a2c52a-b069-11e3-8cfe-90b11c41863e', catalogNumber=u'323300', county=u'Municipality of San Luis', institutionCode=u'KU', country=u'Philippines', countryCode=u'', stateProvince=u'Aurora Province', family=u'Scincidae', recordedBy=u'', order=u'Sauria', specificEpithet=u'abdictus', genus=u'Sphenomorphus', sex=u'', scientificName=u'Sphenomorphus abdictus aquilonius', year=u'', month=u'', fieldNotes=u'', occurrenceRemarks=u'', eventRemarks=u'9:00-14:00. Collected in mixed primary and secondary growth, immature or regenerating forest, on limestone forest floor.', document=u' 9:00-14:00. Collected in mixed primary and secondary growth, immature or regenerating forest, on limestone forest floor. ', document_len=122, fieldNotes_len=0, eventRemarks_len=120, occurrenceRemarks_len=0, tokens=u'[9:00-14:00, ., Collected, in, mixed, primary, and, secondary, growth, ,, immature, or, regenerating, forest, ,, on, limestone, forest, floor, .]')\n"
     ]
    }
   ],
   "source": [
    "print(notes_w_tokens.head())"
   ]
  },
  {
   "cell_type": "code",
   "execution_count": 13,
   "metadata": {
    "collapsed": false
   },
   "outputs": [
    {
     "name": "stdout",
     "output_type": "stream",
     "text": [
      "[('9:00-14:00', 'CD'), ('.', '.'), ('Collected', 'NNP')]\n"
     ]
    }
   ],
   "source": [
    "t = [\"9:00-14:00\", \".\", \"Collected\"]\n",
    "print(nltk.pos_tag(t))"
   ]
  },
  {
   "cell_type": "code",
   "execution_count": null,
   "metadata": {
    "collapsed": true
   },
   "outputs": [],
   "source": [
    "#df = "
   ]
  },
  {
   "cell_type": "code",
   "execution_count": 19,
   "metadata": {
    "collapsed": false
   },
   "outputs": [],
   "source": [
    "def part_of_speech(t):\n",
    "    '''\n",
    "    With a list of tokens, mark their part of speech and return\n",
    "    a list of tuples.\n",
    "    '''\n",
    "    return nltk.pos_tag(t)\n",
    "\n",
    "udf_part_of_speech = sql.udf(part_of_speech)\n",
    "notes_w_tokens2 = notes_w_tokens.withColumn('pos', udf_part_of_speech(notes_w_tokens['tokens']))"
   ]
  },
  {
   "cell_type": "code",
   "execution_count": 20,
   "metadata": {
    "collapsed": false
   },
   "outputs": [
    {
     "name": "stdout",
     "output_type": "stream",
     "text": [
      "[[Ljava.lang.Object;@5ce7a7c0, [Ljava.lang.Object;@7701b7da, [Ljava.lang.Object;@69e30e71, [Ljava.lang.Object;@40b1b01f, [Ljava.lang.Object;@2189d66e, [Ljava.lang.Object;@5bcc0ae2, [Ljava.lang.Object;@2a2d076c, [Ljava.lang.Object;@67516b7e, [Ljava.lang.Object;@804eb5c, [Ljava.lang.Object;@33247ba4, [Ljava.lang.Object;@71f00ccb, [Ljava.lang.Object;@1d968310, [Ljava.lang.Object;@3267c5f5, [Ljava.lang.Object;@228e6146, [Ljava.lang.Object;@5369a788, [Ljava.lang.Object;@7ace20f6, [Ljava.lang.Object;@768a0a37, [Ljava.lang.Object;@275fd1f1, [Ljava.lang.Object;@39146775, [Ljava.lang.Object;@32d63931, [Ljava.lang.Object;@142b56ee, [Ljava.lang.Object;@4d22ddc3, [Ljava.lang.Object;@579724dd, [Ljava.lang.Object;@540b80af, [Ljava.lang.Object;@1ad920e6, [Ljava.lang.Object;@41ce3abb, [Ljava.lang.Object;@2f914f93, [Ljava.lang.Object;@2717ac36, [Ljava.lang.Object;@749a6622, [Ljava.lang.Object;@44b191e8, [Ljava.lang.Object;@6179a33a, [Ljava.lang.Object;@7b95c53f, [Ljava.lang.Object;@5c990719, [Ljava.lang.Object;@146fe3b3, [Ljava.lang.Object;@38a3e277, [Ljava.lang.Object;@6d4a6461, [Ljava.lang.Object;@797f071e, [Ljava.lang.Object;@12e611f9, [Ljava.lang.Object;@3571f988, [Ljava.lang.Object;@b26fa2b, [Ljava.lang.Object;@a604ba6, [Ljava.lang.Object;@282bfaca, [Ljava.lang.Object;@122cfbfe, [Ljava.lang.Object;@2ee7bc32, [Ljava.lang.Object;@26d2ef33, [Ljava.lang.Object;@5158ac89, [Ljava.lang.Object;@245e4e57, [Ljava.lang.Object;@37cb60c2, [Ljava.lang.Object;@651aa7f, [Ljava.lang.Object;@127962d8, [Ljava.lang.Object;@4483aa36, [Ljava.lang.Object;@28a21f14, [Ljava.lang.Object;@23ab5a2d, [Ljava.lang.Object;@7a9d8322, [Ljava.lang.Object;@2316545d, [Ljava.lang.Object;@1bf4a594, [Ljava.lang.Object;@6277eef5, [Ljava.lang.Object;@74e5e50a, [Ljava.lang.Object;@6540f377, [Ljava.lang.Object;@5b26324e, [Ljava.lang.Object;@67b7f99, [Ljava.lang.Object;@5d6d07e9, [Ljava.lang.Object;@3f548c78, [Ljava.lang.Object;@558a7d9e, [Ljava.lang.Object;@8d04701, [Ljava.lang.Object;@3d374bbd, [Ljava.lang.Object;@269b372f, [Ljava.lang.Object;@20fbc8ef, [Ljava.lang.Object;@2a197bbe, [Ljava.lang.Object;@2df4a7e3, [Ljava.lang.Object;@52a9cf3d, [Ljava.lang.Object;@2c6bc937, [Ljava.lang.Object;@4dce838f, [Ljava.lang.Object;@458dfe6a, [Ljava.lang.Object;@594111c1, [Ljava.lang.Object;@2b1159af, [Ljava.lang.Object;@12fa65b9, [Ljava.lang.Object;@382ea722, [Ljava.lang.Object;@693076ff, [Ljava.lang.Object;@48cd9657, [Ljava.lang.Object;@95bf55a, [Ljava.lang.Object;@440144e4, [Ljava.lang.Object;@2eec5515, [Ljava.lang.Object;@a3711b1, [Ljava.lang.Object;@5c90c488, [Ljava.lang.Object;@12788d9a, [Ljava.lang.Object;@5ef0263d, [Ljava.lang.Object;@6cf80ecb, [Ljava.lang.Object;@36962358, [Ljava.lang.Object;@60d46c4d, [Ljava.lang.Object;@3fca6fa4, [Ljava.lang.Object;@1368a0c0, [Ljava.lang.Object;@1463dd16, [Ljava.lang.Object;@57166dd3, [Ljava.lang.Object;@3b4d8fda, [Ljava.lang.Object;@6df546d3, [Ljava.lang.Object;@6774bd16, [Ljava.lang.Object;@3682cde, [Ljava.lang.Object;@540c5036, [Ljava.lang.Object;@138857ba, [Ljava.lang.Object;@5156d4d0, [Ljava.lang.Object;@139a1cf8, [Ljava.lang.Object;@25a1735d, [Ljava.lang.Object;@7445d5d4, [Ljava.lang.Object;@13d27fd8, [Ljava.lang.Object;@506cdc86, [Ljava.lang.Object;@7ef9664d, [Ljava.lang.Object;@2448f733, [Ljava.lang.Object;@24e460dd, [Ljava.lang.Object;@12da102b, [Ljava.lang.Object;@27a4d733, [Ljava.lang.Object;@44365d9b, [Ljava.lang.Object;@43532f48, [Ljava.lang.Object;@1ca3441, [Ljava.lang.Object;@567604, [Ljava.lang.Object;@76fa2910, [Ljava.lang.Object;@2c0961e8, [Ljava.lang.Object;@7cb12014, [Ljava.lang.Object;@4fe49fd0, [Ljava.lang.Object;@68f19d95, [Ljava.lang.Object;@f10b742, [Ljava.lang.Object;@7a549734, [Ljava.lang.Object;@11a59db1, [Ljava.lang.Object;@755ca725, [Ljava.lang.Object;@7ffca46b, [Ljava.lang.Object;@21cf7197, [Ljava.lang.Object;@1c3a380a, [Ljava.lang.Object;@ccfd127, [Ljava.lang.Object;@168ae329, [Ljava.lang.Object;@4c136ba6, [Ljava.lang.Object;@124e046, [Ljava.lang.Object;@73904fac, [Ljava.lang.Object;@3242695c, [Ljava.lang.Object;@655b6ae9, [Ljava.lang.Object;@435b80d4, [Ljava.lang.Object;@32c75a3c, [Ljava.lang.Object;@136ecdb1, [Ljava.lang.Object;@2d5ce117, [Ljava.lang.Object;@321e9948, [Ljava.lang.Object;@3a80338d, [Ljava.lang.Object;@5fe66229, [Ljava.lang.Object;@1578749b, [Ljava.lang.Object;@536a7ba5, [Ljava.lang.Object;@68cd261e, [Ljava.lang.Object;@4d6f604]\n"
     ]
    }
   ],
   "source": [
    "print(notes_w_tokens2.head()['pos'])"
   ]
  }
 ],
 "metadata": {
  "kernelspec": {
   "display_name": "Python 2",
   "language": "python",
   "name": "python2"
  },
  "language_info": {
   "codemirror_mode": {
    "name": "ipython",
    "version": 2
   },
   "file_extension": ".py",
   "mimetype": "text/x-python",
   "name": "python",
   "nbconvert_exporter": "python",
   "pygments_lexer": "ipython2",
   "version": "2.7.6"
  }
 },
 "nbformat": 4,
 "nbformat_minor": 0
}

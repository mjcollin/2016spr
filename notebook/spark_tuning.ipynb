{
 "cells": [
  {
   "cell_type": "markdown",
   "metadata": {},
   "source": [
    "Tuning of spark to make sure multiple cores are used.\n"
   ]
  },
  {
   "cell_type": "code",
   "execution_count": 1,
   "metadata": {
    "collapsed": false
   },
   "outputs": [],
   "source": [
    "from __future__ import print_function\n",
    "import os\n",
    "from pyspark import SQLContext\n",
    "from pyspark.sql.functions import length\n",
    "#from pyspark.sql.GroupedData import sum"
   ]
  },
  {
   "cell_type": "code",
   "execution_count": 2,
   "metadata": {
    "collapsed": true
   },
   "outputs": [],
   "source": [
    "# Load iDigBio Parquet\n",
    "sqlContext = SQLContext(sc)\n",
    "idbdf = sqlContext.read.parquet(\"../data/idigbio/occurrence.txt.parquet\")\n",
    "#idbdf = sqlContext.read.parquet(\"../data/idigbio-100k/occurrence.txt.parquet\")"
   ]
  },
  {
   "cell_type": "code",
   "execution_count": 3,
   "metadata": {
    "collapsed": false
   },
   "outputs": [
    {
     "name": "stdout",
     "output_type": "stream",
     "text": [
      "15457224\n"
     ]
    }
   ],
   "source": [
    "print(idbdf.count())"
   ]
  },
  {
   "cell_type": "code",
   "execution_count": 27,
   "metadata": {
    "collapsed": false
   },
   "outputs": [
    {
     "name": "stdout",
     "output_type": "stream",
     "text": [
      "593399\n"
     ]
    },
    {
     "data": {
      "text/plain": [
       "Row(country=u'Cyprus', sum(len)=1304)"
      ]
     },
     "execution_count": 27,
     "metadata": {},
     "output_type": "execute_result"
    }
   ],
   "source": [
    "# This takes < 10 seconds\n",
    "notes = idbdf.filter(idbdf['`http://rs.tdwg.org/dwc/terms/fieldNotes`'] != \"\")\n",
    "print(notes.count())\n",
    "lengths = notes.select(notes['`http://rs.tdwg.org/dwc/terms/country`'].alias('country'), \n",
    "                       length(notes['`http://rs.tdwg.org/dwc/terms/fieldNotes`']).alias(\"len\"))\n",
    "lengths.groupby('country').sum('len').collect()[0]"
   ]
  },
  {
   "cell_type": "code",
   "execution_count": 3,
   "metadata": {
    "collapsed": false
   },
   "outputs": [
    {
     "name": "stdout",
     "output_type": "stream",
     "text": [
      "1430710\n"
     ]
    }
   ],
   "source": [
    "# This takes longer\n",
    "\n",
    "# json decode http://rs.tdwg.org/dwc/terms/dynamicProperties\n",
    "dynamics = idbdf.filter(idbdf['`http://rs.tdwg.org/dwc/terms/dynamicProperties`'] != \"\")\n",
    "print(dynamics.count())"
   ]
  },
  {
   "cell_type": "code",
   "execution_count": 4,
   "metadata": {
    "collapsed": false
   },
   "outputs": [
    {
     "data": {
      "text/plain": [
       "8"
      ]
     },
     "execution_count": 4,
     "metadata": {},
     "output_type": "execute_result"
    }
   ],
   "source": [
    "import json\n",
    "def decode_json(s):\n",
    "    try:\n",
    "        return json.loads(s)\n",
    "    except:\n",
    "        return \"\"\n",
    "\n",
    "#print(decode_json('{\"name\":\"asdf\",\"top\":true}'))\n",
    "\n",
    "from pyspark.sql.functions import udf\n",
    "udf_decode_json = udf(decode_json)\n",
    "decoded = dynamics.withColumn('decoded_properties', \n",
    "                    udf_decode_json(dynamics['`http://rs.tdwg.org/dwc/terms/dynamicProperties`']))\n",
    "#decoded.cache()\n",
    "\n",
    "good_decodes = decoded.filter(decoded['decoded_properties'] != \"\")\n",
    "good_decodes.count()"
   ]
  }
 ],
 "metadata": {
  "kernelspec": {
   "display_name": "Python 2",
   "language": "python",
   "name": "python2"
  },
  "language_info": {
   "codemirror_mode": {
    "name": "ipython",
    "version": 2
   },
   "file_extension": ".py",
   "mimetype": "text/x-python",
   "name": "python",
   "nbconvert_exporter": "python",
   "pygments_lexer": "ipython2",
   "version": "2.7.6"
  }
 },
 "nbformat": 4,
 "nbformat_minor": 0
}

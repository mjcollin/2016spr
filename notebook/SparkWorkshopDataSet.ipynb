{
 "cells": [
  {
   "cell_type": "code",
   "execution_count": 1,
   "metadata": {
    "collapsed": false
   },
   "outputs": [
    {
     "name": "stderr",
     "output_type": "stream",
     "text": [
      ":0: FutureWarning: IPython widgets are experimental and may change in the future.\n"
     ]
    }
   ],
   "source": [
    "%matplotlib inline\n",
    "from __future__ import print_function\n",
    "import os\n",
    "from pyspark import SQLContext\n",
    "from pyspark.sql import Row\n",
    "import pyspark.sql.functions as sql\n",
    "#from pyspark.sql.functions import udf, length\n",
    "import matplotlib.pyplot as plt\n",
    "import numpy\n",
    "import math\n",
    "import matplotlib.pyplot as plt\n",
    "import seaborn as sns\n",
    "\n",
    "import nltk\n",
    "import pyspark.ml.feature as feature"
   ]
  },
  {
   "cell_type": "code",
   "execution_count": 7,
   "metadata": {
    "collapsed": false
   },
   "outputs": [
    {
     "name": "stdout",
     "output_type": "stream",
     "text": [
      "1\n"
     ]
    }
   ],
   "source": [
    "sqlContext = SQLContext(sc)\n",
    "comments = sqlContext.read.json(\"../data/HackerNews/small.json\")\n",
    "total_comments = comments.count()\n",
    "print(total_comments)"
   ]
  },
  {
   "cell_type": "code",
   "execution_count": 8,
   "metadata": {
    "collapsed": false
   },
   "outputs": [
    {
     "name": "stdout",
     "output_type": "stream",
     "text": [
      "root\n",
      " |-- hits: array (nullable = true)\n",
      " |    |-- element: struct (containsNull = true)\n",
      " |    |    |-- _highlightResult: struct (nullable = true)\n",
      " |    |    |    |-- author: struct (nullable = true)\n",
      " |    |    |    |    |-- matchLevel: string (nullable = true)\n",
      " |    |    |    |    |-- matchedWords: array (nullable = true)\n",
      " |    |    |    |    |    |-- element: string (containsNull = true)\n",
      " |    |    |    |    |-- value: string (nullable = true)\n",
      " |    |    |    |-- comment_text: struct (nullable = true)\n",
      " |    |    |    |    |-- matchLevel: string (nullable = true)\n",
      " |    |    |    |    |-- matchedWords: array (nullable = true)\n",
      " |    |    |    |    |    |-- element: string (containsNull = true)\n",
      " |    |    |    |    |-- value: string (nullable = true)\n",
      " |    |    |    |-- story_title: struct (nullable = true)\n",
      " |    |    |    |    |-- matchLevel: string (nullable = true)\n",
      " |    |    |    |    |-- matchedWords: array (nullable = true)\n",
      " |    |    |    |    |    |-- element: string (containsNull = true)\n",
      " |    |    |    |    |-- value: string (nullable = true)\n",
      " |    |    |    |-- story_url: struct (nullable = true)\n",
      " |    |    |    |    |-- matchLevel: string (nullable = true)\n",
      " |    |    |    |    |-- matchedWords: array (nullable = true)\n",
      " |    |    |    |    |    |-- element: string (containsNull = true)\n",
      " |    |    |    |    |-- value: string (nullable = true)\n",
      " |    |    |-- _tags: array (nullable = true)\n",
      " |    |    |    |-- element: string (containsNull = true)\n",
      " |    |    |-- author: string (nullable = true)\n",
      " |    |    |-- comment_text: string (nullable = true)\n",
      " |    |    |-- created_at: string (nullable = true)\n",
      " |    |    |-- created_at_i: long (nullable = true)\n",
      " |    |    |-- num_comments: string (nullable = true)\n",
      " |    |    |-- objectID: string (nullable = true)\n",
      " |    |    |-- parent_id: long (nullable = true)\n",
      " |    |    |-- points: long (nullable = true)\n",
      " |    |    |-- story_id: long (nullable = true)\n",
      " |    |    |-- story_text: string (nullable = true)\n",
      " |    |    |-- story_title: string (nullable = true)\n",
      " |    |    |-- story_url: string (nullable = true)\n",
      " |    |    |-- title: string (nullable = true)\n",
      " |    |    |-- url: string (nullable = true)\n",
      " |-- nbHits: long (nullable = true)\n",
      " |-- nbPages: long (nullable = true)\n",
      " |-- page: long (nullable = true)\n",
      "\n"
     ]
    }
   ],
   "source": [
    "comments.printSchema()"
   ]
  },
  {
   "cell_type": "code",
   "execution_count": 11,
   "metadata": {
    "collapsed": false
   },
   "outputs": [
    {
     "name": "stdout",
     "output_type": "stream",
     "text": [
      "1\n"
     ]
    }
   ],
   "source": [
    "print(comments.select(comments['hits']).count())"
   ]
  },
  {
   "cell_type": "code",
   "execution_count": 33,
   "metadata": {
    "collapsed": false
   },
   "outputs": [
    {
     "name": "stdout",
     "output_type": "stream",
     "text": [
      "root\n",
      " |-- col: struct (nullable = true)\n",
      " |    |-- _highlightResult: struct (nullable = true)\n",
      " |    |    |-- author: struct (nullable = true)\n",
      " |    |    |    |-- matchLevel: string (nullable = true)\n",
      " |    |    |    |-- matchedWords: array (nullable = true)\n",
      " |    |    |    |    |-- element: string (containsNull = true)\n",
      " |    |    |    |-- value: string (nullable = true)\n",
      " |    |    |-- comment_text: struct (nullable = true)\n",
      " |    |    |    |-- matchLevel: string (nullable = true)\n",
      " |    |    |    |-- matchedWords: array (nullable = true)\n",
      " |    |    |    |    |-- element: string (containsNull = true)\n",
      " |    |    |    |-- value: string (nullable = true)\n",
      " |    |    |-- story_title: struct (nullable = true)\n",
      " |    |    |    |-- matchLevel: string (nullable = true)\n",
      " |    |    |    |-- matchedWords: array (nullable = true)\n",
      " |    |    |    |    |-- element: string (containsNull = true)\n",
      " |    |    |    |-- value: string (nullable = true)\n",
      " |    |    |-- story_url: struct (nullable = true)\n",
      " |    |    |    |-- matchLevel: string (nullable = true)\n",
      " |    |    |    |-- matchedWords: array (nullable = true)\n",
      " |    |    |    |    |-- element: string (containsNull = true)\n",
      " |    |    |    |-- value: string (nullable = true)\n",
      " |    |-- _tags: array (nullable = true)\n",
      " |    |    |-- element: string (containsNull = true)\n",
      " |    |-- author: string (nullable = true)\n",
      " |    |-- comment_text: string (nullable = true)\n",
      " |    |-- created_at: string (nullable = true)\n",
      " |    |-- created_at_i: long (nullable = true)\n",
      " |    |-- num_comments: string (nullable = true)\n",
      " |    |-- objectID: string (nullable = true)\n",
      " |    |-- parent_id: long (nullable = true)\n",
      " |    |-- points: long (nullable = true)\n",
      " |    |-- story_id: long (nullable = true)\n",
      " |    |-- story_text: string (nullable = true)\n",
      " |    |-- story_title: string (nullable = true)\n",
      " |    |-- story_url: string (nullable = true)\n",
      " |    |-- title: string (nullable = true)\n",
      " |    |-- url: string (nullable = true)\n",
      "\n"
     ]
    }
   ],
   "source": [
    "hits = comments.select(sql.explode(comments['hits']))\n",
    "hits.printSchema()"
   ]
  },
  {
   "cell_type": "code",
   "execution_count": 67,
   "metadata": {
    "collapsed": false
   },
   "outputs": [
    {
     "name": "stdout",
     "output_type": "stream",
     "text": [
      "66\n",
      "root\n",
      " |-- _tags: array (nullable = true)\n",
      " |    |-- element: string (containsNull = true)\n",
      " |-- author: string (nullable = true)\n",
      " |-- comment_text: string (nullable = true)\n",
      " |-- created_at: string (nullable = true)\n",
      " |-- created_at_i: long (nullable = true)\n",
      " |-- num_comments: string (nullable = true)\n",
      " |-- objectID: string (nullable = true)\n",
      " |-- parent_id: long (nullable = true)\n",
      " |-- points: long (nullable = true)\n",
      " |-- story_id: long (nullable = true)\n",
      " |-- story_text: string (nullable = true)\n",
      " |-- story_title: string (nullable = true)\n",
      " |-- story_url: string (nullable = true)\n",
      " |-- title: string (nullable = true)\n",
      " |-- url: string (nullable = true)\n",
      "\n"
     ]
    }
   ],
   "source": [
    "def mappings(r):\n",
    "    return Row(\n",
    "        _tags=r['col']['_tags'],\n",
    "        author=r['col']['author'],\n",
    "        comment_text=r['col']['comment_text'],      \n",
    "        created_at=r['col']['created_at'],\n",
    "        created_at_i=r['col']['created_at_i'],\n",
    "        num_comments=str(r['col']['num_comments']),\n",
    "        objectID=r['col']['objectID'],\n",
    "        parent_id=r['col']['parent_id'],\n",
    "        points=r['col']['points'],\n",
    "        story_id=r['col']['story_id'],\n",
    "        story_text=str(r['col'].asDict().get('story_text', \"\")),\n",
    "        story_title=r['col']['story_title'],\n",
    "        story_url=str(r['col']['story_url']),\n",
    "        title=str(r['col']['title']),\n",
    "        url=str(r['col']['url'])\n",
    "    )\n",
    "\n",
    "hits2 = hits.map(lambda r: mappings(r)).toDF()\n",
    "hits2.head()\n",
    "print(hits2.count())\n",
    "hits2.printSchema()"
   ]
  },
  {
   "cell_type": "code",
   "execution_count": 70,
   "metadata": {
    "collapsed": false
   },
   "outputs": [],
   "source": [
    "hits2.write.save(\"../data/HackerNews/from_spark_small.json\", format=\"json\")"
   ]
  },
  {
   "cell_type": "code",
   "execution_count": null,
   "metadata": {
    "collapsed": true
   },
   "outputs": [],
   "source": []
  }
 ],
 "metadata": {
  "kernelspec": {
   "display_name": "Python 2",
   "language": "python",
   "name": "python2"
  },
  "language_info": {
   "codemirror_mode": {
    "name": "ipython",
    "version": 2
   },
   "file_extension": ".py",
   "mimetype": "text/x-python",
   "name": "python",
   "nbconvert_exporter": "python",
   "pygments_lexer": "ipython2",
   "version": "2.7.6"
  }
 },
 "nbformat": 4,
 "nbformat_minor": 0
}

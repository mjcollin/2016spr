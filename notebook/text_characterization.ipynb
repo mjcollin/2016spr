{
 "cells": [
  {
   "cell_type": "markdown",
   "metadata": {},
   "source": [
    "Characterizations of data in iDigBio suitible for text mining"
   ]
  },
  {
   "cell_type": "code",
   "execution_count": 69,
   "metadata": {
    "collapsed": false
   },
   "outputs": [],
   "source": [
    "%matplotlib inline\n",
    "from __future__ import print_function\n",
    "import os\n",
    "from pyspark import SQLContext\n",
    "import pyspark.sql.functions as sql\n",
    "#from pyspark.sql.functions import udf, length\n",
    "import matplotlib.pyplot as plt\n",
    "import numpy\n",
    "import math\n",
    "import matplotlib.pyplot as plt\n",
    "import seaborn as sns"
   ]
  },
  {
   "cell_type": "code",
   "execution_count": 84,
   "metadata": {
    "collapsed": false,
    "scrolled": true
   },
   "outputs": [
    {
     "name": "stdout",
     "output_type": "stream",
     "text": [
      "15457224\n"
     ]
    }
   ],
   "source": [
    "# Load iDigBio Parquet\n",
    "sqlContext = SQLContext(sc)\n",
    "idbdf = sqlContext.read.parquet(\"../data/idigbio/occurrence.txt.parquet\")\n",
    "#idbdf = sqlContext.read.parquet(\"../data/idigbio-100k/occurrence.txt.parquet\")\n",
    "total_records = idbdf.count()\n",
    "print(total_records)"
   ]
  },
  {
   "cell_type": "markdown",
   "metadata": {},
   "source": [
    "Let's start with the assumption that we know what fields are useful for looking for general features (we're not interested in parsing of taxonomic history or fields that are very specific to a single feature and require lots of domain knowlege to decode data representations.)\n",
    "\n",
    "http://rs.tdwg.org/dwc/terms/dynamicProperties\n",
    "http://rs.tdwg.org/dwc/terms/fieldNotes\n",
    "http://portal.idigbio.org/terms/associateNotes\n",
    "http://rs.tdwg.org/dwc/terms/occurrenceRemarks\n",
    "http://rs.tdwg.org/dwc/terms/eventRemarks\n",
    "\n",
    "Of these, dynamicProperties is best left for parsing. associateNotes is an iDigBio term that I'm not sure what it is. This leaves fieldNotes, occurrenceRemarks, and eventRemarks.\n",
    "\n",
    "How many records have something in these fields?"
   ]
  },
  {
   "cell_type": "code",
   "execution_count": 85,
   "metadata": {
    "collapsed": false,
    "scrolled": true
   },
   "outputs": [
    {
     "name": "stdout",
     "output_type": "stream",
     "text": [
      "3232459\n",
      "20.9122867081\n"
     ]
    }
   ],
   "source": [
    "# http://www.nodalpoint.com/unexpected-behavior-of-spark-dataframe-filter-method/\n",
    "# Use SQL syntax here because column names suck, alias columns to make life easier\n",
    "idbdf.registerTempTable(\"idbtable\")\n",
    "notes = sqlContext.sql(\"\"\"\n",
    "                       SELECT\n",
    "                        `http://portal.idigbio.org/terms/uuid` as uuid,\n",
    "                        `http://rs.tdwg.org/dwc/terms/occurrenceID` as occurrenceID,\n",
    "                        `http://rs.tdwg.org/dwc/terms/catalogNumber` as catalogNumber,\n",
    "                        `http://rs.tdwg.org/dwc/terms/county` as county,\n",
    "                        `http://rs.tdwg.org/dwc/terms/institutionCode` as institutionCode,\n",
    "                        `http://rs.tdwg.org/dwc/terms/country` as country,\n",
    "                        `http://rs.tdwg.org/dwc/terms/countryCode` as countryCode,\n",
    "                        `http://rs.tdwg.org/dwc/terms/stateProvince` as stateProvince,\n",
    "                        `http://rs.tdwg.org/dwc/terms/family` as family,\n",
    "                        `http://rs.tdwg.org/dwc/terms/recordedBy` as recordedBy,\n",
    "                        `http://rs.tdwg.org/dwc/terms/order` as `order`,\n",
    "                        `http://rs.tdwg.org/dwc/terms/specificEpithet` as specificEpithet,\n",
    "                        `http://rs.tdwg.org/dwc/terms/genus` as genus,\n",
    "                        `http://rs.tdwg.org/dwc/terms/sex` as sex,\n",
    "                        `http://rs.tdwg.org/dwc/terms/scientificName` as scientificName,\n",
    "                        `http://rs.tdwg.org/dwc/terms/year` as year,\n",
    "                        `http://rs.tdwg.org/dwc/terms/month` as month,\n",
    "                        `http://rs.tdwg.org/dwc/terms/fieldNotes` as fieldNotes,\n",
    "                        `http://rs.tdwg.org/dwc/terms/occurrenceRemarks` as occurrenceRemarks,\n",
    "                        `http://rs.tdwg.org/dwc/terms/eventRemarks` as eventRemarks,\n",
    "                        CONCAT(`http://rs.tdwg.org/dwc/terms/occurrenceRemarks`, ' ', \n",
    "                        `http://rs.tdwg.org/dwc/terms/eventRemarks`, ' ', \n",
    "                        `http://rs.tdwg.org/dwc/terms/fieldNotes`) as document\n",
    "                       FROM idbtable WHERE \n",
    "                       `http://rs.tdwg.org/dwc/terms/fieldNotes` != '' OR\n",
    "                       `http://rs.tdwg.org/dwc/terms/occurrenceRemarks` != '' OR \n",
    "                       `http://rs.tdwg.org/dwc/terms/eventRemarks` != ''\n",
    "                       \"\"\")\n",
    "notes_records = notes.count()\n",
    "print(notes_records)\n",
    "print(1.0 * notes_records/total_records * 100)"
   ]
  },
  {
   "cell_type": "markdown",
   "metadata": {},
   "source": [
    "Lets do some string length calcuations and make some new columns in Spark before switching to Pandas"
   ]
  },
  {
   "cell_type": "code",
   "execution_count": 86,
   "metadata": {
    "collapsed": false
   },
   "outputs": [],
   "source": [
    "# Add a column that is the concatenation of all the fields\n",
    "#def combine(f, o, e):\n",
    "#    return f + \" \" + o + \" \" + e\n",
    "#combine_udf = udf(combine)\n",
    "#notes = notes.withColumn('document', combine_udf(notes['fieldNotes'], \n",
    "#                                                     notes['occurrenceRemarks'],\n",
    "#                                                     notes['eventRemarks']))\n",
    "\n",
    "# This results in None's in the concatenated strings.\n",
    "#notes = notes.select(sql.concat_ws(' ', notes['fieldNotes'],\n",
    "#                               notes['occurrenceRemarks'],\n",
    "#                              notes['eventRemarks']).alias('document'))\n",
    "\n",
    "\n",
    "# Add columns that are the lengths\n",
    "notes = notes.withColumn('document_len', sql.length(notes['document']))\n",
    "notes = notes.withColumn('fieldNotes_len', sql.length(notes['fieldNotes']))\n",
    "notes = notes.withColumn('eventRemarks_len', sql.length(notes['eventRemarks']))\n",
    "notes = notes.withColumn('occurrenceRemarks_len', sql.length(notes['occurrenceRemarks']))"
   ]
  },
  {
   "cell_type": "code",
   "execution_count": 87,
   "metadata": {
    "collapsed": false
   },
   "outputs": [
    {
     "name": "stdout",
     "output_type": "stream",
     "text": [
      " flight intercept trap \n",
      "  [BENIN: Abomey Calavi, ~25 Km N Cotonou, XII-1988 J S Noyes, MT]\n",
      " G67-54 \n",
      "On same sheet as CAS 470458  \n",
      "Common. Plants loosely caespitose. Mesic oak-hickory forest on W-facing slope above Pony Creek. Clay soil. \n",
      "EXCH WITH DR A LUTZ  \n",
      "feeding  \n",
      "  [Clinton Co., O. VI-11-61] [M. Summers Collector]\n",
      "  [Ragged Is. Group Nurse Cay III-22-65] [BahamaIs. B.W.I. B.D. Valentine & R.W.Hamilton Collectors]\n",
      "Notes with collection  \n"
     ]
    }
   ],
   "source": [
    "for r in notes.head(10):\n",
    "    print(r['document'])"
   ]
  },
  {
   "cell_type": "markdown",
   "metadata": {},
   "source": [
    "What are typical lengths of text to work with here? Histogram of length of the document texts"
   ]
  },
  {
   "cell_type": "code",
   "execution_count": 88,
   "metadata": {
    "collapsed": false
   },
   "outputs": [],
   "source": [
    "# make a Pandas data frame to work with, this is expensive-ish depending on data size, \n",
    "# perhaps we should cut back on the columns in the select statement and alias them to make\n",
    "# life better? -- OOM's with full data set\n",
    "sub_set = ['uuid', 'document_len', 'fieldNotes_len', 'occurrenceRemarks_len', 'eventRemarks_len']\n",
    "notes_pd = notes[ sub_set ].toPandas()"
   ]
  },
  {
   "cell_type": "code",
   "execution_count": 89,
   "metadata": {
    "collapsed": false
   },
   "outputs": [
    {
     "name": "stdout",
     "output_type": "stream",
     "text": [
      "<class 'pandas.core.frame.DataFrame'>\n"
     ]
    },
    {
     "data": {
      "text/plain": [
       "<matplotlib.legend.Legend at 0x7f0636e64d90>"
      ]
     },
     "execution_count": 89,
     "metadata": {},
     "output_type": "execute_result"
    },
    {
     "data": {
      "image/png": "[encoded data removed]",
      "text/plain": [
       "<matplotlib.figure.Figure at 0x7f063c2efb10>"
      ]
     },
     "metadata": {},
     "output_type": "display_data"
    }
   ],
   "source": [
    "print(type(notes_pd))\n",
    "\n",
    "# Switched to doing this in Spark to avoid the overhead of copying all the text to Pandas\n",
    "# I guess there are some None's in the column...\n",
    "#def wow(r):\n",
    "#    if r['document'] is None:\n",
    "#        return 0\n",
    "#    else:\n",
    "#        return math.log10(len(r['document']))\n",
    "#    \n",
    "#notes_pd['document_len'] = notes_pd.apply(lambda r: wow(r), axis=1) \n",
    "\n",
    "\n",
    "#print(notes_pd.head())\n",
    "sns.distplot(notes_pd['document_len'].dropna().apply(numpy.log10))\n",
    "\n",
    "sns.distplot(notes_pd['fieldNotes_len'].dropna()[ notes_pd['fieldNotes_len']>0 ].apply(numpy.log10))\n",
    "\n",
    "sns.distplot(notes_pd['occurrenceRemarks_len'].dropna()[ notes_pd['occurrenceRemarks_len']>0 ].apply(numpy.log10))\n",
    "\n",
    "ax = sns.distplot(notes_pd['eventRemarks_len'].dropna()[ notes_pd['eventRemarks_len']>0 ].apply(numpy.log10))\n",
    "\n",
    "labels = ['document', 'fieldNotes', 'occurrenceRemarks','eventRemarks']\n",
    "ax.legend(labels)"
   ]
  },
  {
   "cell_type": "markdown",
   "metadata": {},
   "source": [
    "The above shows frequency but remember, we removed all the 0 length strings so the above plot is best read as \"I don't often have fieldNotes, but when I do they're 100 characters long.\" For something a little more representative of the overall data (though still, remember we removed anything with a document_len = 0):"
   ]
  },
  {
   "cell_type": "code",
   "execution_count": 90,
   "metadata": {
    "collapsed": false
   },
   "outputs": [
    {
     "name": "stdout",
     "output_type": "stream",
     "text": [
      "[593399, 2019699, 827645]\n",
      "['fieldNotes', 'occurrenceRemarks', 'eventRemarks']\n"
     ]
    },
    {
     "data": {
      "text/plain": [
       "(-1.0099764609053654, 1.0, -1.0074016470412008, 1.0036949709441652)"
      ]
     },
     "execution_count": 90,
     "metadata": {},
     "output_type": "execute_result"
    },
    {
     "data": {
      "image/png": "[encoded data removed]",
      "text/plain": [
       "<matplotlib.figure.Figure at 0x7f0636af6410>"
      ]
     },
     "metadata": {},
     "output_type": "display_data"
    }
   ],
   "source": [
    "sizes = [notes_pd['fieldNotes_len'].dropna()[ notes_pd['fieldNotes_len']>0 ].size,\n",
    "        notes_pd['occurrenceRemarks_len'].dropna()[ notes_pd['occurrenceRemarks_len']>0 ].size,\n",
    "        notes_pd['eventRemarks_len'].dropna()[ notes_pd['eventRemarks_len']>0 ].size]\n",
    "colors = ['lightgreen', 'lightpink', 'cyan']\n",
    "print(sizes)\n",
    "print(labels[1:])\n",
    "plt.pie(sizes, labels=labels[1:], colors=colors)\n",
    "plt.axis('equal')"
   ]
  },
  {
   "cell_type": "code",
   "execution_count": null,
   "metadata": {
    "collapsed": true
   },
   "outputs": [],
   "source": []
  },
  {
   "cell_type": "markdown",
   "metadata": {},
   "source": [
    "Now let's write out the data set at a parquet for easy loading later. Can skip to this or can not run this if just want to update the graphs.\n",
    " "
   ]
  },
  {
   "cell_type": "code",
   "execution_count": 91,
   "metadata": {
    "collapsed": true
   },
   "outputs": [],
   "source": [
    "notes.write.parquet('../data/idigbio_notes.parquet')"
   ]
  },
  {
   "cell_type": "code",
   "execution_count": 92,
   "metadata": {
    "collapsed": false
   },
   "outputs": [
    {
     "name": "stdout",
     "output_type": "stream",
     "text": [
      "3232459\n"
     ]
    }
   ],
   "source": [
    "notes_test = sqlContext.read.parquet(\"../data/idigbio_notes.parquet\")\n",
    "print(notes_test.count())"
   ]
  },
  {
   "cell_type": "code",
   "execution_count": null,
   "metadata": {
    "collapsed": true
   },
   "outputs": [],
   "source": []
  }
 ],
 "metadata": {
  "kernelspec": {
   "display_name": "Python 2",
   "language": "python",
   "name": "python2"
  },
  "language_info": {
   "codemirror_mode": {
    "name": "ipython",
    "version": 2
   },
   "file_extension": ".py",
   "mimetype": "text/x-python",
   "name": "python",
   "nbconvert_exporter": "python",
   "pygments_lexer": "ipython2",
   "version": "2.7.6"
  }
 },
 "nbformat": 4,
 "nbformat_minor": 0
}

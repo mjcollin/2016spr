{
 "cells": [
  {
   "cell_type": "markdown",
   "metadata": {},
   "source": [
    "Unique collection codes\n"
   ]
  },
  {
   "cell_type": "code",
   "execution_count": 14,
   "metadata": {
    "collapsed": true
   },
   "outputs": [],
   "source": [
    "from __future__ import print_function\n",
    "import os\n",
    "from pyspark import SQLContext"
   ]
  },
  {
   "cell_type": "code",
   "execution_count": 42,
   "metadata": {
    "collapsed": false
   },
   "outputs": [],
   "source": [
    "# Load iDigBio Parquet\n",
    "sqlContext = SQLContext(sc)\n",
    "idbdf = sqlContext.read.parquet(\"../data/idigbio/occurrence.txt.parquet\")\n",
    "#idbdf = sqlContext.read.parquet(\"../data/idigbio-100k/occurrence.txt.parquet\")\n",
    "#print(idbdf.schema)"
   ]
  },
  {
   "cell_type": "code",
   "execution_count": 43,
   "metadata": {
    "collapsed": false
   },
   "outputs": [],
   "source": [
    "col_codes = idbdf.select(\n",
    "    idbdf['`http://rs.tdwg.org/dwc/terms/collectionCode`'].alias('collectionCode')\n",
    "    ).distinct()"
   ]
  },
  {
   "cell_type": "code",
   "execution_count": 45,
   "metadata": {
    "collapsed": false
   },
   "outputs": [
    {
     "name": "stdout",
     "output_type": "stream",
     "text": [
      "15457224\n",
      "144\n"
     ]
    }
   ],
   "source": [
    "# Spark is not good with unicode, this isn't happy\n",
    "#col_codes.write.text(\"../data/unique_collection_codes.txt\")\n",
    "\n",
    "print(idbdf.count())\n",
    "print(col_codes.count())\n",
    "with open(\"../data/unique_collection_codes.txt\", 'w') as f:\n",
    "    for r in col_codes.collect():\n",
    "        if r[\"collectionCode\"] is not None:\n",
    "            f.write(r[\"collectionCode\"] + \"\\n\")\n",
    "            #break"
   ]
  },
  {
   "cell_type": "code",
   "execution_count": null,
   "metadata": {
    "collapsed": true
   },
   "outputs": [],
   "source": []
  }
 ],
 "metadata": {
  "kernelspec": {
   "display_name": "Python 2",
   "language": "python",
   "name": "python2"
  },
  "language_info": {
   "codemirror_mode": {
    "name": "ipython",
    "version": 2
   },
   "file_extension": ".py",
   "mimetype": "text/x-python",
   "name": "python",
   "nbconvert_exporter": "python",
   "pygments_lexer": "ipython2",
   "version": "2.7.6"
  }
 },
 "nbformat": 4,
 "nbformat_minor": 0
}

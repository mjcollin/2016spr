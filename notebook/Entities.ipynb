{
 "cells": [
  {
   "cell_type": "markdown",
   "metadata": {},
   "source": [
    "# Identifying entities in notes\n",
    "\n",
    "Goal of this notebook is to determine how successful entity identification is using\n"
   ]
  },
  {
   "cell_type": "code",
   "execution_count": 32,
   "metadata": {
    "collapsed": false
   },
   "outputs": [],
   "source": [
    "%matplotlib inline\n",
    "from __future__ import print_function\n",
    "import os\n",
    "from pyspark import SQLContext\n",
    "from pyspark.sql import Row\n",
    "import pyspark.sql.functions as sql\n",
    "import pyspark.sql.types as types\n",
    "#from pyspark.sql.functions import udf, length\n",
    "import matplotlib.pyplot as plt\n",
    "import numpy\n",
    "import math\n",
    "import matplotlib.pyplot as plt\n",
    "import seaborn as sns\n",
    "\n",
    "import nltk\n",
    "import pyspark.ml.feature as feature"
   ]
  },
  {
   "cell_type": "code",
   "execution_count": 33,
   "metadata": {
    "collapsed": false
   },
   "outputs": [
    {
     "name": "stdout",
     "output_type": "stream",
     "text": [
      "3232459\n",
      "324454\n"
     ]
    }
   ],
   "source": [
    "# Load Processed Parquet\n",
    "sqlContext = SQLContext(sc)\n",
    "notes = sqlContext.read.parquet(\"../data/idigbio_notes.parquet\")\n",
    "total_records = notes.count()\n",
    "print(total_records)\n",
    "# Small sample of the df\n",
    "notes = notes.sample(withReplacement=False, fraction=0.1)\n",
    "\n",
    "print(notes.count())"
   ]
  },
  {
   "cell_type": "code",
   "execution_count": 34,
   "metadata": {
    "collapsed": false,
    "scrolled": true
   },
   "outputs": [
    {
     "name": "stdout",
     "output_type": "stream",
     "text": [
      "324295\n",
      "+-------------------------------------------------------------------------------------------------------------------------------------------------------------------+\n",
      "|document                                                                                                                                                           |\n",
      "+-------------------------------------------------------------------------------------------------------------------------------------------------------------------+\n",
      "|!                                                                                                                                                                  |\n",
      "|!                                                                                                                                                                  |\n",
      "|!                                                                                                                                                                  |\n",
      "|!                                                                                                                                                                  |\n",
      "|!                                                                                                                                                                  |\n",
      "|!                                                                                                                                                                  |\n",
      "|!                                                                                                                                                                  |\n",
      "|!                                                                                                                                                                  |\n",
      "|!                                                                                                                                                                  |\n",
      "|! - type! Annotated Jan. 1976, by RH Petersen'; 'Photo of type (Mycologia 27) is of this fruit body, so this is the type (cf. no. 8024 - same collection data). RHP|\n",
      "+-------------------------------------------------------------------------------------------------------------------------------------------------------------------+\n",
      "only showing top 10 rows\n",
      "\n",
      "+--------------------------------------------------------------------------------------------------------------------------------------------------------------------------------------------------------------------------------------------------------------------------------------------------------------+\n",
      "|document                                                                                                                                                                                                                                                                                                      |\n",
      "+--------------------------------------------------------------------------------------------------------------------------------------------------------------------------------------------------------------------------------------------------------------------------------------------------------------+\n",
      "|♂                                                                                                                                                                                                                                                                                                             |\n",
      "|♀; On the same sheet as CAS 263682                                                                                                                                                                                                                                                                            |\n",
      "|“Notes presumably authored by the collector/determiner and accompanying specimen(s) associated with this locality refer to “Moroitanoniha.” The meaning of this term is not clear but may provide additional information concerning the collecting locality.”                                                 |\n",
      "|árbol 4 a 5 m hojas verdes con flor blanca y larga; Nombre Tzeltal: mumun chitom Uso medicinal: k'asemal, quebradura Parte utilizada: yanal,  la hoja Preparacion: k'ak' ubtasil ta k' ok',   calentad sobre el fuego Administracion: net'bil,  pegado Veces al dia: chib,  dos Informante: Augustin Ruíz Ruíz|\n",
      "|Árvore.                                                                                                                                                                                                                                                                                                       |\n",
      "|Árvore, 9m. Araucarieto.                                                                                                                                                                                                                                                                                      |\n",
      "|Árvore, 8m, flor rosado-forte.                                                                                                                                                                                                                                                                                |\n",
      "|Árvore, 8 m, flor creme.                                                                                                                                                                                                                                                                                      |\n",
      "|Árvore, 6m. Mata do vale entre morros.                                                                                                                                                                                                                                                                        |\n",
      "|Árvore, 6m, flor creme com nervuras vinosas. Floresta da encosta do morro.                                                                                                                                                                                                                                    |\n",
      "+--------------------------------------------------------------------------------------------------------------------------------------------------------------------------------------------------------------------------------------------------------------------------------------------------------------+\n",
      "only showing top 10 rows\n",
      "\n"
     ]
    }
   ],
   "source": [
    "# Still have some problems with the document field having nulls and\n",
    "# being empty. Not sure where nulls came from but likely the \n",
    "# empties are really whitespace\n",
    "notes = notes.select(sql.trim(notes[\"document\"]).alias(\"document\"))\\\n",
    "    .dropna(subset=\"document\")\\\n",
    "    .filter(sql.length(\"document\") > 0)\n",
    "notes.cache()  \n",
    "\n",
    "print(notes.count())\n",
    "notes.select(notes[\"document\"])\\\n",
    "    .orderBy(notes[\"document\"])\\\n",
    "    .show(10, truncate=False)\n",
    "notes.select(notes[\"document\"])\\\n",
    "    .orderBy(notes[\"document\"], ascending=False)\\\n",
    "    .show(10, truncate=False)"
   ]
  },
  {
   "cell_type": "markdown",
   "metadata": {},
   "source": [
    "## Sentence detection\n",
    "\n",
    "Does splitting in to sentences matter? Is there enough information to do this with a natural language library or should things like \",\" \"[]\", and \"{}\" be worked in to address semi-structured data?"
   ]
  },
  {
   "cell_type": "markdown",
   "metadata": {},
   "source": [
    "## Tokenize documents\n"
   ]
  },
  {
   "cell_type": "code",
   "execution_count": 41,
   "metadata": {
    "collapsed": false
   },
   "outputs": [
    {
     "name": "stdout",
     "output_type": "stream",
     "text": [
      "['Hello', ',', 'my', 'name', 'is', 'Mace', 'Windoo']\n"
     ]
    }
   ],
   "source": [
    "from lib.tokens import Tokens\n",
    "tokens = Tokens()\n",
    "t = tokens.tokenize(\"Hello, my name is Mace Windoo\")\n",
    "print(t)"
   ]
  },
  {
   "cell_type": "code",
   "execution_count": 37,
   "metadata": {
    "collapsed": false
   },
   "outputs": [
    {
     "name": "stdout",
     "output_type": "stream",
     "text": [
      "[ | USA | : | Ohio | , | Hocking | Co. | | | Little | Rocky | Hollow| | Gerdeman | BS | | | 29 | V | 1998 | | | ex | narceus | | | ( | Diplopoda | : | Spirobolidae | ) | | | BSG98-0529-4 | AL5523 | ] | [ | Iphiopsididae | | | Narceolaelaps | annularis | | | Kethley | 1978 | | | DN | | | det | . | : | Gerdeman | 1998 | | | Lactophenol | | | Hoyer | 's | | | OSAL0004567 | ]\n",
      "\n",
      "\n",
      "LAB | BORN | , | AGE | 45 | WEEKS\n",
      "\n",
      "\n",
      "Yellow | `` | G | '' | on | cap | .\n",
      "\n",
      "\n",
      "PARTIAL | ALBINO. | ``\n",
      "\n",
      "\n",
      "Freely | escaped | or | naturalized | .\n",
      "\n",
      "\n",
      "berlese | riparian | ravine\n",
      "\n",
      "\n",
      "Additional | data | on | card\n",
      "\n",
      "\n",
      "level | , | peanut | butter | bait\n",
      "\n",
      "\n",
      "Collected | Sept. | 1971 | .\n",
      "\n",
      "\n",
      "BBP | 5.12-6\n",
      "\n",
      "\n",
      "Common | . | Submerged | in | Sheyenne | River | .\n",
      "\n",
      "\n",
      "NOTEBY | LLAMA | , | NOTEDATE | 14-Jun-08 | : | LLAMA | taxa | ( | Formicidae | , | Curculionidae | , | Diptera | , | Hymenoptera | , | Hemiptera | , | Myriapoda/Arachnida | , | Staphylinidae | , | other | Coleoptera | ) | extracted | ; | July | 2008 | , | Ecosur | .\n",
      "\n",
      "\n",
      "On | Acer | .\n",
      "\n",
      "\n",
      "In | oak | gall | . | Area | vegetation | : | oak\n",
      "\n",
      "\n",
      "tropical | moist | evergreen/cloud | for | litter | berlese | forest | litter\n",
      "\n",
      "\n",
      "DC329\n",
      "\n",
      "\n",
      "Lost | in | the | earthquake | and | fire | of | 1906 | .\n",
      "\n",
      "\n",
      "Petals | white | .\n",
      "\n",
      "\n",
      "Ar166\n",
      "\n",
      "\n",
      "NTD | IN | FIELD | NOTES | ON | FILE\n",
      "\n",
      "\n",
      "All | collections | of | vascular | plant | and | lichen | specimens | , | 2001-2008 | , | made | by | Caleb | Morse | . | Specimens | taken | in | AR | , | AZ | , | CA | , | CO | , | IA | , | ID | , | IN | , | KS | , | KY | , | MA | , | ME | , | MN | , | MO | , | MT | , | NC | , | NE | , | NM | , | NV | , | NY | , | OH | , | OK | , | OR | , | PA | , | SD | , | TX | , | UT | , | and | WY | . | Small | colony | observed | on | Populus | .\n",
      "\n",
      "\n",
      "Uncommon | ; | rays | and | disk | yellow\n",
      "\n",
      "\n",
      "Ex | Herb | . | Hort | Reg | . | Kew | .\n",
      "\n",
      "\n",
      "ground | level | , | open | nest | , | 1/2\\ | '' | tumulus\n",
      "\n",
      "\n",
      "Abundant | . | Steep | side | of | prairie | valley | . | Among | volcanic | rocks | .\n",
      "\n",
      "\n",
      "Guadalup | River | .\n",
      "\n",
      "\n",
      "Coral | Fish | Project | ; | see | GVF | 1923 | ( | sta | . | 59-100 | ) | for | more | data | .\n",
      "\n",
      "\n",
      "[ | This | specimen | is | stored | in | the | indet | . | Hygrophorus | box | ]\n",
      "\n",
      "\n",
      "DGH7\n",
      "\n",
      "\n",
      "No | date | of | determination | provided | . | -G | Sheehy/August2004 | Collected | aboard | R/V | Gyre | , | BLM22-3A | . | Locality | data | taken | from | UWF | notes | . | -A | Varandas/July2004\n",
      "\n",
      "\n",
      "With | no | . | 5500 | .\n",
      "\n",
      "\n",
      "in | 70 | % | EtOH | . | Used | backpack | shocker | & | 6'x12'x1/4 | ' | seine | for | capture | . | See | field | notes\n",
      "\n",
      "\n",
      "C. | Dasch | Collection | [ | Beartooth | Mt | Pl | . | Wyo.7000 | ft. | ; | added | 12-JUL-2002 | ] | [ | June | 12 | , | 1962 | ; | added | 12-JUL-2002 | ]\n",
      "\n",
      "\n",
      "2 | paired | bivalves | , | dry | .\n",
      "\n",
      "\n",
      "nest | with | no | soil | deposited | around | entrance | , | in | turnrwo\n",
      "\n",
      "\n",
      "Arching | shrub | 60-90 | cm | tall | . | Fruit | green | .\n",
      "\n",
      "\n",
      "On | Acarospora | socialis | .\n",
      "\n",
      "\n",
      "Hill | prairie | pasture | over | surfacing | limestone | ; | scattered | in | area | ; | rare | in | that | it | is | range | extension | .\n",
      "\n",
      "\n",
      "Low1 | Field | Emergence | Date | June | 28 | 1965 | 577\n",
      "\n",
      "\n",
      "Additional | data | on | card | .\n",
      "\n",
      "\n",
      "Few | individuals | observed | near | top | of | ridge | . | Shrub | 0.5 | m | high | . | From | jct | with | Hwy | 67 | in | Wetmore | : | 2.1 | mi | S | on | Hwy | 96 | , | then | 0.4 | mi | W | upslope | on | Cronk | Gulch | Rd | . | San | Isabel | National | Forest | : | Wet | Mountains | . | Douglas | fir-pine | forest | on | steep | , | more | or | less | N-S-trending | ridges | . | Grassy | understorey | with | mountain | mahogany | and | gambel | oak | . | Red | , | rocky-sandy | soil | .\n",
      "\n",
      "\n",
      "see | GVF | 1698 | ( | sta | . | HK-21 | ) | for | more | data | ; | coordinates | on | specimen | labels | wrong | .\n",
      "\n",
      "\n",
      "[ | 13°51.6 | 'S | 48°23.5'W | BRASIL | , | Goiás | : | Campinaçu | Serra | da | Mesa | Survey | 20-25.ii.1996 | , | malaise | A.Sharkov | & | F.Eichel | coll | . | ]\n",
      "\n",
      "\n",
      "ACC:1984- | XII-14 | ; | preparation | : | vial | ; | det_comments:22mm\n",
      "\n",
      "\n",
      "Abundant | . | [ | Filed | under | mixed | Lemnaceae | folder | # | 2 | . | Mixed | collection | of | Lemna | aequinoctialis | and | Spirodela | polyrrhiza | . | ] | Clark | County | State | Lake | . | Floating | in | pool | below | dam | . | Sandy | , | red | soil | around | .\n",
      "\n",
      "\n",
      "Collection | date | : | Summer | , | 1894 | ; | stictic | in | OT\n",
      "\n",
      "\n",
      "Field | Museum | of | Natural | History\n",
      "\n",
      "\n",
      "Ellis | & | Everhart | , | North | American | Fungi | , | No | . | 1373\n",
      "\n",
      "\n",
      "Scales | mostly | lacking | but | appear | to | number | over | 40 | based | on | pockets | ; | proportions | favor | E. | oblongus | - | Wayne | C. | Starnes | , | 2006 | .\n",
      "\n",
      "\n",
      "TR | 2866 | .\n",
      "\n",
      "\n"
     ]
    }
   ],
   "source": [
    "udf_tokenize = sql.udf(tokens.tokenize, types.ArrayType(types.StringType()))\n",
    "\n",
    "notes_w_tokens = notes.withColumn('tokens', udf_tokenize(notes['document']))\n",
    "for r in notes_w_tokens.select(notes_w_tokens[\"tokens\"]).head(50):\n",
    "    print(\" | \".join(r[\"tokens\"]))\n",
    "    print(\"\\n\")"
   ]
  },
  {
   "cell_type": "code",
   "execution_count": 38,
   "metadata": {
    "collapsed": false
   },
   "outputs": [
    {
     "name": "stdout",
     "output_type": "stream",
     "text": [
      "root\n",
      " |-- document: string (nullable = true)\n",
      " |-- tokens: array (nullable = true)\n",
      " |    |-- element: string (containsNull = true)\n",
      "\n"
     ]
    }
   ],
   "source": [
    "notes_w_tokens.printSchema()"
   ]
  },
  {
   "cell_type": "code",
   "execution_count": 42,
   "metadata": {
    "collapsed": false
   },
   "outputs": [
    {
     "name": "stdout",
     "output_type": "stream",
     "text": [
      "[{'tag': 'NNP', 'word': 'Hello'}, {'tag': ',', 'word': ','}, {'tag': 'PRP$', 'word': 'my'}, {'tag': 'NN', 'word': 'name'}, {'tag': 'VBZ', 'word': 'is'}, {'tag': 'NNP', 'word': 'Mace'}, {'tag': 'NNP', 'word': 'Windoo'}]\n",
      "<type 'list'>\n",
      "<type 'dict'>\n",
      "<type 'str'>\n",
      "{'tag': 'NNP', 'word': 'Hello'}\n"
     ]
    }
   ],
   "source": [
    "from lib.pos_tags import PosTags\n",
    "pos_tags = PosTags()\n",
    "\n",
    "pos = pos_tags.tag(t)\n",
    "print(pos)\n",
    "print(type(pos))\n",
    "print(type(pos[0]))\n",
    "print(type(pos[0][\"tag\"]))\n",
    "print(pos[0])"
   ]
  },
  {
   "cell_type": "code",
   "execution_count": 49,
   "metadata": {
    "collapsed": false,
    "scrolled": false
   },
   "outputs": [
    {
     "name": "stdout",
     "output_type": "stream",
     "text": [
      "[ (NN) | USA (NNP) | : (:) | Ohio (NNP) | , (,) | Hocking (NNP) | Co. (NNP) | | (NNP) | Little (NNP) | Rocky (NNP) | Hollow| (NNP) | Gerdeman (NNP) | BS (NNP) | | (NNP) | 29 (CD) | V (NNP) | 1998 (CD) | | (CD) | ex (NN) | narceus (VBZ) | | (:) | ( (:) | Diplopoda (NNP) | : (:) | Spirobolidae (NNP) | ) (:) | | (:) | BSG98-0529-4 (-NONE-) | AL5523 (NNP) | ] (NNP) | [ (NNP) | Iphiopsididae (NNP) | | (NNP) | Narceolaelaps (NNP) | annularis (VBZ) | | (:) | Kethley (NNP) | 1978 (CD) | | (CD) | DN (NNP) | | (NNP) | det (NN) | . (.) | : (:) | Gerdeman (NNP) | 1998 (CD) | | (CD) | Lactophenol (NNP) | | (NNP) | Hoyer (NNP) | 's (POS) | | (NNP) | OSAL0004567 (NNP) | ] (NNP) | \n",
      "\n",
      "LAB (NNP) | BORN (NNP) | , (,) | AGE (NNP) | 45 (CD) | WEEKS (NNS) | \n",
      "\n",
      "Yellow (NNP) | `` (``) | G (NNP) | '' ('') | on (IN) | cap (NN) | . (.) | \n",
      "\n",
      "PARTIAL (JJ) | ALBINO. (NN) | `` (``) | \n",
      "\n",
      "Freely (RB) | escaped (VBD) | or (CC) | naturalized (VBN) | . (.) | \n",
      "\n",
      "berlese (NN) | riparian (VBD) | ravine (NN) | \n",
      "\n",
      "Additional (JJ) | data (NNS) | on (IN) | card (NN) | \n",
      "\n",
      "level (NN) | , (,) | peanut (NN) | butter (NN) | bait (NN) | \n",
      "\n",
      "Collected (NNP) | Sept. (NNP) | 1971 (CD) | . (.) | \n",
      "\n",
      "BBP (NNP) | 5.12-6 (CD) | \n",
      "\n",
      "Common (JJ) | . (.) | Submerged (JJ) | in (IN) | Sheyenne (NNP) | River (NNP) | . (.) | \n",
      "\n",
      "NOTEBY (NNP) | LLAMA (NNP) | , (,) | NOTEDATE (NNP) | 14-Jun-08 (CD) | : (:) | LLAMA (NNP) | taxa (NN) | ( (:) | Formicidae (NNP) | , (,) | Curculionidae (NNP) | , (,) | Diptera (NNP) | , (,) | Hymenoptera (NNP) | , (,) | Hemiptera (NNP) | , (,) | Myriapoda/Arachnida (NNP) | , (,) | Staphylinidae (NNP) | , (,) | other (JJ) | Coleoptera (NNP) | ) (NNP) | extracted (VBD) | ; (:) | July (NNP) | 2008 (CD) | , (,) | Ecosur (NNP) | . (.) | \n",
      "\n",
      "On (IN) | Acer (NNP) | . (.) | \n",
      "\n",
      "In (IN) | oak (NN) | gall (NN) | . (.) | Area (NNP) | vegetation (NN) | : (:) | oak (NN) | \n",
      "\n",
      "tropical (JJ) | moist (NN) | evergreen/cloud (JJ) | for (IN) | litter (NN) | berlese (NN) | forest (NN) | litter (NN) | \n",
      "\n",
      "DC329 (NNP) | \n",
      "\n",
      "Lost (NNP) | in (IN) | the (DT) | earthquake (NN) | and (CC) | fire (NN) | of (IN) | 1906 (CD) | . (.) | \n",
      "\n",
      "Petals (NNS) | white (VBP) | . (.) | \n",
      "\n",
      "Ar166 (NNP) | \n",
      "\n",
      "NTD (NNP) | IN (NNP) | FIELD (NNP) | NOTES (NNP) | ON (NNP) | FILE (NNP) | \n",
      "\n",
      "All (DT) | collections (NNS) | of (IN) | vascular (JJ) | plant (NN) | and (CC) | lichen (RB) | specimens (VBZ) | , (,) | 2001-2008 (CD) | , (,) | made (VBN) | by (IN) | Caleb (NNP) | Morse (NNP) | . (.) | Specimens (NNP) | taken (NN) | in (IN) | AR (NNP) | , (,) | AZ (NNP) | , (,) | CA (NNP) | , (,) | CO (NNP) | , (,) | IA (NNP) | , (,) | ID (NNP) | , (,) | IN (NNP) | , (,) | KS (NNP) | , (,) | KY (NNP) | , (,) | MA (NNP) | , (,) | ME (NNP) | , (,) | MN (NNP) | , (,) | MO (NNP) | , (,) | MT (NNP) | , (,) | NC (NNP) | , (,) | NE (NNP) | , (,) | NM (NNP) | , (,) | NV (NNP) | , (,) | NY (NNP) | , (,) | OH (NNP) | , (,) | OK (NNP) | , (,) | OR (CC) | , (,) | PA (NNP) | , (,) | SD (NNP) | , (,) | TX (NNP) | , (,) | UT (NNP) | , (,) | and (CC) | WY (NNP) | . (.) | Small (NNP) | colony (NN) | observed (VBD) | on (IN) | Populus (NNP) | . (.) | \n",
      "\n",
      "Uncommon (NNP) | ; (:) | rays (NNS) | and (CC) | disk (VB) | yellow (JJ) | \n",
      "\n",
      "Ex (NNP) | Herb (NNP) | . (.) | Hort (NNP) | Reg (NNP) | . (.) | Kew (NNP) | . (.) | \n",
      "\n",
      "ground (NN) | level (NN) | , (,) | open (JJ) | nest (NN) | , (,) | 1/2\\ (CD) | '' ('') | tumulus (VBZ) | \n",
      "\n",
      "Abundant (NNP) | . (.) | Steep (NNP) | side (NN) | of (IN) | prairie (NN) | valley (NN) | . (.) | Among (IN) | volcanic (JJ) | rocks (NNS) | . (.) | \n",
      "\n",
      "Guadalup (NNP) | River (NNP) | . (.) | \n",
      "\n",
      "Coral (NNP) | Fish (NNP) | Project (NNP) | ; (:) | see (VB) | GVF (NNP) | 1923 (CD) | ( (CD) | sta (NN) | . (.) | 59-100 (CD) | ) (CD) | for (IN) | more (JJR) | data (NNS) | . (.) | \n",
      "\n",
      "[ (NN) | This (DT) | specimen (NN) | is (VBZ) | stored (VBN) | in (IN) | the (DT) | indet (NN) | . (.) | Hygrophorus (NNP) | box (NN) | ] (:) | \n",
      "\n",
      "DGH7 (NNP) | \n",
      "\n",
      "No (DT) | date (NN) | of (IN) | determination (NN) | provided (VBN) | . (.) | -G (JJ) | Sheehy/August2004 (-NONE-) | Collected (NNP) | aboard (NN) | R/V (NN) | Gyre (NNP) | , (,) | BLM22-3A (NNP) | . (.) | Locality (NNP) | data (NNS) | taken (VBN) | from (IN) | UWF (NNP) | notes (NNS) | . (.) | -A (JJ) | Varandas/July2004 (-NONE-) | \n",
      "\n",
      "With (IN) | no (DT) | . (.) | 5500 (CD) | . (.) | \n",
      "\n",
      "in (IN) | 70 (CD) | % (NN) | EtOH (NNP) | . (.) | Used (NNP) | backpack (NN) | shocker (NN) | & (CC) | 6'x12'x1/4 (CD) | ' ('') | seine (NN) | for (IN) | capture (NN) | . (.) | See (NNP) | field (NN) | notes (NNS) | \n",
      "\n",
      "C. (NNP) | Dasch (NNP) | Collection (NNP) | [ (NNP) | Beartooth (NNP) | Mt (NNP) | Pl (NNP) | . (.) | Wyo.7000 (-NONE-) | ft. (NNP) | ; (:) | added (VBD) | 12-JUL-2002 (CD) | ] (CD) | [ (CD) | June (NNP) | 12 (CD) | , (,) | 1962 (CD) | ; (:) | added (VBD) | 12-JUL-2002 (CD) | ] (CD) | \n",
      "\n",
      "2 (LS) | paired (VBN) | bivalves (NNS) | , (,) | dry (JJ) | . (.) | \n",
      "\n",
      "nest (NN) | with (IN) | no (DT) | soil (NN) | deposited (VBN) | around (IN) | entrance (NN) | , (,) | in (IN) | turnrwo (NN) | \n",
      "\n",
      "Arching (VBG) | shrub (NN) | 60-90 (CD) | cm (NN) | tall (NN) | . (.) | Fruit (NN) | green (IN) | . (.) | \n",
      "\n",
      "On (IN) | Acarospora (NNP) | socialis (NN) | . (.) | \n",
      "\n",
      "Hill (NNP) | prairie (NN) | pasture (NN) | over (IN) | surfacing (VBG) | limestone (NN) | ; (:) | scattered (VBN) | in (IN) | area (NN) | ; (:) | rare (NN) | in (IN) | that (DT) | it (PRP) | is (VBZ) | range (NN) | extension (NN) | . (.) | \n",
      "\n",
      "Low1 (NNP) | Field (NNP) | Emergence (NNP) | Date (NNP) | June (NNP) | 28 (CD) | 1965 (CD) | 577 (CD) | \n",
      "\n",
      "Additional (JJ) | data (NNS) | on (IN) | card (NN) | . (.) | \n",
      "\n",
      "Few (JJ) | individuals (NNS) | observed (VBN) | near (IN) | top (JJ) | of (IN) | ridge (NN) | . (.) | Shrub (NNP) | 0.5 (CD) | m (NN) | high (JJ) | . (.) | From (NNP) | jct (NN) | with (IN) | Hwy (NNP) | 67 (CD) | in (IN) | Wetmore (NNP) | : (:) | 2.1 (CD) | mi (NN) | S (NNP) | on (IN) | Hwy (NNP) | 96 (CD) | , (,) | then (RB) | 0.4 (CD) | mi (NN) | W (NNP) | upslope (NN) | on (IN) | Cronk (NNP) | Gulch (NNP) | Rd (NNP) | . (.) | San (NNP) | Isabel (NNP) | National (NNP) | Forest (NNP) | : (:) | Wet (NNP) | Mountains (NNP) | . (.) | Douglas (NNP) | fir-pine (NNP) | forest (NN) | on (IN) | steep (NN) | , (,) | more (RBR) | or (CC) | less (JJR) | N-S-trending (JJ) | ridges (NNS) | . (.) | Grassy (NNP) | understorey (NN) | with (IN) | mountain (NN) | mahogany (NN) | and (CC) | gambel (NN) | oak (NN) | . (.) | Red (NNP) | , (,) | rocky-sandy (JJ) | soil (NN) | . (.) | \n",
      "\n",
      "see (NN) | GVF (NNP) | 1698 (CD) | ( (CD) | sta (NN) | . (.) | HK-21 (-NONE-) | ) (:) | for (IN) | more (JJR) | data (NNS) | ; (:) | coordinates (NNS) | on (IN) | specimen (NNS) | labels (NNS) | wrong (IN) | . (.) | \n",
      "\n",
      "[ (NN) | 13°51.6 (CD) | 'S (POS) | 48°23.5'W (CD) | BRASIL (NNP) | , (,) | Goiás (NNP) | : (:) | Campinaçu (JJ) | Serra (NNP) | da (NN) | Mesa (NNP) | Survey (NNP) | 20-25.ii.1996 (CD) | , (,) | malaise (NN) | A.Sharkov (-NONE-) | & (CC) | F.Eichel (NNP) | coll (NN) | . (.) | ] (NN) | \n",
      "\n",
      "ACC:1984- (NN) | XII-14 (-NONE-) | ; (:) | preparation (NN) | : (:) | vial (JJ) | ; (:) | det_comments:22mm (JJ) | \n",
      "\n",
      "Abundant (NNP) | . (.) | [ (:) | Filed (NNP) | under (IN) | mixed (VBN) | Lemnaceae (NNP) | folder (NN) | # (#) | 2 (CD) | . (.) | Mixed (NNP) | collection (NN) | of (IN) | Lemna (NNP) | aequinoctialis (VBZ) | and (CC) | Spirodela (NNP) | polyrrhiza (NN) | . (.) | ] (NN) | Clark (NNP) | County (NNP) | State (NNP) | Lake (NNP) | . (.) | Floating (NNP) | in (IN) | pool (NN) | below (IN) | dam (NN) | . (.) | Sandy (NNP) | , (,) | red (VBD) | soil (NN) | around (IN) | . (.) | \n",
      "\n",
      "Collection (NN) | date (NN) | : (:) | Summer (NNP) | , (,) | 1894 (CD) | ; (:) | stictic (JJ) | in (IN) | OT (NNP) | \n",
      "\n",
      "Field (NNP) | Museum (NNP) | of (IN) | Natural (NNP) | History (NNP) | \n",
      "\n",
      "Ellis (NNP) | & (CC) | Everhart (NNP) | , (,) | North (NNP) | American (NNP) | Fungi (NNP) | , (,) | No (DT) | . (.) | 1373 (CD) | \n",
      "\n",
      "Scales (NNS) | mostly (RB) | lacking (VBG) | but (CC) | appear (JJ) | to (TO) | number (NN) | over (IN) | 40 (CD) | based (VBN) | on (IN) | pockets (NNS) | ; (:) | proportions (NNS) | favor (VBP) | E. (NNP) | oblongus (NN) | - (:) | Wayne (NNP) | C. (NNP) | Starnes (NNP) | , (,) | 2006 (CD) | . (.) | \n",
      "\n",
      "TR (NNP) | 2866 (CD) | . (.) | \n",
      "\n"
     ]
    }
   ],
   "source": [
    "udf_part_of_speech = sql.udf(pos_tags.tag, types.ArrayType(\n",
    "                                    types.MapType(\n",
    "                                        types.StringType(),\n",
    "                                        types.StringType()\n",
    "                                    )\n",
    "                                )\n",
    "                            )\n",
    "\n",
    "notes_w_tokens2 = notes_w_tokens.withColumn('pos', \n",
    "                                            udf_part_of_speech(notes_w_tokens['tokens']))\n",
    "\n",
    "for r in notes_w_tokens2.select(notes_w_tokens2[\"pos\"]).head(50):\n",
    "    s = \"\"\n",
    "    for p in r[\"pos\"]:\n",
    "        s = s + p[\"word\"] + \" (\" + p[\"tag\"] + \") | \"\n",
    "    print(s + \"\\n\")"
   ]
  },
  {
   "cell_type": "code",
   "execution_count": 158,
   "metadata": {
    "collapsed": false,
    "scrolled": false
   },
   "outputs": [
    {
     "name": "stdout",
     "output_type": "stream",
     "text": [
      "root\n",
      " |-- document: string (nullable = true)\n",
      " |-- tokens: array (nullable = true)\n",
      " |    |-- element: string (containsNull = true)\n",
      " |-- pos: array (nullable = true)\n",
      " |    |-- element: map (containsNull = true)\n",
      " |    |    |-- key: string\n",
      " |    |    |-- value: string (valueContainsNull = true)\n",
      "\n"
     ]
    }
   ],
   "source": [
    "notes_w_tokens2.printSchema()"
   ]
  },
  {
   "cell_type": "code",
   "execution_count": 159,
   "metadata": {
    "collapsed": false,
    "scrolled": true
   },
   "outputs": [
    {
     "name": "stdout",
     "output_type": "stream",
     "text": [
      "+------------+\n",
      "|pos[0][word]|\n",
      "+------------+\n",
      "|cloud       |\n",
      "|Collected   |\n",
      "|This        |\n",
      "+------------+\n",
      "only showing top 3 rows\n",
      "\n"
     ]
    }
   ],
   "source": [
    "# Can we work with maps natively?\n",
    "notes_w_tokens2.select(notes_w_tokens2[\"pos\"][0][\"word\"]).show(3, truncate=False)\n",
    "# YES!"
   ]
  },
  {
   "cell_type": "code",
   "execution_count": 160,
   "metadata": {
    "collapsed": false
   },
   "outputs": [
    {
     "name": "stdout",
     "output_type": "stream",
     "text": [
      "['Hello', 'name', 'Mace', 'Windoo']\n"
     ]
    }
   ],
   "source": [
    "# Split out words by type\n",
    "# Can't figure out how to access elements of a map in a filter so \n",
    "# build something that filters the lists for us.\n",
    "def find_pos(pos, part):\n",
    "    '''\n",
    "    Take a list of dicts that represent words tagged with\n",
    "    pos information and return a list of words that match\n",
    "    the requested pos\n",
    "    '''\n",
    "    retval = []\n",
    "    for p in pos:\n",
    "        if p[\"tag\"].startswith(part):\n",
    "            retval.append(p[\"word\"])\n",
    "    return retval\n",
    "\n",
    "print(find_pos(pos, \"NN\"))"
   ]
  },
  {
   "cell_type": "code",
   "execution_count": 161,
   "metadata": {
    "collapsed": true
   },
   "outputs": [],
   "source": [
    "# Can't figure out how to pass a single string to a UDF\n",
    "find_nouns_udf = sql.udf(lambda x: find_pos(x, \"NN\"), types.ArrayType(types.StringType()))\n"
   ]
  },
  {
   "cell_type": "code",
   "execution_count": 162,
   "metadata": {
    "collapsed": false
   },
   "outputs": [
    {
     "name": "stdout",
     "output_type": "stream",
     "text": [
      "+-----+\n",
      "| word|\n",
      "+-----+\n",
      "|cloud|\n",
      "|sappy|\n",
      "| bark|\n",
      "+-----+\n",
      "only showing top 3 rows\n",
      "\n"
     ]
    }
   ],
   "source": [
    "nouns = notes_w_tokens2\\\n",
    "    .select(sql.explode(find_nouns_udf(notes_w_tokens2[\"pos\"])).alias(\"word\"))\n",
    "nouns.cache()\n",
    "nouns.show(3)"
   ]
  },
  {
   "cell_type": "code",
   "execution_count": 168,
   "metadata": {
    "collapsed": false
   },
   "outputs": [
    {
     "name": "stdout",
     "output_type": "stream",
     "text": [
      "+----------+-----+\n",
      "|      word|count|\n",
      "+----------+-----+\n",
      "|         [|43176|\n",
      "|         ]|27293|\n",
      "|      data|16949|\n",
      "|     notes|14227|\n",
      "|      card|11475|\n",
      "|     field|10874|\n",
      "|      trap|10457|\n",
      "|       See|10227|\n",
      "|      soil|10045|\n",
      "|         ||10035|\n",
      "|collection| 9629|\n",
      "|         S| 9596|\n",
      "|    forest| 9478|\n",
      "|         (| 9363|\n",
      "|      Alch| 8557|\n",
      "|    litter| 8281|\n",
      "|       Co.| 7984|\n",
      "|    NOTEBY| 7062|\n",
      "|         m| 7059|\n",
      "|    Number| 6985|\n",
      "|    flight| 6847|\n",
      "| Herbarium| 6837|\n",
      "|Collection| 6719|\n",
      "|         C| 6298|\n",
      "|         )| 6151|\n",
      "|         W| 5951|\n",
      "|  specimen| 5936|\n",
      "|  NOTEDATE| 5689|\n",
      "|   prairie| 5583|\n",
      "|      tall| 5373|\n",
      "+----------+-----+\n",
      "only showing top 30 rows\n",
      "\n"
     ]
    }
   ],
   "source": [
    "noun_counts = nouns\\\n",
    "    .groupBy(\"word\")\\\n",
    "    .count()\\\n",
    "    .orderBy(\"count\", ascending=False)\\\n",
    "    \n",
    "noun_counts.show(30)"
   ]
  },
  {
   "cell_type": "code",
   "execution_count": 169,
   "metadata": {
    "collapsed": false
   },
   "outputs": [
    {
     "data": {
      "text/plain": [
       "DataFrame[word: string, count: bigint]"
      ]
     },
     "execution_count": 169,
     "metadata": {},
     "output_type": "execute_result"
    }
   ],
   "source": [
    "noun_counts.cache()"
   ]
  },
  {
   "cell_type": "code",
   "execution_count": 171,
   "metadata": {
    "collapsed": false
   },
   "outputs": [
    {
     "name": "stdout",
     "output_type": "stream",
     "text": [
      "+--------------------+-----+\n",
      "|                word|count|\n",
      "+--------------------+-----+\n",
      "|                R32W|    1|\n",
      "|                Lehm|    1|\n",
      "|                 CFS|    1|\n",
      "|Gaultheria-Vaccinium|    1|\n",
      "|          Slimbridge|    1|\n",
      "|             CUTLEAF|    1|\n",
      "|              ywllow|    1|\n",
      "|             FURNACE|    1|\n",
      "|             litosol|    1|\n",
      "|            prosrate|    1|\n",
      "|            CAS/HBOI|    1|\n",
      "|                 tim|    1|\n",
      "|          OSAL001066|    1|\n",
      "|              km80.2|    1|\n",
      "|            elkoense|    1|\n",
      "|det_comments:29.8...|    1|\n",
      "|             videtai|    1|\n",
      "|              Pledad|    1|\n",
      "|               IV-19|    1|\n",
      "|                 BRH|    1|\n",
      "|           ATTENDING|    1|\n",
      "|            bivelves|    1|\n",
      "|              Khybeu|    1|\n",
      "|            Oonopsis|    1|\n",
      "|                Exs.|    1|\n",
      "|          VI-27-1933|    1|\n",
      "|               Refer|    1|\n",
      "|          truncicola|    1|\n",
      "|           suberecta|    1|\n",
      "|           rosy-pink|    1|\n",
      "+--------------------+-----+\n",
      "only showing top 30 rows\n",
      "\n"
     ]
    }
   ],
   "source": [
    "noun_counts.orderBy(noun_counts[\"count\"]).show(30)"
   ]
  },
  {
   "cell_type": "code",
   "execution_count": 187,
   "metadata": {
    "collapsed": false
   },
   "outputs": [
    {
     "name": "stdout",
     "output_type": "stream",
     "text": [
      "    word  count\n",
      "0      [  43176\n",
      "1      ]  27293\n",
      "2   data  16949\n",
      "3  notes  14227\n",
      "4   card  11475\n"
     ]
    }
   ],
   "source": [
    "noun_counts_pdf = noun_counts.limit(1000).toPandas()\n",
    "print(noun_counts_pdf.head())\n",
    "\n",
    "tuples = []\n",
    "for l in noun_counts_pdf.iterrows():\n",
    "    tuples.append( (l[1], l[0]) )"
   ]
  },
  {
   "cell_type": "code",
   "execution_count": 186,
   "metadata": {
    "collapsed": false
   },
   "outputs": [
    {
     "ename": "ValueError",
     "evalue": "The truth value of a Series is ambiguous. Use a.empty, a.bool(), a.item(), a.any() or a.all().",
     "output_type": "error",
     "traceback": [
      "\u001b[1;31m---------------------------------------------------------------------------\u001b[0m",
      "\u001b[1;31mValueError\u001b[0m                                Traceback (most recent call last)",
      "\u001b[1;32m<ipython-input-186-d1d9a105dc58>\u001b[0m in \u001b[0;36m<module>\u001b[1;34m()\u001b[0m\n\u001b[0;32m      2\u001b[0m \u001b[1;32mfrom\u001b[0m \u001b[0mwordcloud\u001b[0m \u001b[1;32mimport\u001b[0m \u001b[0mWordCloud\u001b[0m\u001b[1;33m\u001b[0m\u001b[0m\n\u001b[0;32m      3\u001b[0m \u001b[1;33m\u001b[0m\u001b[0m\n\u001b[1;32m----> 4\u001b[1;33m \u001b[0mwordcloud\u001b[0m \u001b[1;33m=\u001b[0m \u001b[0mWordCloud\u001b[0m\u001b[1;33m(\u001b[0m\u001b[1;33m)\u001b[0m\u001b[1;33m.\u001b[0m\u001b[0mgenerate_from_frequencies\u001b[0m\u001b[1;33m(\u001b[0m\u001b[0mtuples\u001b[0m\u001b[1;33m)\u001b[0m\u001b[1;33m\u001b[0m\u001b[0m\n\u001b[0m",
      "\u001b[1;32m/usr/local/lib/python2.7/dist-packages/wordcloud/wordcloud.pyc\u001b[0m in \u001b[0;36mgenerate_from_frequencies\u001b[1;34m(self, frequencies)\u001b[0m\n\u001b[0;32m    261\u001b[0m         \"\"\"\n\u001b[0;32m    262\u001b[0m         \u001b[1;31m# make sure frequencies are sorted and normalized\u001b[0m\u001b[1;33m\u001b[0m\u001b[1;33m\u001b[0m\u001b[0m\n\u001b[1;32m--> 263\u001b[1;33m         \u001b[0mfrequencies\u001b[0m \u001b[1;33m=\u001b[0m \u001b[0msorted\u001b[0m\u001b[1;33m(\u001b[0m\u001b[0mfrequencies\u001b[0m\u001b[1;33m,\u001b[0m \u001b[0mkey\u001b[0m\u001b[1;33m=\u001b[0m\u001b[0mitem1\u001b[0m\u001b[1;33m,\u001b[0m \u001b[0mreverse\u001b[0m\u001b[1;33m=\u001b[0m\u001b[0mTrue\u001b[0m\u001b[1;33m)\u001b[0m\u001b[1;33m\u001b[0m\u001b[0m\n\u001b[0m\u001b[0;32m    264\u001b[0m         \u001b[0mfrequencies\u001b[0m \u001b[1;33m=\u001b[0m \u001b[0mfrequencies\u001b[0m\u001b[1;33m[\u001b[0m\u001b[1;33m:\u001b[0m\u001b[0mself\u001b[0m\u001b[1;33m.\u001b[0m\u001b[0mmax_words\u001b[0m\u001b[1;33m]\u001b[0m\u001b[1;33m\u001b[0m\u001b[0m\n\u001b[0;32m    265\u001b[0m         \u001b[1;31m# largest entry will be 1\u001b[0m\u001b[1;33m\u001b[0m\u001b[1;33m\u001b[0m\u001b[0m\n",
      "\u001b[1;32m/usr/local/lib/python2.7/dist-packages/pandas/core/generic.pyc\u001b[0m in \u001b[0;36m__nonzero__\u001b[1;34m(self)\u001b[0m\n\u001b[0;32m    712\u001b[0m         raise ValueError(\"The truth value of a {0} is ambiguous. \"\n\u001b[0;32m    713\u001b[0m                          \u001b[1;34m\"Use a.empty, a.bool(), a.item(), a.any() or a.all().\"\u001b[0m\u001b[1;33m\u001b[0m\u001b[0m\n\u001b[1;32m--> 714\u001b[1;33m                          .format(self.__class__.__name__))\n\u001b[0m\u001b[0;32m    715\u001b[0m \u001b[1;33m\u001b[0m\u001b[0m\n\u001b[0;32m    716\u001b[0m     \u001b[0m__bool__\u001b[0m \u001b[1;33m=\u001b[0m \u001b[0m__nonzero__\u001b[0m\u001b[1;33m\u001b[0m\u001b[0m\n",
      "\u001b[1;31mValueError\u001b[0m: The truth value of a Series is ambiguous. Use a.empty, a.bool(), a.item(), a.any() or a.all()."
     ]
    }
   ],
   "source": [
    "%matplotlib inline\n",
    "from wordcloud import WordCloud\n",
    "\n",
    "wordcloud = WordCloud().generate_from_frequencies(tuples)"
   ]
  },
  {
   "cell_type": "code",
   "execution_count": null,
   "metadata": {
    "collapsed": true
   },
   "outputs": [],
   "source": [
    "# And some verbs"
   ]
  }
 ],
 "metadata": {
  "kernelspec": {
   "display_name": "Python 2",
   "language": "python",
   "name": "python2"
  },
  "language_info": {
   "codemirror_mode": {
    "name": "ipython",
    "version": 2
   },
   "file_extension": ".py",
   "mimetype": "text/x-python",
   "name": "python",
   "nbconvert_exporter": "python",
   "pygments_lexer": "ipython2",
   "version": "2.7.6"
  }
 },
 "nbformat": 4,
 "nbformat_minor": 0
}

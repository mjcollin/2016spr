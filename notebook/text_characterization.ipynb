{
 "cells": [
  {
   "cell_type": "markdown",
   "metadata": {},
   "source": [
    "Characterizations of data in iDigBio suitible for text mining"
   ]
  },
  {
   "cell_type": "code",
   "execution_count": 35,
   "metadata": {
    "collapsed": false
   },
   "outputs": [],
   "source": [
    "%matplotlib inline\n",
    "from __future__ import print_function\n",
    "import os\n",
    "from pyspark import SQLContext\n",
    "import matplotlib.pyplot as plt\n",
    "import math\n",
    "import seaborn as sns"
   ]
  },
  {
   "cell_type": "code",
   "execution_count": 2,
   "metadata": {
    "collapsed": false,
    "scrolled": true
   },
   "outputs": [
    {
     "name": "stdout",
     "output_type": "stream",
     "text": [
      "99999\n"
     ]
    }
   ],
   "source": [
    "# Load iDigBio Parquet\n",
    "sqlContext = SQLContext(sc)\n",
    "#idbdf = sqlContext.read.parquet(\"../data/idigbio/occurrence.txt.parquet\")\n",
    "idbdf = sqlContext.read.parquet(\"../data/idigbio-100k/occurrence.txt.parquet\")\n",
    "total_records = idbdf.count()\n",
    "print(total_records)"
   ]
  },
  {
   "cell_type": "markdown",
   "metadata": {},
   "source": [
    "Let's start with the assumption that we know what fields are useful for looking for general features (we're not interested in parsing of taxonomic history or fields that are very specific to a single feature and require lots of domain knowlege to decode data representations.)\n",
    "\n",
    "http://rs.tdwg.org/dwc/terms/dynamicProperties\n",
    "http://rs.tdwg.org/dwc/terms/fieldNotes\n",
    "http://portal.idigbio.org/terms/associateNotes\n",
    "http://rs.tdwg.org/dwc/terms/occurrenceRemarks\n",
    "http://rs.tdwg.org/dwc/terms/eventRemarks\n",
    "\n",
    "Of these, dynamicProperties is best left for parsing. associateNotes is an iDigBio term that I'm not sure what it is. This leaves fieldNotes, occurrenceRemarks, and eventRemarks.\n",
    "\n",
    "How many records have something in these fields?"
   ]
  },
  {
   "cell_type": "code",
   "execution_count": 9,
   "metadata": {
    "collapsed": false,
    "scrolled": true
   },
   "outputs": [
    {
     "name": "stdout",
     "output_type": "stream",
     "text": [
      "20745\n",
      "20.7452074521\n",
      " SVL 43.0 mm, Total 112.0 mm, WT 1.1 gm.  Time constrained searches. \n",
      " Additional data on card. \n",
      " Additional data on card \n",
      "  1 of 2 collections made with field number WGS 67-42.\n",
      "  flight intercept trap\n",
      "  = RHR96-21; see field notes\n",
      " Flowers purple. \n",
      " Additional data on card \n",
      "  flight intercept trap\n",
      " Habenaria hyperborea \n"
     ]
    }
   ],
   "source": [
    "# http://www.nodalpoint.com/unexpected-behavior-of-spark-dataframe-filter-method/\n",
    "# Use SQL syntax here because column names suck\n",
    "idbdf.registerTempTable(\"idbtable\")\n",
    "notes = sqlContext.sql(\"\"\"\n",
    "                       SELECT\n",
    "                       *,\n",
    "                       CONCAT(`http://rs.tdwg.org/dwc/terms/fieldNotes`, ' ',\n",
    "                       `http://rs.tdwg.org/dwc/terms/occurrenceRemarks`, ' ',\n",
    "                       `http://rs.tdwg.org/dwc/terms/eventRemarks`\n",
    "                       ) as document\n",
    "                       FROM idbtable WHERE \n",
    "                       `http://rs.tdwg.org/dwc/terms/fieldNotes` != '' OR\n",
    "                       `http://rs.tdwg.org/dwc/terms/occurrenceRemarks` != '' OR \n",
    "                       `http://rs.tdwg.org/dwc/terms/eventRemarks` != ''\n",
    "                       \"\"\")\n",
    "notes_records = notes.count()\n",
    "print(notes_records)\n",
    "print(1.0 * notes_records/total_records * 100)\n",
    "for r in notes.head(10):\n",
    "    print(r['document'])\n"
   ]
  },
  {
   "cell_type": "markdown",
   "metadata": {},
   "source": [
    "What are typical lengths of text to work with here? Histogram of length of the document texts"
   ]
  },
  {
   "cell_type": "code",
   "execution_count": 16,
   "metadata": {
    "collapsed": false
   },
   "outputs": [],
   "source": [
    "# make a Pandas data frame to work with, this is expensive-ish depending on data size, \n",
    "# perhaps we should cut back on the columns in the select statement and alias them to make\n",
    "# life better? -- OOM's with full data set\n",
    "notes_pd = notes.toPandas()"
   ]
  },
  {
   "cell_type": "code",
   "execution_count": 37,
   "metadata": {
    "collapsed": false
   },
   "outputs": [
    {
     "name": "stdout",
     "output_type": "stream",
     "text": [
      "<class 'pandas.core.frame.DataFrame'>\n"
     ]
    },
    {
     "data": {
      "text/plain": [
       "<matplotlib.axes._subplots.AxesSubplot at 0x7f8c2833f3d0>"
      ]
     },
     "execution_count": 37,
     "metadata": {},
     "output_type": "execute_result"
    },
    {
     "data": {
      "image/png": "[encoded data removed]",
      "text/plain": [
       "<matplotlib.figure.Figure at 0x7f8c272da490>"
      ]
     },
     "metadata": {},
     "output_type": "display_data"
    }
   ],
   "source": [
    "print(type(notes_pd))\n",
    "\n",
    "# I guess there are some None's in the column...\n",
    "def wow(r):\n",
    "    if r['document'] is None:\n",
    "        return 0\n",
    "    else:\n",
    "        return math.log(len(r['document']))\n",
    "    \n",
    "notes_pd['document_len'] = notes_pd.apply(lambda r: wow(r), axis=1) \n",
    "#print(notes_pd.head())\n",
    "sns.distplot(notes_pd['document_len'])"
   ]
  },
  {
   "cell_type": "code",
   "execution_count": 44,
   "metadata": {
    "collapsed": false
   },
   "outputs": [
    {
     "name": "stdout",
     "output_type": "stream",
     "text": [
      "0      SVL 43.0 mm, Total 112.0 mm, WT 1.1 gm.  Time...\n",
      "27     Originally identified as Pseudacris maculata;...\n",
      "30    ACC: 0; Group Number: 13; Preparation: 0 Alch,...\n",
      "32     Tree 5 m tall.  Mature berries purple-black. ...\n",
      "39     UNC-IMS 6205 originally contained lots from m...\n",
      "Name: document, dtype: object\n"
     ]
    }
   ],
   "source": [
    "# Really, I have ones that are 10k characters?\n",
    "print(notes_pd.loc[notes_pd['document_len'] > 4].head()['document'])\n"
   ]
  }
 ],
 "metadata": {
  "kernelspec": {
   "display_name": "Python 2",
   "language": "python",
   "name": "python2"
  },
  "language_info": {
   "codemirror_mode": {
    "name": "ipython",
    "version": 2
   },
   "file_extension": ".py",
   "mimetype": "text/x-python",
   "name": "python",
   "nbconvert_exporter": "python",
   "pygments_lexer": "ipython2",
   "version": "2.7.6"
  }
 },
 "nbformat": 4,
 "nbformat_minor": 0
}

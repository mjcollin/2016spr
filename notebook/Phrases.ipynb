{
 "cells": [
  {
   "cell_type": "code",
   "execution_count": 10,
   "metadata": {
    "collapsed": false
   },
   "outputs": [],
   "source": [
    "%matplotlib inline\n",
    "from __future__ import print_function\n",
    "import os\n",
    "from pyspark import SQLContext\n",
    "from pyspark.sql import Row\n",
    "import pyspark.sql.functions as sql\n",
    "import pyspark.sql.types as types\n",
    "#from pyspark.sql.functions import udf, length\n",
    "import matplotlib.pyplot as plt\n",
    "import numpy\n",
    "import math\n",
    "import matplotlib.pyplot as plt\n",
    "import seaborn as sns\n",
    "\n",
    "import nltk\n",
    "import pyspark.ml.feature as feature"
   ]
  },
  {
   "cell_type": "code",
   "execution_count": 11,
   "metadata": {
    "collapsed": false
   },
   "outputs": [
    {
     "name": "stdout",
     "output_type": "stream",
     "text": [
      "36387\n",
      "root\n",
      " |-- phrase: string (nullable = true)\n",
      " |-- count: long (nullable = true)\n",
      "\n"
     ]
    }
   ],
   "source": [
    "# Load Processed Parquet\n",
    "sqlContext = SQLContext(sc)\n",
    "phrases = sqlContext.read.parquet(\"../data/idigbio_phrases.parquet\")\\\n",
    "    .sort(sql.col(\"count\"), ascending=False)\n",
    "total_records = phrases.count()\n",
    "print(total_records)\n",
    "phrases.printSchema()"
   ]
  },
  {
   "cell_type": "code",
   "execution_count": 3,
   "metadata": {
    "collapsed": false
   },
   "outputs": [
    {
     "name": "stdout",
     "output_type": "stream",
     "text": [
      "+----------+\n",
      "|sum(count)|\n",
      "+----------+\n",
      "|    308305|\n",
      "+----------+\n",
      "\n"
     ]
    }
   ],
   "source": [
    "# our job didn't keep the total number of phrases found so we'll have to add that up\n",
    "phrases.select(sql.sum(sql.col(\"count\"))).show()"
   ]
  },
  {
   "cell_type": "code",
   "execution_count": 4,
   "metadata": {
    "collapsed": false
   },
   "outputs": [
    {
     "name": "stdout",
     "output_type": "stream",
     "text": [
      "+-------+------------------+\n",
      "|summary|             count|\n",
      "+-------+------------------+\n",
      "|  count|             36387|\n",
      "|   mean| 8.472943633715339|\n",
      "| stddev|294.87045518010905|\n",
      "|    min|                 1|\n",
      "|    max|             52092|\n",
      "+-------+------------------+\n",
      "\n",
      "+---------------------------------------+-----+\n",
      "|phrase                                 |count|\n",
      "+---------------------------------------+-----+\n",
      "|intercept trap                         |52092|\n",
      "|forest litter                          |12723|\n",
      "|field notes                            |10554|\n",
      "|field notebook                         |5607 |\n",
      "|fogging fungus covered log             |4744 |\n",
      "|tropical forest flight intercept trap  |3083 |\n",
      "|for. litter berlese forest litter      |2874 |\n",
      "|berlese forest litter                  |2724 |\n",
      "|montane forest litter                  |2714 |\n",
      "|flight intercept trap                  |2633 |\n",
      "|rainforest litter                      |2445 |\n",
      "|cloud forest flight intercept trap     |2434 |\n",
      "|frank-t. krell                         |2402 |\n",
      "|h. welch                               |2236 |\n",
      "|fungusy log                            |1949 |\n",
      "|of british columbia herbarium          |1785 |\n",
      "|rain forest flight intercept trap      |1618 |\n",
      "|see field notes                        |1570 |\n",
      "|forest cloud forest litter             |1440 |\n",
      "|in fieldbook                           |1351 |\n",
      "|station sheet                          |1299 |\n",
      "|not yet published                      |1231 |\n",
      "|funnel extraction                      |1188 |\n",
      "|botanical garden herbarium             |1176 |\n",
      "|data not interpreted                   |1141 |\n",
      "|large trees                            |1099 |\n",
      "|rainforest flight intercept trap       |1060 |\n",
      "|moving thru pass against wind-migration|1025 |\n",
      "|nest series                            |1024 |\n",
      "|american flora                         |949  |\n",
      "+---------------------------------------+-----+\n",
      "only showing top 30 rows\n",
      "\n"
     ]
    }
   ],
   "source": [
    "phrases.describe().show()\n",
    "phrases.show(30, truncate=False)"
   ]
  },
  {
   "cell_type": "code",
   "execution_count": 5,
   "metadata": {
    "collapsed": false
   },
   "outputs": [
    {
     "name": "stdout",
     "output_type": "stream",
     "text": [
      "+-----+\n",
      "|count|\n",
      "+-----+\n",
      "|    1|\n",
      "|    1|\n",
      "|    1|\n",
      "+-----+\n",
      "only showing top 3 rows\n",
      "\n"
     ]
    }
   ],
   "source": [
    "# Median phrase count\n",
    "import math\n",
    "phrases\\\n",
    "    .select(sql.col(\"count\"))\\\n",
    "    .limit(int(math.floor(total_records/2)))\\\n",
    "    .orderBy(sql.col(\"count\"))\\\n",
    "    .show(3)"
   ]
  },
  {
   "cell_type": "code",
   "execution_count": 6,
   "metadata": {
    "collapsed": false
   },
   "outputs": [
    {
     "data": {
      "text/plain": [
       "10112"
      ]
     },
     "execution_count": 6,
     "metadata": {},
     "output_type": "execute_result"
    }
   ],
   "source": [
    "# ok, how many have more than 1?\n",
    "phrases\\\n",
    "    .filter(sql.col(\"count\") > 1)\\\n",
    "    .count()"
   ]
  },
  {
   "cell_type": "code",
   "execution_count": 7,
   "metadata": {
    "collapsed": true
   },
   "outputs": [],
   "source": [
    "# distribution of phrase frequency\n",
    "phrases_pdf = phrases.limit(10000).toPandas()"
   ]
  },
  {
   "cell_type": "code",
   "execution_count": 8,
   "metadata": {
    "collapsed": false
   },
   "outputs": [
    {
     "name": "stdout",
     "output_type": "stream",
     "text": [
      "ERROR! Session/line number was not unique in database. History logging moved to new session 117\n"
     ]
    },
    {
     "data": {
      "text/plain": [
       "<matplotlib.text.Text at 0x7f4b97285b50>"
      ]
     },
     "execution_count": 8,
     "metadata": {},
     "output_type": "execute_result"
    },
    {
     "data": {
      "image/png": "[encoded data removed]",
      "text/plain": [
       "<matplotlib.figure.Figure at 0x7f4b9760e150>"
      ]
     },
     "metadata": {},
     "output_type": "display_data"
    }
   ],
   "source": [
    "import seaborn as sns\n",
    "ax = sns.barplot(x=\"phrase\", y=\"count\", data=phrases_pdf, color=\"black\")\n",
    "ticks = range(0, 10001, 2000)\n",
    "ax.set_yscale('log')\n",
    "ax.get_xaxis().set_ticks(ticks)\n",
    "ax.get_xaxis().set_ticklabels(ticks)\n",
    "ax.set_title(\"Distribution of Noun Phrases Found\")\n",
    "ax.set_ylabel(\"Count (Log scale)\")\n",
    "ax.set_xlabel(\"Rank of Unique Noun Phrases\")\n"
   ]
  },
  {
   "cell_type": "code",
   "execution_count": 15,
   "metadata": {
    "collapsed": true
   },
   "outputs": [],
   "source": [
    "# write frequently used ones out\n",
    "# Change col names to match nouns so we can use same OLS script\n",
    "phrases\\\n",
    "    .filter(sql.col(\"count\") > 1)\\\n",
    "    .select(sql.col(\"phrase\").alias(\"noun\"), sql.col(\"count\"))\\\n",
    "    .write.format(\"json\").save(\"../data/idigbio_phrases.json\")"
   ]
  },
  {
   "cell_type": "code",
   "execution_count": 12,
   "metadata": {
    "collapsed": false
   },
   "outputs": [
    {
     "name": "stdout",
     "output_type": "stream",
     "text": [
      "9579\n"
     ]
    }
   ],
   "source": [
    "# Have done the lookups, now analize just the phrases we looked up\n",
    "# Load Processed Parquet\n",
    "ols = sqlContext.read.json(\"../data/idigbio_envo_terms.json\")\n",
    "ols = ols\\\n",
    "    .filter(sql.col(\"time\") > \"2016-04-19T00:00:00.00\")\n",
    "\n",
    "total_records = ols.count()\n",
    "print(total_records)\n",
    "#ols.printSchema()\n"
   ]
  },
  {
   "cell_type": "code",
   "execution_count": 13,
   "metadata": {
    "collapsed": false
   },
   "outputs": [
    {
     "name": "stdout",
     "output_type": "stream",
     "text": [
      "7917\n",
      "1662\n"
     ]
    }
   ],
   "source": [
    "print(ols.filter(sql.col(\"term_id\") != \"\").count())\n",
    "print(ols.filter(sql.col(\"term_id\") == \"\").count())"
   ]
  },
  {
   "cell_type": "code",
   "execution_count": 14,
   "metadata": {
    "collapsed": false
   },
   "outputs": [
    {
     "name": "stdout",
     "output_type": "stream",
     "text": [
      "1208\n",
      "+--------------------------------------------------+---------------------------+-----+\n",
      "|term_id                                           |term_label                 |count|\n",
      "+--------------------------------------------------+---------------------------+-----+\n",
      "|envo:http://purl.obolibrary.org/obo/ENVO_01000352 |field                      |220  |\n",
      "|envo:http://purl.obolibrary.org/obo/ENVO_01000116 |pebble sediment            |178  |\n",
      "|envo:                                             |Environment Ontology       |159  |\n",
      "|envo:http://purl.obolibrary.org/obo/ENVO_01000709 |flash flooding             |135  |\n",
      "|envo:http://purl.obolibrary.org/obo/ENVO_02500020 |results in proliferation of|135  |\n",
      "|envo:http://purl.obolibrary.org/obo/ENVO_01000337 |herb and fern layer        |123  |\n",
      "|envo:http://purl.obolibrary.org/obo/ENVO_01000628 |plant litter               |109  |\n",
      "|envo:http://purl.obolibrary.org/obo/ENVO_01000257 |white smoker               |108  |\n",
      "|envo:http://purl.obolibrary.org/obo/ENVO_00000111 |forest                     |94   |\n",
      "|envo:http://purl.obolibrary.org/obo/ENVO_00000467 |university campus          |94   |\n",
      "|envo:http://purl.obolibrary.org/obo/ENVO_00003046 |Bleu  de Bresse            |88   |\n",
      "|envo:http://purl.obolibrary.org/obo/ENVO_01000338 |litter layer               |73   |\n",
      "|envo:http://purl.obolibrary.org/obo/CHEBI_35209   |label                      |73   |\n",
      "|envo:http://purl.obolibrary.org/obo/ENVO_01000336 |shrub layer                |67   |\n",
      "|envo:http://purl.obolibrary.org/obo/ENVO_00003887 |blue cheese                |67   |\n",
      "|envo:http://purl.obolibrary.org/obo/ENVO_01000507 |iron sheet                 |66   |\n",
      "|envo:http://purl.obolibrary.org/obo/ENVO_0010117  |velvet bean product        |63   |\n",
      "|envo:http://purl.obolibrary.org/obo/PATO_0001422  |dead                       |61   |\n",
      "|envo:http://purl.obolibrary.org/obo/UBERON_0000332|yellow bone marrow         |60   |\n",
      "|envo:http://purl.obolibrary.org/obo/ENVO_01000335 |understory                 |53   |\n",
      "+--------------------------------------------------+---------------------------+-----+\n",
      "only showing top 20 rows\n",
      "\n"
     ]
    }
   ],
   "source": [
    "# What kinds of things were we finding?\n",
    "terms = ols\\\n",
    "    .dropna(subset=[\"term_id\"])\\\n",
    "    .filter(sql.col(\"term_id\") != \"\")\\\n",
    "    .groupBy(sql.col(\"term_id\"), sql.col(\"term_label\"))\\\n",
    "    .count()\\\n",
    "    .orderBy(sql.col(\"count\"), ascending=False)\n",
    "    \n",
    "print(terms.count())\n",
    "terms.show(20, truncate=False)"
   ]
  },
  {
   "cell_type": "code",
   "execution_count": 18,
   "metadata": {
    "collapsed": false
   },
   "outputs": [
    {
     "name": "stdout",
     "output_type": "stream",
     "text": [
      "+-----------------------------------------------------------------------+-------------------------------------------+\n",
      "|noun                                                                   |term_label                                 |\n",
      "+-----------------------------------------------------------------------+-------------------------------------------+\n",
      "|dark blue-purple                                                       |blue cheese                                |\n",
      "|herb. columbia college                                                 |herb and fern layer                        |\n",
      "|surface. see field notes                                               |snow field                                 |\n",
      "|brasil. regnell. musei bot. stockholm. plantae itineris regnelliani iii|flat glass                                 |\n",
      "|herb. lafayette college                                                |herb and fern layer                        |\n",
      "|laurelia novae-zelandiae leaf litter                                   |plant litter                               |\n",
      "|de lsd393                                                              |Bleu  de Bresse                            |\n",
      "|a wayside weed                                                         |human house                                |\n",
      "|human dung trap                                                        |dung building floor                        |\n",
      "|states national herbarium                                              |national forest                            |\n",
      "|nest box                                                               |nest of bird                               |\n",
      "|oak/alder/pine forest litter                                           |litter layer                               |\n",
      "|light blue                                                             |blue cheese                                |\n",
      "|mech dislodg study                                                     |nature reserve                             |\n",
      "|forest/montane tropical transition forest under fungusy log            |tropical upper montane forest              |\n",
      "|an escape                                                              |acidification of an aquatic environment    |\n",
      "|now restricted to jungermannia rubra                                   |environmental condition                    |\n",
      "|robins/june2001 no field notes                                         |field                                      |\n",
      "|mouth see field notes                                                  |mouth                                      |\n",
      "|only skull only                                                        |skull                                      |\n",
      "|museum no.9730                                                         |flash flooding                             |\n",
      "|det_comments:38 mm                                                     |pebble sediment                            |\n",
      "|hot pink                                                               |hot spring                                 |\n",
      "|another plant                                                          |sewage plant                               |\n",
      "|same item                                                              |collection of organisms of the same species|\n",
      "|genus/species listed                                                   |cypress strand swamp                       |\n",
      "|college herbarium                                                      |university campus                          |\n",
      "|jht77-120. swffs                                                       |western boundary current                   |\n",
      "|mounting board                                                         |road                                       |\n",
      "|kanouse name                                                           |marine sediment                            |\n",
      "|similar to ecclesiasticus                                              |transpiration                              |\n",
      "|very showy pink flowers                                                |maelstrom                                  |\n",
      "|of falls                                                               |Environment Ontology                       |\n",
      "|fallen epiphyte laiden branch under bark                               |understory                                 |\n",
      "|intercept trap night                                                   |pour-flush pit latrine                     |\n",
      "|herb. barnard college                                                  |herb and fern layer                        |\n",
      "|or more of elevation                                                   |Environment Ontology                       |\n",
      "|frequent herbaceous perennial                                          |herb and fern layer                        |\n",
      "|deep sea habitats expedition                                           |Environment Ontology                       |\n",
      "|var. glabrata leonard                                                  |velvet bean product                        |\n",
      "|oliver komar 's catalogue                                              |weir                                       |\n",
      "|white oak                                                              |oak woodland                               |\n",
      "|streamside shrub litter                                                |shrub layer                                |\n",
      "|varandas/february2004 see field notes                                  |field                                      |\n",
      "|juan river                                                             |river                                      |\n",
      "|pond. -rh robins                                                       |pond                                       |\n",
      "|section channelized                                                    |section of aorta                           |\n",
      "|feet away                                                              |latrine pit                                |\n",
      "|high elevation                                                         |elevation                                  |\n",
      "|sphagnum under betula                                                  |sphagnum bog                               |\n",
      "|going up tree trunk. night                                             |plant litter                               |\n",
      "|head lamping                                                           |head                                       |\n",
      "|rainforest jelly fungus                                                |tropical moist broadleaf forest biome      |\n",
      "|also field number cbf-3                                                |field                                      |\n",
      "|greenish brown                                                         |brown sugar                                |\n",
      "|donated to fred b                                                      |attached to                                |\n",
      "|tropical forest favolus hexagonalis                                    |tropical mangrove                          |\n",
      "|museum no.13596                                                        |flash flooding                             |\n",
      "|sampling.-ma phillips/september2009                                    |axilla skin                                |\n",
      "|pebble turret                                                          |pebble                                     |\n",
      "|information. -rh robins/march2008                                      |radio device                               |\n",
      "|pale red                                                               |red soil                                   |\n",
      "|en cooperacion con la universidad de los andes                         |Bleu  de Bresse                            |\n",
      "|margin prominent-lateral                                               |continental margin                         |\n",
      "|scrub-grass margin to remnant kahikatea forest                         |forest                                     |\n",
      "|elev not listed                                                        |environmental condition                    |\n",
      "|old growth forest                                                      |forest                                     |\n",
      "|flow.-ma phillips/september2009                                        |debris flow                                |\n",
      "|leg. m.47                                                              |leg                                        |\n",
      "|h. chrysargeum                                                         |NAD(P)H                                    |\n",
      "|exsicatti label                                                        |label                                      |\n",
      "|month record                                                           |arid subtropical                           |\n",
      "|rotten wood. uv+                                                       |wood                                       |\n",
      "|level. rocky roadside. soil- silty clay loam                           |loam                                       |\n",
      "|robins/november2000 see field notes                                    |field                                      |\n",
      "|abundant perennial                                                     |ice field                                  |\n",
      "|against window                                                         |hydrological condensation process          |\n",
      "|probably wrong                                                         |constructed feature                        |\n",
      "|stream. tj vigliotti/december2006                                      |stream                                     |\n",
      "|rust stage                                                             |S-shaped body                              |\n",
      "|not thigmotropic                                                       |track                                      |\n",
      "|university of montana                                                  |university campus                          |\n",
      "|head lamp                                                              |lamp                                       |\n",
      "|agave bases                                                            |fermented agave beverage                   |\n",
      "|usually sterile                                                        |sterile water                              |\n",
      "|a hiking trail                                                         |track                                      |\n",
      "|de rio                                                                 |river                                      |\n",
      "|herbarium kansas state collegee                                        |foam                                       |\n",
      "|light purple                                                           |photoreceptor array                        |\n",
      "|a las ruinas                                                           |human house                                |\n",
      "|little forage value                                                    |silage                                     |\n",
      "|deciduous wood                                                         |wood                                       |\n",
      "|rocky limestone slope                                                  |rocky slope                                |\n",
      "|umbellularia californica                                               |                                           |\n",
      "|gallinago gallinago delicata                                           |                                           |\n",
      "|camponotus crematogaster strimigenys                                   |                                           |\n",
      "|modoc formica neorufibarbis strays                                     |                                           |\n",
      "|norcross-bartlett expedition                                           |                                           |\n",
      "|terrestre. inflorescencia amarilla                                     |                                           |\n",
      "|flores rojas                                                           |                                           |\n",
      "|unkown. -march2003                                                     |                                           |\n",
      "|hyla bistincta                                                         |                                           |\n",
      "|lepraria arctica                                                       |                                           |\n",
      "|hypnum revolutum                                                       |                                           |\n",
      "|much branched and tall                                                 |                                           |\n",
      "|anemone chinensis                                                      |                                           |\n",
      "|muy escaso                                                             |                                           |\n",
      "|blackish purple                                                        |                                           |\n",
      "|bryologicum hjalmar moller                                             |                                           |\n",
      "|backpack shocker                                                       |                                           |\n",
      "|veraepacis latifasciatus                                               |                                           |\n",
      "|csm seine                                                              |                                           |\n",
      "|herbarium ksu                                                          |                                           |\n",
      "|albatross philipp                                                      |                                           |\n",
      "|imaged palmaceae                                                       |                                           |\n",
      "|castanopsis chrysophylla                                               |                                           |\n",
      "|aduncus paternus                                                       |                                           |\n",
      "|society foray                                                          |                                           |\n",
      "|dried out and disc                                                     |                                           |\n",
      "|pannaria praetermissa                                                  |                                           |\n",
      "|forel mars                                                             |                                           |\n",
      "|chrysophyllum caespitosum                                              |                                           |\n",
      "|trichomitrion immersus                                                 |                                           |\n",
      "|augusti cactorum                                                       |                                           |\n",
      "|populeum ovatum                                                        |                                           |\n",
      "|oreophilus and artemisia tridentata                                    |                                           |\n",
      "+-----------------------------------------------------------------------+-------------------------------------------+\n",
      "\n"
     ]
    }
   ],
   "source": [
    "# Manually review a random sample of positive results and negative results\n",
    "# Different random sample every time run\n",
    "ols\\\n",
    "    .filter(sql.col(\"term_id\") != \"\")\\\n",
    "    .sample(withReplacement=False, fraction=0.01)\\\n",
    "    .unionAll(\n",
    "    ols\\\n",
    "        .filter(sql.col(\"term_id\") == \"\")\\\n",
    "        .sample(withReplacement=False, fraction=0.02)\n",
    "    )\\\n",
    "    .select(sql.col(\"noun\"), sql.col(\"term_label\"))\\\n",
    "    .show(1000, truncate=False)"
   ]
  },
  {
   "cell_type": "code",
   "execution_count": null,
   "metadata": {
    "collapsed": true
   },
   "outputs": [],
   "source": []
  }
 ],
 "metadata": {
  "kernelspec": {
   "display_name": "Python 2",
   "language": "python",
   "name": "python2"
  },
  "language_info": {
   "codemirror_mode": {
    "name": "ipython",
    "version": 2
   },
   "file_extension": ".py",
   "mimetype": "text/x-python",
   "name": "python",
   "nbconvert_exporter": "python",
   "pygments_lexer": "ipython2",
   "version": "2.7.6"
  }
 },
 "nbformat": 4,
 "nbformat_minor": 0
}

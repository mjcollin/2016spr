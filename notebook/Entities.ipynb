{
 "cells": [
  {
   "cell_type": "markdown",
   "metadata": {},
   "source": [
    "# Identifying entities in notes\n",
    "\n",
    "Goal of this notebook is to determine how successful entity identification is using\n"
   ]
  },
  {
   "cell_type": "code",
   "execution_count": 1,
   "metadata": {
    "collapsed": false
   },
   "outputs": [
    {
     "name": "stderr",
     "output_type": "stream",
     "text": [
      ":0: FutureWarning: IPython widgets are experimental and may change in the future.\n"
     ]
    }
   ],
   "source": [
    "%matplotlib inline\n",
    "from __future__ import print_function\n",
    "import os\n",
    "from pyspark import SQLContext\n",
    "from pyspark.sql import Row\n",
    "import pyspark.sql.functions as sql\n",
    "import pyspark.sql.types as types\n",
    "#from pyspark.sql.functions import udf, length\n",
    "import matplotlib.pyplot as plt\n",
    "import numpy\n",
    "import math\n",
    "import matplotlib.pyplot as plt\n",
    "import seaborn as sns\n",
    "\n",
    "import nltk\n",
    "import pyspark.ml.feature as feature"
   ]
  },
  {
   "cell_type": "code",
   "execution_count": 18,
   "metadata": {
    "collapsed": false
   },
   "outputs": [
    {
     "name": "stdout",
     "output_type": "stream",
     "text": [
      "3230857\n",
      "323356\n"
     ]
    }
   ],
   "source": [
    "# Load Processed Parquet\n",
    "sqlContext = SQLContext(sc)\n",
    "notes = sqlContext.read.parquet(\"../data/idigbio_notes.parquet\")\n",
    "total_records = notes.count()\n",
    "print(total_records)\n",
    "# Small sample of the df\n",
    "notes = notes.sample(withReplacement=False, fraction=0.1)\n",
    "notes.cache()\n",
    "print(notes.count())"
   ]
  },
  {
   "cell_type": "code",
   "execution_count": 19,
   "metadata": {
    "collapsed": false,
    "scrolled": true
   },
   "outputs": [
    {
     "name": "stdout",
     "output_type": "stream",
     "text": [
      "+--------+\n",
      "|document|\n",
      "+--------+\n",
      "|!       |\n",
      "|!       |\n",
      "|!       |\n",
      "|!       |\n",
      "|!       |\n",
      "|!       |\n",
      "|!       |\n",
      "|!       |\n",
      "|!       |\n",
      "|!       |\n",
      "+--------+\n",
      "only showing top 10 rows\n",
      "\n",
      "+---------------------------------------------------------------------------------------------------------------------------------------------------------------------------------------------------------------------------------------------------------+\n",
      "|document                                                                                                                                                                                                                                                 |\n",
      "+---------------------------------------------------------------------------------------------------------------------------------------------------------------------------------------------------------------------------------------------------------+\n",
      "|♂                                                                                                                                                                                                                                                        |\n",
      "|♀; On same sheet as DS 136                                                                                                                                                                                                                               |\n",
      "|♀ [BARRO COLORADO-C.Z. Lights:/SM-L. 30 IV 1974 Coll. H. Wolda]                                                                                                                                                                                          |\n",
      "|♀                                                                                                                                                                                                                                                        |\n",
      "|♀                                                                                                                                                                                                                                                        |\n",
      "|♀                                                                                                                                                                                                                                                        |\n",
      "|“Notes presumably authored by the collector/determiner and accompanying specimen(s) associated with this locality refer to “Sisibarat.” The meaning of this term is not clear but may provide additional information concerning the collecting locality.”|\n",
      "|árbol de 6 m de alto;flor blanca con amarillo                                                                                                                                                                                                            |\n",
      "|Árvore.                                                                                                                                                                                                                                                  |\n",
      "|Árvore, flor alvescente.                                                                                                                                                                                                                                 |\n",
      "+---------------------------------------------------------------------------------------------------------------------------------------------------------------------------------------------------------------------------------------------------------+\n",
      "only showing top 10 rows\n",
      "\n"
     ]
    }
   ],
   "source": [
    "# Still have some problems with the document field having nulls and\n",
    "# being empty. Not sure where nulls came from but likely the \n",
    "# empties are really whitespace\n",
    "#notes = notes.select(sql.trim(notes[\"document\"]).alias(\"document\"))\\\n",
    "#    .dropna(subset=\"document\")\\\n",
    "#    .filter(sql.length(\"document\") > 0)\n",
    "\n",
    "\n",
    "#print(notes.count())\n",
    "\n",
    "# Moved the above to the text_characterization notebook and re-wrote parquet\n",
    "# should be clean now.\n",
    "\n",
    "notes.select(notes[\"document\"])\\\n",
    "    .orderBy(notes[\"document\"])\\\n",
    "    .show(10, truncate=False)\n",
    "notes.select(notes[\"document\"])\\\n",
    "    .orderBy(notes[\"document\"], ascending=False)\\\n",
    "    .show(10, truncate=False)"
   ]
  },
  {
   "cell_type": "markdown",
   "metadata": {},
   "source": [
    "## Sentence detection\n",
    "\n",
    "Does splitting in to sentences matter? Is there enough information to do this with a natural language library or should things like \",\" \"[]\", and \"{}\" be worked in to address semi-structured data?"
   ]
  },
  {
   "cell_type": "markdown",
   "metadata": {},
   "source": [
    "## Tokenize documents\n"
   ]
  },
  {
   "cell_type": "code",
   "execution_count": 4,
   "metadata": {
    "collapsed": false
   },
   "outputs": [
    {
     "name": "stdout",
     "output_type": "stream",
     "text": [
      "['Hello', ',', 'my', 'name', 'is', 'Mace', 'Windoo']\n"
     ]
    }
   ],
   "source": [
    "from lib.tokens import Tokens\n",
    "tokens = Tokens()\n",
    "t = tokens.tokenize(\"Hello, my name is Mace Windoo\")\n",
    "print(t)"
   ]
  },
  {
   "cell_type": "code",
   "execution_count": 5,
   "metadata": {
    "collapsed": false
   },
   "outputs": [
    {
     "name": "stdout",
     "output_type": "stream",
     "text": [
      "returned | specimens | identified | by | RES\n",
      "\n",
      "\n",
      "[ | 01°44'28 | '' | S | 51°27'21.3 | '' | W | BRASIL | : | PA | , | Melgaço | , | Caxiuanã | Estação | Cient. | Ferreira | Pena | Trilha | , | 19-22.xi.2003 | YPT | APAguiar | & | JDias | P05091 | ]\n",
      "\n",
      "\n",
      "Plot | : | S18. | Photo | : | yes | .\n",
      "\n",
      "\n",
      "5 | of | 81 | specs. | to | USNM | , | 86-3126 | ; | 5 | of | 81 | specs. | to | Kochi | U. | , | 86-3127 | ; | alcohol | specs. | in | 2 | jars. | Cruise | 18B | , | sta. | 770 | ; | same | as | sta. | LK | 66-120 | .\n",
      "\n",
      "\n",
      "Frequent. | In | sandy | soil | on | ridge | top | in | rough | breaks | with | Cercocarpus | montanus | , | Parthenium | alpinum | and | Musineon | .\n",
      "\n",
      "\n",
      "[ | 23°38'56.9 | '' | S | 45°53'48.8 | '' | W | , | BRASIL | : | SP | , | Salesópolis | , | Res. | , | Biol. | Boracéia | , | Trilha | dos | Pilões | , | P2.2 | , | margem | do | rio | , | 12-15.i.2003 | , | YPT | , | 863m | , | ACC | Macedo | & | JS | Freitas | ]\n",
      "\n",
      "\n",
      "Substrate | : | intact | coarse | down | wood | > | 5 | centimeter | diameter | , | decay | class | 1-2. | Growth | Vigor | : | non-reproductive | and | vigorous | .\n",
      "\n",
      "\n",
      "Small | shrubby | tree | along | road | .\n",
      "\n",
      "\n",
      "along | permanent | stream\n",
      "\n",
      "\n",
      "On | moist | and | diffusely | lit | boulder | .\n",
      "\n",
      "\n",
      "BMNH | ( | E | ) | 1016108 | ; | Arnold | Coll. | B.M.1934-354\n",
      "\n",
      "\n",
      "Measurements | : | 191-85-22-0\n",
      "\n",
      "\n",
      "Sandy | flood | plain | of | the | Platte | River | .\n",
      "\n",
      "\n",
      "locality | info | appears | to | be | incorrect | ... | ( | on | label | ) | N | Mexico | or | should | it | be | National | Monument | ... | db\n",
      "\n",
      "\n",
      "Shrub | 1 | m. | Corolla | translucent | white\n",
      "\n",
      "\n",
      "down | wood | ; | Tiffany | field | notebook\n",
      "\n",
      "\n",
      "Number | in | Set | : | 1 | ; | A | common | erect | perennial | herb | ; | flowers | brackish | .\n",
      "\n",
      "\n",
      "original | data | lost\n",
      "\n",
      "\n",
      "Herb. | Brasil. | Regnell. | Musei | bot. | Stockholm.\\r\\n\\r\\nExped. | Imae | Regnellian. | Lichenes\n",
      "\n",
      "\n",
      "Rep. | 1-B | ; | genitalia | slide | 178 | [ | FLORIDA | : | Leon | Co. | , | Tall | TimberRes. | Sta. | ; | added | 12-JUL-2002 | ] | [ | 24 | IX | 69 | ; | added | 12-JUL-2002 | ]\n",
      "\n",
      "\n",
      "under | pine | slab | at | abandoned | sawdust | pile\n",
      "\n",
      "\n",
      "Field | notes | on | file | .\n",
      "\n",
      "\n",
      "Handwritten | label | indicates | that | specimen | was | part | of | the | Cross | , | Dawson | , | or | Potts | collections | ( | fide | David | Bettman | ) | . | Label | states | 'Ex | larva | '\n",
      "\n",
      "\n",
      "Additional | data | on | card\n",
      "\n",
      "\n",
      "Aquatic | with | purple | petals | .\n",
      "\n",
      "\n",
      "Additional | data | on | card | .\n",
      "\n",
      "\n",
      "Also | a | paratype | of | Helminthosporium | glabroides | F. | Stevens | .\n",
      "\n",
      "\n",
      "Plot | C-17 | .\n",
      "\n",
      "\n",
      "Frequent\n",
      "\n",
      "\n",
      "Standard | OIl | Spill | Survey | 1971\n",
      "\n",
      "\n",
      "compost | pile\n",
      "\n",
      "\n",
      "Plants | of | Franklin | District | Northwest | Territories | , | Canada\n",
      "\n",
      "\n",
      "[ | ITALY | Lomb. | L. | Sartirana | Br. | 20.VII.54 | Brivio | ]\n",
      "\n",
      "\n",
      "elfin | bamboo/mixed | subparamo | litter | berlese | forest | litter\n",
      "\n",
      "\n",
      "hepialid | webs | on | trees\n",
      "\n",
      "\n",
      "`` | Fresh | . | ''\n",
      "\n",
      "\n",
      "flight | intercept | trap\n",
      "\n",
      "\n",
      "Tree | to | 3 | m | ; | flowers | cream | ; | occasional | .\n",
      "\n",
      "\n",
      "Rare\n",
      "\n",
      "\n",
      "Purchased | by | Columbia | College | , | 1885-7\n",
      "\n",
      "\n",
      "[ | This | collection | is | stored | in | the | indeterminate | Volvariaceae | box | . | ]\n",
      "\n",
      "\n",
      "Originally | cataloged | as | a | lot | , | see | SU | 2102 | .\n",
      "\n",
      "\n",
      "[ | 39°59.936'N | 83°02.809'W | USA | : | Ohio | , | Franklin | Co. | Columbus | @ | Kinnear | Rd. | 7-14.ix.2005 | Malaise | , | NF | Johnson | coll | . | ]\n",
      "\n",
      "\n",
      "savannah | forest | flight | intercept | trap\n",
      "\n",
      "\n",
      "Stiff | shrub\n",
      "\n",
      "\n",
      "From | CAS | 6528 | .\n",
      "\n",
      "\n",
      "found | on | Koeberlinia | spinosa | Zucc. | ( | crown | of | thorns | ) | [ | USDA | ]\n",
      "\n",
      "\n",
      "Source | : | MRS\n",
      "\n",
      "\n",
      "TC | 715 | ( | Cekalovic | 's | lot | number | )\n",
      "\n",
      "\n",
      "Wells | , | Whiting\n",
      "\n",
      "\n"
     ]
    }
   ],
   "source": [
    "udf_tokenize = sql.udf(tokens.tokenize, types.ArrayType(types.StringType()))\n",
    "\n",
    "notes_w_tokens = notes.withColumn('tokens', udf_tokenize(notes['document']))\n",
    "for r in notes_w_tokens.select(notes_w_tokens[\"tokens\"]).head(50):\n",
    "    print(\" | \".join(r[\"tokens\"]))\n",
    "    print(\"\\n\")"
   ]
  },
  {
   "cell_type": "code",
   "execution_count": 6,
   "metadata": {
    "collapsed": false
   },
   "outputs": [
    {
     "name": "stdout",
     "output_type": "stream",
     "text": [
      "root\n",
      " |-- uuid: string (nullable = true)\n",
      " |-- occurrenceID: string (nullable = true)\n",
      " |-- catalogNumber: string (nullable = true)\n",
      " |-- county: string (nullable = true)\n",
      " |-- institutionCode: string (nullable = true)\n",
      " |-- country: string (nullable = true)\n",
      " |-- countryCode: string (nullable = true)\n",
      " |-- stateProvince: string (nullable = true)\n",
      " |-- family: string (nullable = true)\n",
      " |-- recordedBy: string (nullable = true)\n",
      " |-- order: string (nullable = true)\n",
      " |-- specificEpithet: string (nullable = true)\n",
      " |-- genus: string (nullable = true)\n",
      " |-- sex: string (nullable = true)\n",
      " |-- scientificName: string (nullable = true)\n",
      " |-- year: string (nullable = true)\n",
      " |-- month: string (nullable = true)\n",
      " |-- fieldNotes: string (nullable = true)\n",
      " |-- occurrenceRemarks: string (nullable = true)\n",
      " |-- eventRemarks: string (nullable = true)\n",
      " |-- document: string (nullable = true)\n",
      " |-- document_len: integer (nullable = true)\n",
      " |-- fieldNotes_len: integer (nullable = true)\n",
      " |-- eventRemarks_len: integer (nullable = true)\n",
      " |-- occurrenceRemarks_len: integer (nullable = true)\n",
      " |-- tokens: array (nullable = true)\n",
      " |    |-- element: string (containsNull = true)\n",
      "\n"
     ]
    }
   ],
   "source": [
    "notes_w_tokens.printSchema()"
   ]
  },
  {
   "cell_type": "code",
   "execution_count": 7,
   "metadata": {
    "collapsed": false
   },
   "outputs": [
    {
     "name": "stdout",
     "output_type": "stream",
     "text": [
      "[{'tag': 'NNP', 'word': 'Hello'}, {'tag': ',', 'word': ','}, {'tag': 'PRP$', 'word': 'my'}, {'tag': 'NN', 'word': 'name'}, {'tag': 'VBZ', 'word': 'is'}, {'tag': 'NNP', 'word': 'Mace'}, {'tag': 'NNP', 'word': 'Windoo'}]\n",
      "<type 'list'>\n",
      "<type 'dict'>\n",
      "<type 'str'>\n",
      "{'tag': 'NNP', 'word': 'Hello'}\n"
     ]
    }
   ],
   "source": [
    "from lib.pos_tags import PosTags\n",
    "pos_tags = PosTags()\n",
    "\n",
    "pos = pos_tags.tag(t)\n",
    "print(pos)\n",
    "print(type(pos))\n",
    "print(type(pos[0]))\n",
    "print(type(pos[0][\"tag\"]))\n",
    "print(pos[0])"
   ]
  },
  {
   "cell_type": "code",
   "execution_count": 8,
   "metadata": {
    "collapsed": false,
    "scrolled": false
   },
   "outputs": [
    {
     "name": "stdout",
     "output_type": "stream",
     "text": [
      "returned (VBD) | specimens (NNS) | identified (VBD) | by (IN) | RES (NNP) | \n",
      "\n",
      "[ (NN) | 01°44'28 (CD) | '' ('') | S (NNP) | 51°27'21.3 (CD) | '' ('') | W (NNP) | BRASIL (NNP) | : (:) | PA (NNP) | , (,) | Melgaço (NNP) | , (,) | Caxiuanã (NNP) | Estação (NNP) | Cient. (NNP) | Ferreira (NNP) | Pena (NNP) | Trilha (NNP) | , (,) | 19-22.xi.2003 (CD) | YPT (NNP) | APAguiar (NNP) | & (CC) | JDias (NNP) | P05091 (NNP) | ] (NNP) | \n",
      "\n",
      "Plot (NN) | : (:) | S18. (NNP) | Photo (NNP) | : (:) | yes (NNS) | . (.) | \n",
      "\n",
      "5 (LS) | of (IN) | 81 (CD) | specs. (NNP) | to (TO) | USNM (NNP) | , (,) | 86-3126 (CD) | ; (:) | 5 (CD) | of (IN) | 81 (CD) | specs. (NNP) | to (TO) | Kochi (NNP) | U. (NNP) | , (,) | 86-3127 (CD) | ; (:) | alcohol (NN) | specs. (NNP) | in (IN) | 2 (CD) | jars. (NNP) | Cruise (NNP) | 18B (CD) | , (,) | sta. (NNP) | 770 (CD) | ; (:) | same (JJ) | as (IN) | sta. (NNP) | LK (NNP) | 66-120 (CD) | . (.) | \n",
      "\n",
      "Frequent. (NNP) | In (IN) | sandy (NN) | soil (NN) | on (IN) | ridge (NN) | top (NN) | in (IN) | rough (JJ) | breaks (NNS) | with (IN) | Cercocarpus (NNP) | montanus (NN) | , (,) | Parthenium (NNP) | alpinum (NN) | and (CC) | Musineon (NNP) | . (.) | \n",
      "\n",
      "[ (NN) | 23°38'56.9 (CD) | '' ('') | S (NNP) | 45°53'48.8 (CD) | '' ('') | W (NNP) | , (,) | BRASIL (NNP) | : (:) | SP (NNP) | , (,) | Salesópolis (NNP) | , (,) | Res. (NNP) | , (,) | Biol. (NNP) | Boracéia (NNP) | , (,) | Trilha (NNP) | dos (NNS) | Pilões (VBZ) | , (,) | P2.2 (-NONE-) | , (,) | margem (NN) | do (VB) | rio (NN) | , (,) | 12-15.i.2003 (CD) | , (,) | YPT (NNP) | , (,) | 863m (CD) | , (,) | ACC (NNP) | Macedo (NNP) | & (CC) | JS (NNP) | Freitas (NNP) | ] (NNP) | \n",
      "\n",
      "Substrate (NNP) | : (:) | intact (NN) | coarse (NN) | down (IN) | wood (NN) | > (:) | 5 (CD) | centimeter (NN) | diameter (NN) | , (,) | decay (NN) | class (NN) | 1-2. (CD) | Growth (NN) | Vigor (NNP) | : (:) | non-reproductive (JJ) | and (CC) | vigorous (JJ) | . (.) | \n",
      "\n",
      "Small (JJ) | shrubby (NN) | tree (NN) | along (IN) | road (NN) | . (.) | \n",
      "\n",
      "along (IN) | permanent (NN) | stream (NN) | \n",
      "\n",
      "On (IN) | moist (NN) | and (CC) | diffusely (RB) | lit (NN) | boulder (NN) | . (.) | \n",
      "\n",
      "BMNH (NNP) | ( (:) | E (NNP) | ) (:) | 1016108 (CD) | ; (:) | Arnold (NNP) | Coll. (NNP) | B.M.1934-354 (NNP) | \n",
      "\n",
      "Measurements (NNS) | : (:) | 191-85-22-0 (CD) | \n",
      "\n",
      "Sandy (NNP) | flood (VBD) | plain (NN) | of (IN) | the (DT) | Platte (NNP) | River (NNP) | . (.) | \n",
      "\n",
      "locality (NN) | info (VBD) | appears (NNS) | to (TO) | be (VB) | incorrect (JJ) | ... (:) | ( (:) | on (IN) | label (NN) | ) (:) | N (NNP) | Mexico (NNP) | or (CC) | should (MD) | it (PRP) | be (VB) | National (NNP) | Monument (NNP) | ... (:) | db (NN) | \n",
      "\n",
      "Shrub (NNP) | 1 (CD) | m. (NNP) | Corolla (NNP) | translucent (NN) | white (NN) | \n",
      "\n",
      "down (IN) | wood (NN) | ; (:) | Tiffany (NNP) | field (NN) | notebook (NN) | \n",
      "\n",
      "Number (NNP) | in (IN) | Set (NNP) | : (:) | 1 (LS) | ; (:) | A (DT) | common (JJ) | erect (NN) | perennial (JJ) | herb (NN) | ; (:) | flowers (NNS) | brackish (VBP) | . (.) | \n",
      "\n",
      "original (JJ) | data (NNS) | lost (VBD) | \n",
      "\n",
      "Herb. (NNP) | Brasil. (NNP) | Regnell. (NNP) | Musei (NNP) | bot. (NNP) | Stockholm.\\r\\n\\r\\nExped. (NNP) | Imae (NNP) | Regnellian. (NNP) | Lichenes (NNP) | \n",
      "\n",
      "Rep. (NNP) | 1-B (CD) | ; (:) | genitalia (NN) | slide (NN) | 178 (CD) | [ (CD) | FLORIDA (NNP) | : (:) | Leon (NNP) | Co. (NNP) | , (,) | Tall (NNP) | TimberRes. (NNP) | Sta. (NNP) | ; (:) | added (VBD) | 12-JUL-2002 (CD) | ] (CD) | [ (CD) | 24 (CD) | IX (CD) | 69 (CD) | ; (:) | added (VBD) | 12-JUL-2002 (CD) | ] (CD) | \n",
      "\n",
      "under (IN) | pine (NN) | slab (NN) | at (IN) | abandoned (VBN) | sawdust (RB) | pile (JJ) | \n",
      "\n",
      "Field (NNP) | notes (NNS) | on (IN) | file (JJ) | . (.) | \n",
      "\n",
      "Handwritten (NNP) | label (NN) | indicates (VBZ) | that (IN) | specimen (NNS) | was (VBD) | part (NN) | of (IN) | the (DT) | Cross (NNP) | , (,) | Dawson (NNP) | , (,) | or (CC) | Potts (NNP) | collections (NNS) | ( (:) | fide (NN) | David (NNP) | Bettman (NNP) | ) (NNP) | . (.) | Label (NNP) | states (VBZ) | 'Ex (JJ) | larva (NN) | ' ('') | \n",
      "\n",
      "Additional (JJ) | data (NNS) | on (IN) | card (NN) | \n",
      "\n",
      "Aquatic (JJ) | with (IN) | purple (JJ) | petals (NNS) | . (.) | \n",
      "\n",
      "Additional (JJ) | data (NNS) | on (IN) | card (NN) | . (.) | \n",
      "\n",
      "Also (RB) | a (DT) | paratype (NN) | of (IN) | Helminthosporium (NNP) | glabroides (VBZ) | F. (NNP) | Stevens (NNP) | . (.) | \n",
      "\n",
      "Plot (NN) | C-17 (-NONE-) | . (.) | \n",
      "\n",
      "Frequent (NNP) | \n",
      "\n",
      "Standard (NNP) | OIl (NNP) | Spill (NNP) | Survey (NNP) | 1971 (CD) | \n",
      "\n",
      "compost (NN) | pile (VBD) | \n",
      "\n",
      "Plants (NNS) | of (IN) | Franklin (NNP) | District (NNP) | Northwest (NNP) | Territories (NNP) | , (,) | Canada (NNP) | \n",
      "\n",
      "[ (NN) | ITALY (RB) | Lomb. (NNP) | L. (NNP) | Sartirana (NNP) | Br. (NNP) | 20.VII.54 (CD) | Brivio (NNP) | ] (NNP) | \n",
      "\n",
      "elfin (NN) | bamboo/mixed (VBN) | subparamo (NN) | litter (NN) | berlese (NN) | forest (NN) | litter (NN) | \n",
      "\n",
      "hepialid (VBD) | webs (NNS) | on (IN) | trees (NNS) | \n",
      "\n",
      "`` (``) | Fresh (JJ) | . (.) | '' ('') | \n",
      "\n",
      "flight (NN) | intercept (VBD) | trap (NN) | \n",
      "\n",
      "Tree (NNP) | to (TO) | 3 (CD) | m (NN) | ; (:) | flowers (NNS) | cream (VBP) | ; (:) | occasional (JJ) | . (.) | \n",
      "\n",
      "Rare (NNP) | \n",
      "\n",
      "Purchased (VBN) | by (IN) | Columbia (NNP) | College (NNP) | , (,) | 1885-7 (CD) | \n",
      "\n",
      "[ (NN) | This (DT) | collection (NN) | is (VBZ) | stored (VBN) | in (IN) | the (DT) | indeterminate (NN) | Volvariaceae (NNP) | box (NN) | . (.) | ] (NN) | \n",
      "\n",
      "Originally (RB) | cataloged (VBD) | as (IN) | a (DT) | lot (NN) | , (,) | see (VB) | SU (NNP) | 2102 (CD) | . (.) | \n",
      "\n",
      "[ (NN) | 39°59.936'N (CD) | 83°02.809'W (CD) | USA (NNP) | : (:) | Ohio (NNP) | , (,) | Franklin (NNP) | Co. (NNP) | Columbus (NNP) | @ (NNP) | Kinnear (NNP) | Rd. (NNP) | 7-14.ix.2005 (CD) | Malaise (NNP) | , (,) | NF (NNP) | Johnson (NNP) | coll (NN) | . (.) | ] (NN) | \n",
      "\n",
      "savannah (NN) | forest (VBD) | flight (NN) | intercept (IN) | trap (NN) | \n",
      "\n",
      "Stiff (NNP) | shrub (NN) | \n",
      "\n",
      "From (IN) | CAS (NNP) | 6528 (CD) | . (.) | \n",
      "\n",
      "found (VBD) | on (IN) | Koeberlinia (NNP) | spinosa (NN) | Zucc. (NNP) | ( (NNP) | crown (NN) | of (IN) | thorns (NNS) | ) (:) | [ (:) | USDA (NNP) | ] (:) | \n",
      "\n",
      "Source (NN) | : (:) | MRS (NNS) | \n",
      "\n",
      "TC (NNP) | 715 (CD) | ( (CD) | Cekalovic (NNP) | 's (POS) | lot (NN) | number (NN) | ) (:) | \n",
      "\n",
      "Wells (NNS) | , (,) | Whiting (NNP) | \n",
      "\n"
     ]
    }
   ],
   "source": [
    "udf_part_of_speech = sql.udf(pos_tags.tag, types.ArrayType(\n",
    "                                    types.MapType(\n",
    "                                        types.StringType(),\n",
    "                                        types.StringType()\n",
    "                                    )\n",
    "                                )\n",
    "                            )\n",
    "\n",
    "notes_w_tokens2 = notes_w_tokens.withColumn('pos', \n",
    "                                            udf_part_of_speech(notes_w_tokens['tokens']))\n",
    "\n",
    "for r in notes_w_tokens2.select(notes_w_tokens2[\"pos\"]).head(50):\n",
    "    s = \"\"\n",
    "    for p in r[\"pos\"]:\n",
    "        s = s + p[\"word\"] + \" (\" + p[\"tag\"] + \") | \"\n",
    "    print(s + \"\\n\")"
   ]
  },
  {
   "cell_type": "code",
   "execution_count": 9,
   "metadata": {
    "collapsed": false,
    "scrolled": false
   },
   "outputs": [
    {
     "name": "stdout",
     "output_type": "stream",
     "text": [
      "root\n",
      " |-- uuid: string (nullable = true)\n",
      " |-- occurrenceID: string (nullable = true)\n",
      " |-- catalogNumber: string (nullable = true)\n",
      " |-- county: string (nullable = true)\n",
      " |-- institutionCode: string (nullable = true)\n",
      " |-- country: string (nullable = true)\n",
      " |-- countryCode: string (nullable = true)\n",
      " |-- stateProvince: string (nullable = true)\n",
      " |-- family: string (nullable = true)\n",
      " |-- recordedBy: string (nullable = true)\n",
      " |-- order: string (nullable = true)\n",
      " |-- specificEpithet: string (nullable = true)\n",
      " |-- genus: string (nullable = true)\n",
      " |-- sex: string (nullable = true)\n",
      " |-- scientificName: string (nullable = true)\n",
      " |-- year: string (nullable = true)\n",
      " |-- month: string (nullable = true)\n",
      " |-- fieldNotes: string (nullable = true)\n",
      " |-- occurrenceRemarks: string (nullable = true)\n",
      " |-- eventRemarks: string (nullable = true)\n",
      " |-- document: string (nullable = true)\n",
      " |-- document_len: integer (nullable = true)\n",
      " |-- fieldNotes_len: integer (nullable = true)\n",
      " |-- eventRemarks_len: integer (nullable = true)\n",
      " |-- occurrenceRemarks_len: integer (nullable = true)\n",
      " |-- tokens: array (nullable = true)\n",
      " |    |-- element: string (containsNull = true)\n",
      " |-- pos: array (nullable = true)\n",
      " |    |-- element: map (containsNull = true)\n",
      " |    |    |-- key: string\n",
      " |    |    |-- value: string (valueContainsNull = true)\n",
      "\n"
     ]
    }
   ],
   "source": [
    "notes_w_tokens2.printSchema()"
   ]
  },
  {
   "cell_type": "code",
   "execution_count": 10,
   "metadata": {
    "collapsed": false,
    "scrolled": true
   },
   "outputs": [
    {
     "name": "stdout",
     "output_type": "stream",
     "text": [
      "+------------+\n",
      "|pos[0][word]|\n",
      "+------------+\n",
      "|returned    |\n",
      "|[           |\n",
      "|Plot        |\n",
      "+------------+\n",
      "only showing top 3 rows\n",
      "\n"
     ]
    }
   ],
   "source": [
    "# Can we work with maps natively?\n",
    "notes_w_tokens2.select(notes_w_tokens2[\"pos\"][0][\"word\"]).show(3, truncate=False)\n",
    "# YES!"
   ]
  },
  {
   "cell_type": "code",
   "execution_count": 28,
   "metadata": {
    "collapsed": false
   },
   "outputs": [],
   "source": [
    "# Let's go pipline our whole analysis\n",
    "from lib.tokens import Tokens\n",
    "from lib.pos_tags import PosTags\n",
    "from lib.relations import Relations\n",
    "\n",
    "t = Tokens()\n",
    "p = PosTags()\n",
    "r = Relations()\n",
    "\n",
    "def pipeline(s):\n",
    "    '''\n",
    "    Given a string, return a list of relations\n",
    "    '''\n",
    "    return r.find(p.tag(t.tokenize(s)))\n",
    "\n",
    "pipeline_udf = sql.udf(pipeline, types.ArrayType(\n",
    "                                       types.MapType(\n",
    "                                               types.StringType(), \n",
    "                                               types.MapType(\n",
    "                                                       types.StringType(),\n",
    "                                                       types.StringType()\n",
    "                                                       )\n",
    "                                               )\n",
    "                                       )\n",
    "                    )"
   ]
  },
  {
   "cell_type": "code",
   "execution_count": 29,
   "metadata": {
    "collapsed": false
   },
   "outputs": [
    {
     "name": "stdout",
     "output_type": "stream",
     "text": [
      "+---------------------------------------------------------------------------------------------------------------------------------------------------------------------------------------------------------------------------------------------------------------------------------------------------------------------------------------------------------------------+\n",
      "|rels                                                                                                                                                                                                                                                                                                                                                                 |\n",
      "+---------------------------------------------------------------------------------------------------------------------------------------------------------------------------------------------------------------------------------------------------------------------------------------------------------------------------------------------------------------------+\n",
      "|[Map(p -> Map(word -> animals., tag -> NNP), s -> Map(word -> shells, tag -> NNS), v -> Map(word -> with, tag -> IN)), Map(p -> Map(word -> PD, tag -> NNP), s -> Map(word -> Vouchers, tag -> NNP), v -> Map(word -> of, tag -> IN)), Map(p -> Map(word -> Elimia, tag -> NNP), s -> Map(word -> Originally, tag -> NNP), v -> Map(word -> identified, tag -> VBD))]|\n",
      "|[Map(p -> Map(word -> collector, tag -> NN), s -> Map(word -> Gift, tag -> NNP), v -> Map(word -> of, tag -> IN))]                                                                                                                                                                                                                                                   |\n",
      "|[]                                                                                                                                                                                                                                                                                                                                                                   |\n",
      "+---------------------------------------------------------------------------------------------------------------------------------------------------------------------------------------------------------------------------------------------------------------------------------------------------------------------------------------------------------------------+\n",
      "only showing top 3 rows\n",
      "\n"
     ]
    }
   ],
   "source": [
    "relations = notes.withColumn(\"rels\", pipeline_udf(notes[\"document\"]))\n",
    "relations.cache()\n",
    "relations.select(relations[\"rels\"]).show(3, truncate=False)"
   ]
  },
  {
   "cell_type": "code",
   "execution_count": 32,
   "metadata": {
    "collapsed": false
   },
   "outputs": [
    {
     "data": {
      "text/plain": [
       "205387"
      ]
     },
     "execution_count": 32,
     "metadata": {},
     "output_type": "execute_result"
    }
   ],
   "source": [
    "# How many things notes have something?\n",
    "relations\\\n",
    "    .filter(sql.size(relations[\"rels\"]) > 0)\\\n",
    "    .count()"
   ]
  },
  {
   "cell_type": "code",
   "execution_count": 36,
   "metadata": {
    "collapsed": false
   },
   "outputs": [
    {
     "name": "stdout",
     "output_type": "stream",
     "text": [
      "+---------------+\n",
      "|sum(size(rels))|\n",
      "+---------------+\n",
      "|         456382|\n",
      "+---------------+\n",
      "\n"
     ]
    }
   ],
   "source": [
    "# And how many relations are there total?\n",
    "relations\\\n",
    "    .select(sql.sum(sql.size(relations[\"rels\"])))\\\n",
    "    .show()"
   ]
  },
  {
   "cell_type": "code",
   "execution_count": null,
   "metadata": {
    "collapsed": true
   },
   "outputs": [],
   "source": [
    "# Maybe graph distribution of relations per record?"
   ]
  },
  {
   "cell_type": "code",
   "execution_count": 56,
   "metadata": {
    "collapsed": false
   },
   "outputs": [
    {
     "name": "stdout",
     "output_type": "stream",
     "text": [
      "+--------------------+----------+-----------+-----------+\n",
      "|                uuid|   subject|       verb|  predicate|\n",
      "+--------------------+----------+-----------+-----------+\n",
      "|9eda3ea8-3a1e-4c9...|    shells|       with|   animals.|\n",
      "|9eda3ea8-3a1e-4c9...|  Vouchers|         of|         PD|\n",
      "|9eda3ea8-3a1e-4c9...|Originally| identified|     Elimia|\n",
      "|fd0bceed-9507-4a2...|      Gift|         of|  collector|\n",
      "|c725a5c6-11de-4b3...|     notes|         on|       card|\n",
      "|a9bae4bd-38b1-443...|    BRASIL|          :|         SP|\n",
      "|a9bae4bd-38b1-443...|       dos|     Pilões|     margem|\n",
      "|a9bae4bd-38b1-443...|      null|         do|        rio|\n",
      "|fab12c0a-be03-4ba...|      Date|          :|       July|\n",
      "|0ef5e24e-7c9f-4ac...|      OHIO|          :|    Tuscar.|\n",
      "|0ef5e24e-7c9f-4ac...|        A.|      added|12-JUL-2002|\n",
      "|0ef5e24e-7c9f-4ac...|      1999|      added|12-JUL-2002|\n",
      "|e8fc2552-2055-47b...|   Riffles|    defined|      Pools|\n",
      "|e8fc2552-2055-47b...|      none|      swift|     Bottom|\n",
      "|e8fc2552-2055-47b...|      null|         in|    riffles|\n",
      "|e8fc2552-2055-47b...|     Sandy|         in|      pools|\n",
      "|e8fc2552-2055-47b...|      null|       with|    granite|\n",
      "|e8fc2552-2055-47b...|vegetation| consisting|   Justicia|\n",
      "|e8fc2552-2055-47b...|    Wooded|     slopes|       pine|\n",
      "|e8fc2552-2055-47b...|      null|surrounding|   location|\n",
      "+--------------------+----------+-----------+-----------+\n",
      "only showing top 20 rows\n",
      "\n"
     ]
    }
   ],
   "source": [
    "# How many nouns do we need to look up at OLS?\n",
    "# these are the s and p parts of the relations.\n",
    "# Can I access them directly?\n",
    "\n",
    "# list of everything\n",
    "just_rels = relations\\\n",
    "    .select(\"uuid\", sql.explode(\"rels\").alias(\"triple\"))\\\n",
    "    .select(sql.col(\"uuid\"),\n",
    "            sql.col(\"triple\")[\"s\"][\"word\"].alias(\"subject\"),\n",
    "            sql.col(\"triple\")[\"v\"][\"word\"].alias(\"verb\"),\n",
    "            sql.col(\"triple\")[\"p\"][\"word\"].alias(\"predicate\"))\n",
    "    \n",
    "just_rels.show()"
   ]
  },
  {
   "cell_type": "code",
   "execution_count": 66,
   "metadata": {
    "collapsed": false
   },
   "outputs": [],
   "source": [
    "# Now just unique nouns that we need to look up\n",
    "nouns = relations\\\n",
    "    .select(sql.explode(\"rels\").alias(\"triple\"))\\\n",
    "    .select(sql.lower(sql.col(\"triple\")[\"s\"][\"word\"]).alias(\"noun\"))\\\n",
    "    .unionAll(\n",
    "    relations\\\n",
    "    .select(sql.explode(\"rels\").alias(\"triple\"))\\\n",
    "    .select(sql.lower(sql.col(\"triple\")[\"p\"][\"word\"]).alias(\"noun\"))\n",
    "    )\\\n",
    "    .dropna()\\\n",
    "    .groupBy(\"noun\")\\\n",
    "    .count()\\\n",
    "    .orderBy(\"count\", ascending=False)\n",
    "       "
   ]
  },
  {
   "cell_type": "code",
   "execution_count": 67,
   "metadata": {
    "collapsed": false
   },
   "outputs": [
    {
     "name": "stdout",
     "output_type": "stream",
     "text": [
      "+----------------+-----+\n",
      "|            noun|count|\n",
      "+----------------+-----+\n",
      "|            data|16021|\n",
      "|           notes|10589|\n",
      "|            card|10152|\n",
      "|     preparation| 9056|\n",
      "|      collection| 8729|\n",
      "|     12-jul-2002| 8056|\n",
      "|          number| 8031|\n",
      "|       precision| 7538|\n",
      "|        specimen| 6727|\n",
      "|            trap| 6533|\n",
      "|               )| 6373|\n",
      "|          flight| 5946|\n",
      "|          length| 4753|\n",
      "|             see| 4709|\n",
      "|         storage| 4687|\n",
      "|        locality| 4637|\n",
      "|       specimens| 4586|\n",
      "|           group| 4514|\n",
      "|            alch| 4471|\n",
      "|          effort| 4457|\n",
      "|             acc| 4401|\n",
      "|        comments| 4314|\n",
      "|            note| 4098|\n",
      "|          forest| 4084|\n",
      "|       herbarium| 4072|\n",
      "|               (| 3984|\n",
      "|         habitat| 3906|\n",
      "|           point| 3888|\n",
      "|         section| 3782|\n",
      "|           huc12| 3769|\n",
      "|            etoh| 3342|\n",
      "|            soil| 3205|\n",
      "|          litter| 3184|\n",
      "|          brasil| 3007|\n",
      "|       collected| 3006|\n",
      "|         flowers| 2883|\n",
      "|           field| 2859|\n",
      "|               2| 2790|\n",
      "|            area| 2720|\n",
      "|verbatimlocality| 2718|\n",
      "|           label| 2651|\n",
      "|            skin| 2559|\n",
      "|           level| 2549|\n",
      "|          stream| 2547|\n",
      "|      university| 2442|\n",
      "|         prairie| 2441|\n",
      "|              mi| 2440|\n",
      "|             set| 2351|\n",
      "|            date| 2327|\n",
      "|        location| 2295|\n",
      "|              12| 2094|\n",
      "|          plants| 2033|\n",
      "|               [| 2018|\n",
      "|           plant| 1962|\n",
      "|       substrate| 1960|\n",
      "|            side| 1946|\n",
      "|            edge| 1903|\n",
      "|  specimen_state| 1898|\n",
      "|               m| 1836|\n",
      "|            ohio| 1829|\n",
      "|           slide| 1810|\n",
      "|               1| 1766|\n",
      "|          method| 1717|\n",
      "|            bank| 1661|\n",
      "|     information| 1620|\n",
      "|              ft| 1595|\n",
      "|           slope| 1569|\n",
      "|         species| 1545|\n",
      "|        colombia| 1539|\n",
      "|          indet.| 1488|\n",
      "|          brazil| 1480|\n",
      "|         precise| 1472|\n",
      "|               s| 1471|\n",
      "|            1000| 1465|\n",
      "|            bark| 1461|\n",
      "|           cloud| 1426|\n",
      "|               n| 1419|\n",
      "|     collectedby| 1403|\n",
      "|             one| 1397|\n",
      "|             log| 1393|\n",
      "|       j.longino| 1367|\n",
      "|           card.| 1362|\n",
      "|          source| 1362|\n",
      "|               4| 1358|\n",
      "|          leaves| 1353|\n",
      "|           taken| 1335|\n",
      "|            base| 1329|\n",
      "|            rock| 1320|\n",
      "|    measurements| 1317|\n",
      "|              m.| 1305|\n",
      "|       scattered| 1301|\n",
      "|             oak| 1294|\n",
      "|            tree| 1290|\n",
      "|              pa| 1284|\n",
      "|            lake| 1270|\n",
      "|          ground| 1251|\n",
      "|              21| 1250|\n",
      "|           sheet| 1236|\n",
      "|            part| 1218|\n",
      "|          growth| 1211|\n",
      "+----------------+-----+\n",
      "only showing top 100 rows\n",
      "\n"
     ]
    }
   ],
   "source": [
    "nouns.show(100)"
   ]
  },
  {
   "cell_type": "code",
   "execution_count": 68,
   "metadata": {
    "collapsed": false
   },
   "outputs": [
    {
     "data": {
      "text/plain": [
       "43716"
      ]
     },
     "execution_count": 68,
     "metadata": {},
     "output_type": "execute_result"
    }
   ],
   "source": [
    "nouns.count()"
   ]
  },
  {
   "cell_type": "code",
   "execution_count": 69,
   "metadata": {
    "collapsed": true
   },
   "outputs": [],
   "source": [
    "# distribution of noun frequency\n",
    "nouns_pdf = nouns.limit(1000).toPandas()"
   ]
  },
  {
   "cell_type": "code",
   "execution_count": 72,
   "metadata": {
    "collapsed": false
   },
   "outputs": [
    {
     "data": {
      "image/png": "[encoded data removed]",
      "text/plain": [
       "<matplotlib.figure.Figure at 0x7f0c0b103290>"
      ]
     },
     "metadata": {},
     "output_type": "display_data"
    }
   ],
   "source": [
    "import seaborn as sns\n",
    "ax = sns.barplot(x=\"noun\", y=\"count\", data=nouns_pdf)\n",
    "ax.set_yscale('log')"
   ]
  },
  {
   "cell_type": "markdown",
   "metadata": {},
   "source": [
    "# Leave this for later"
   ]
  },
  {
   "cell_type": "code",
   "execution_count": 11,
   "metadata": {
    "collapsed": false
   },
   "outputs": [
    {
     "name": "stdout",
     "output_type": "stream",
     "text": [
      "['Hello', 'name', 'Mace', 'Windoo']\n"
     ]
    }
   ],
   "source": [
    "# Split out words by type\n",
    "# Can't figure out how to access elements of a map in a filter so \n",
    "# build something that filters the lists for us.\n",
    "def find_pos(pos, part):\n",
    "    '''\n",
    "    Take a list of dicts that represent words tagged with\n",
    "    pos information and return a list of words that match\n",
    "    the requested pos\n",
    "    '''\n",
    "    retval = []\n",
    "    for p in pos:\n",
    "        if p[\"tag\"].startswith(part):\n",
    "            retval.append(p[\"word\"])\n",
    "    return retval\n",
    "\n",
    "print(find_pos(pos, \"NN\"))"
   ]
  },
  {
   "cell_type": "code",
   "execution_count": 12,
   "metadata": {
    "collapsed": true
   },
   "outputs": [],
   "source": [
    "# Can't figure out how to pass a single string to a UDF\n",
    "find_nouns_udf = sql.udf(lambda x: find_pos(x, \"NN\"), types.ArrayType(types.StringType()))\n"
   ]
  },
  {
   "cell_type": "code",
   "execution_count": 13,
   "metadata": {
    "collapsed": false
   },
   "outputs": [
    {
     "name": "stdout",
     "output_type": "stream",
     "text": [
      "+---------+\n",
      "|     word|\n",
      "+---------+\n",
      "|specimens|\n",
      "|      RES|\n",
      "|        [|\n",
      "+---------+\n",
      "only showing top 3 rows\n",
      "\n"
     ]
    }
   ],
   "source": [
    "nouns = notes_w_tokens2\\\n",
    "    .select(sql.explode(find_nouns_udf(notes_w_tokens2[\"pos\"])).alias(\"word\"))\n",
    "nouns.cache()\n",
    "nouns.show(3)"
   ]
  },
  {
   "cell_type": "code",
   "execution_count": 14,
   "metadata": {
    "collapsed": false
   },
   "outputs": [
    {
     "name": "stdout",
     "output_type": "stream",
     "text": [
      "+-----------+-----+\n",
      "|       word|count|\n",
      "+-----------+-----+\n",
      "|          [|48044|\n",
      "|          ]|32787|\n",
      "|       data|16549|\n",
      "|          ||11102|\n",
      "|      notes|10569|\n",
      "|       trap|10393|\n",
      "|       card|10090|\n",
      "|        See|10085|\n",
      "|          (|10080|\n",
      "|          S| 9586|\n",
      "| collection| 9407|\n",
      "|       Alch| 8578|\n",
      "|     forest| 8558|\n",
      "|        Co.| 8135|\n",
      "|     litter| 8042|\n",
      "|       soil| 7617|\n",
      "|      field| 7342|\n",
      "|     Number| 7096|\n",
      "|     NOTEBY| 6965|\n",
      "|          m| 6897|\n",
      "|     flight| 6810|\n",
      "|          )| 6762|\n",
      "|  Herbarium| 6728|\n",
      "| Collection| 6538|\n",
      "|          C| 5964|\n",
      "|          W| 5883|\n",
      "|   specimen| 5729|\n",
      "|   NOTEDATE| 5593|\n",
      "|Preparation| 5074|\n",
      "|preparation| 5074|\n",
      "+-----------+-----+\n",
      "only showing top 30 rows\n",
      "\n"
     ]
    }
   ],
   "source": [
    "noun_counts = nouns\\\n",
    "    .groupBy(\"word\")\\\n",
    "    .count()\\\n",
    "    .orderBy(\"count\", ascending=False)\\\n",
    "    \n",
    "noun_counts.show(30)"
   ]
  },
  {
   "cell_type": "code",
   "execution_count": 15,
   "metadata": {
    "collapsed": false
   },
   "outputs": [
    {
     "data": {
      "text/plain": [
       "DataFrame[word: string, count: bigint]"
      ]
     },
     "execution_count": 15,
     "metadata": {},
     "output_type": "execute_result"
    }
   ],
   "source": [
    "noun_counts.cache()"
   ]
  },
  {
   "cell_type": "code",
   "execution_count": 16,
   "metadata": {
    "collapsed": false
   },
   "outputs": [
    {
     "name": "stdout",
     "output_type": "stream",
     "text": [
      "+--------------------+-----+\n",
      "|                word|count|\n",
      "+--------------------+-----+\n",
      "|            CC-79-19|    1|\n",
      "|            Feathery|    1|\n",
      "|                Elof|    1|\n",
      "|            watshami|    1|\n",
      "|           Embidobia|    1|\n",
      "|           Cionthrix|    1|\n",
      "|det_comments:46.0...|    1|\n",
      "|           atranonin|    1|\n",
      "|             rhzomes|    1|\n",
      "|det_comments:23-26mm|    1|\n",
      "|         malfunction|    1|\n",
      "|                L541|    1|\n",
      "|         Martinsburg|    1|\n",
      "|           Cupidonia|    1|\n",
      "|          secretary.|    1|\n",
      "|               neut.|    1|\n",
      "|            radulae.|    1|\n",
      "|            Bekopaka|    1|\n",
      "|          L.S.Dilion|    1|\n",
      "|         longiusculo|    1|\n",
      "|             Granids|    1|\n",
      "|          Amblydoras|    1|\n",
      "|                IDS.|    1|\n",
      "|            Pristers|    1|\n",
      "|                Reps|    1|\n",
      "|          periphyton|    1|\n",
      "|      W.J.Chamberlin|    1|\n",
      "| Syn=Anthrocothecium|    1|\n",
      "|         OSAL0094835|    1|\n",
      "|                 CMB|    1|\n",
      "+--------------------+-----+\n",
      "only showing top 30 rows\n",
      "\n"
     ]
    }
   ],
   "source": [
    "noun_counts.orderBy(noun_counts[\"count\"]).show(30)"
   ]
  },
  {
   "cell_type": "code",
   "execution_count": 17,
   "metadata": {
    "collapsed": false
   },
   "outputs": [
    {
     "name": "stdout",
     "output_type": "stream",
     "text": [
      "    word  count\n",
      "0      [  48044\n",
      "1      ]  32787\n",
      "2   data  16549\n",
      "3      |  11102\n",
      "4  notes  10569\n"
     ]
    }
   ],
   "source": [
    "noun_counts_pdf = noun_counts.limit(1000).toPandas()\n",
    "print(noun_counts_pdf.head())\n",
    "\n",
    "tuples = []\n",
    "for l in noun_counts_pdf.iterrows():\n",
    "    tuples.append( (l[1], l[0]) )"
   ]
  },
  {
   "cell_type": "code",
   "execution_count": 186,
   "metadata": {
    "collapsed": false
   },
   "outputs": [
    {
     "ename": "ValueError",
     "evalue": "The truth value of a Series is ambiguous. Use a.empty, a.bool(), a.item(), a.any() or a.all().",
     "output_type": "error",
     "traceback": [
      "\u001b[1;31m---------------------------------------------------------------------------\u001b[0m",
      "\u001b[1;31mValueError\u001b[0m                                Traceback (most recent call last)",
      "\u001b[1;32m<ipython-input-186-d1d9a105dc58>\u001b[0m in \u001b[0;36m<module>\u001b[1;34m()\u001b[0m\n\u001b[0;32m      2\u001b[0m \u001b[1;32mfrom\u001b[0m \u001b[0mwordcloud\u001b[0m \u001b[1;32mimport\u001b[0m \u001b[0mWordCloud\u001b[0m\u001b[1;33m\u001b[0m\u001b[0m\n\u001b[0;32m      3\u001b[0m \u001b[1;33m\u001b[0m\u001b[0m\n\u001b[1;32m----> 4\u001b[1;33m \u001b[0mwordcloud\u001b[0m \u001b[1;33m=\u001b[0m \u001b[0mWordCloud\u001b[0m\u001b[1;33m(\u001b[0m\u001b[1;33m)\u001b[0m\u001b[1;33m.\u001b[0m\u001b[0mgenerate_from_frequencies\u001b[0m\u001b[1;33m(\u001b[0m\u001b[0mtuples\u001b[0m\u001b[1;33m)\u001b[0m\u001b[1;33m\u001b[0m\u001b[0m\n\u001b[0m",
      "\u001b[1;32m/usr/local/lib/python2.7/dist-packages/wordcloud/wordcloud.pyc\u001b[0m in \u001b[0;36mgenerate_from_frequencies\u001b[1;34m(self, frequencies)\u001b[0m\n\u001b[0;32m    261\u001b[0m         \"\"\"\n\u001b[0;32m    262\u001b[0m         \u001b[1;31m# make sure frequencies are sorted and normalized\u001b[0m\u001b[1;33m\u001b[0m\u001b[1;33m\u001b[0m\u001b[0m\n\u001b[1;32m--> 263\u001b[1;33m         \u001b[0mfrequencies\u001b[0m \u001b[1;33m=\u001b[0m \u001b[0msorted\u001b[0m\u001b[1;33m(\u001b[0m\u001b[0mfrequencies\u001b[0m\u001b[1;33m,\u001b[0m \u001b[0mkey\u001b[0m\u001b[1;33m=\u001b[0m\u001b[0mitem1\u001b[0m\u001b[1;33m,\u001b[0m \u001b[0mreverse\u001b[0m\u001b[1;33m=\u001b[0m\u001b[0mTrue\u001b[0m\u001b[1;33m)\u001b[0m\u001b[1;33m\u001b[0m\u001b[0m\n\u001b[0m\u001b[0;32m    264\u001b[0m         \u001b[0mfrequencies\u001b[0m \u001b[1;33m=\u001b[0m \u001b[0mfrequencies\u001b[0m\u001b[1;33m[\u001b[0m\u001b[1;33m:\u001b[0m\u001b[0mself\u001b[0m\u001b[1;33m.\u001b[0m\u001b[0mmax_words\u001b[0m\u001b[1;33m]\u001b[0m\u001b[1;33m\u001b[0m\u001b[0m\n\u001b[0;32m    265\u001b[0m         \u001b[1;31m# largest entry will be 1\u001b[0m\u001b[1;33m\u001b[0m\u001b[1;33m\u001b[0m\u001b[0m\n",
      "\u001b[1;32m/usr/local/lib/python2.7/dist-packages/pandas/core/generic.pyc\u001b[0m in \u001b[0;36m__nonzero__\u001b[1;34m(self)\u001b[0m\n\u001b[0;32m    712\u001b[0m         raise ValueError(\"The truth value of a {0} is ambiguous. \"\n\u001b[0;32m    713\u001b[0m                          \u001b[1;34m\"Use a.empty, a.bool(), a.item(), a.any() or a.all().\"\u001b[0m\u001b[1;33m\u001b[0m\u001b[0m\n\u001b[1;32m--> 714\u001b[1;33m                          .format(self.__class__.__name__))\n\u001b[0m\u001b[0;32m    715\u001b[0m \u001b[1;33m\u001b[0m\u001b[0m\n\u001b[0;32m    716\u001b[0m     \u001b[0m__bool__\u001b[0m \u001b[1;33m=\u001b[0m \u001b[0m__nonzero__\u001b[0m\u001b[1;33m\u001b[0m\u001b[0m\n",
      "\u001b[1;31mValueError\u001b[0m: The truth value of a Series is ambiguous. Use a.empty, a.bool(), a.item(), a.any() or a.all()."
     ]
    }
   ],
   "source": [
    "%matplotlib inline\n",
    "from wordcloud import WordCloud\n",
    "\n",
    "wordcloud = WordCloud().generate_from_frequencies(tuples)"
   ]
  },
  {
   "cell_type": "code",
   "execution_count": null,
   "metadata": {
    "collapsed": true
   },
   "outputs": [],
   "source": [
    "# And some verbs"
   ]
  }
 ],
 "metadata": {
  "kernelspec": {
   "display_name": "Python 2",
   "language": "python",
   "name": "python2"
  },
  "language_info": {
   "codemirror_mode": {
    "name": "ipython",
    "version": 2
   },
   "file_extension": ".py",
   "mimetype": "text/x-python",
   "name": "python",
   "nbconvert_exporter": "python",
   "pygments_lexer": "ipython2",
   "version": "2.7.6"
  }
 },
 "nbformat": 4,
 "nbformat_minor": 0
}

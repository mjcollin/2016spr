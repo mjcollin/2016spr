{
 "cells": [
  {
   "cell_type": "markdown",
   "metadata": {},
   "source": [
    "# Named Entities\n",
    "\n",
    "With relationships, take the entities and link them to an ontology"
   ]
  },
  {
   "cell_type": "code",
   "execution_count": 1,
   "metadata": {
    "collapsed": false
   },
   "outputs": [
    {
     "name": "stderr",
     "output_type": "stream",
     "text": [
      ":0: FutureWarning: IPython widgets are experimental and may change in the future.\n"
     ]
    }
   ],
   "source": [
    "%matplotlib inline\n",
    "from __future__ import print_function\n",
    "import os\n",
    "from pyspark import SQLContext\n",
    "from pyspark.sql import Row\n",
    "import pyspark.sql.functions as sql\n",
    "import pyspark.sql.types as types\n",
    "#from pyspark.sql.functions import udf, length\n",
    "import matplotlib.pyplot as plt\n",
    "import numpy\n",
    "import math\n",
    "import matplotlib.pyplot as plt\n",
    "import seaborn as sns\n",
    "\n",
    "import nltk\n",
    "import pyspark.ml.feature as feature"
   ]
  },
  {
   "cell_type": "code",
   "execution_count": 2,
   "metadata": {
    "collapsed": false
   },
   "outputs": [
    {
     "name": "stdout",
     "output_type": "stream",
     "text": [
      "3263280\n"
     ]
    }
   ],
   "source": [
    "# Load Processed Parquet\n",
    "sqlContext = SQLContext(sc)\n",
    "notes_w_rels = sqlContext.read.parquet(\"../data/idigbio_relations.parquet\")\n",
    "total_records = notes_w_rels.count()\n",
    "print(total_records)\n",
    "#notes_w_rels.printSchema()\n"
   ]
  },
  {
   "cell_type": "code",
   "execution_count": 3,
   "metadata": {
    "collapsed": false
   },
   "outputs": [
    {
     "name": "stdout",
     "output_type": "stream",
     "text": [
      "1933241\n"
     ]
    }
   ],
   "source": [
    "relations = notes_w_rels\\\n",
    "    .filter(sql.size(sql.col(\"rels\")) > 0)\\\n",
    "# Small sample of the df\n",
    "#relations = relations.sample(withReplacement=False, fraction=0.1)\n",
    "relations.cache()\n",
    "print(relations.count())"
   ]
  },
  {
   "cell_type": "code",
   "execution_count": 5,
   "metadata": {
    "collapsed": false
   },
   "outputs": [
    {
     "name": "stdout",
     "output_type": "stream",
     "text": [
      "0.592422654507\n"
     ]
    }
   ],
   "source": [
    "print (relations.count() / float(total_records))"
   ]
  },
  {
   "cell_type": "code",
   "execution_count": 6,
   "metadata": {
    "collapsed": false
   },
   "outputs": [
    {
     "name": "stdout",
     "output_type": "stream",
     "text": [
      "+---------------+\n",
      "|sum(size(rels))|\n",
      "+---------------+\n",
      "|        4700131|\n",
      "+---------------+\n",
      "\n"
     ]
    }
   ],
   "source": [
    "# And how many relations are there total?\n",
    "relations\\\n",
    "    .select(sql.sum(sql.size(sql.col(\"rels\"))))\\\n",
    "    .show()"
   ]
  },
  {
   "cell_type": "code",
   "execution_count": null,
   "metadata": {
    "collapsed": true
   },
   "outputs": [],
   "source": [
    "# Maybe graph distribution of relations per record?"
   ]
  },
  {
   "cell_type": "code",
   "execution_count": 7,
   "metadata": {
    "collapsed": false
   },
   "outputs": [
    {
     "name": "stdout",
     "output_type": "stream",
     "text": [
      "+--------------------+----------+---------+-------------+\n",
      "|                uuid|   subject|     verb|    predicate|\n",
      "+--------------------+----------+---------+-------------+\n",
      "|52de7e6b-82f4-43c...|collection|       is|indeterminate|\n",
      "|96bfbe47-3e52-4f1...|University|       of|      British|\n",
      "|00115e8c-776f-42d...|     adult|       in|   condition.|\n",
      "|45667ffd-33b8-478...|    flight|intercept|         trap|\n",
      "|5dd18681-68e8-4c8...|      null|     from|    herbarium|\n",
      "|5dd18681-68e8-4c8...|      null|       of|           J.|\n",
      "|73594b7a-bf1a-488...|Infrequent|       in|        areas|\n",
      "|73594b7a-bf1a-488...|      null|    along|           rd|\n",
      "|73594b7a-bf1a-488...|      null|       at|            S|\n",
      "|73594b7a-bf1a-488...|      edge|       of|        site.|\n",
      "|73594b7a-bf1a-488...|    forest|     with|    limestone|\n",
      "|73594b7a-bf1a-488...|      null|   glades|            S|\n",
      "|73594b7a-bf1a-488...|      null|       of|       Little|\n",
      "|73594b7a-bf1a-488...|    forest|    along| intermittent|\n",
      "|70d8f852-70f9-462...|      data|    taken|        field|\n",
      "|e99fab32-f499-4b6...|    Brasil|        :|        Goias|\n",
      "|e99fab32-f499-4b6...|         4|        :|         Camp|\n",
      "|e99fab32-f499-4b6...|       YPT|    added|  12-JUL-2002|\n",
      "|e99fab32-f499-4b6...| 29.v.1996|    added|  12-JUL-2002|\n",
      "|e99fab32-f499-4b6...|      camp|    added|  12-JUL-2002|\n",
      "+--------------------+----------+---------+-------------+\n",
      "only showing top 20 rows\n",
      "\n"
     ]
    }
   ],
   "source": [
    "# cross-tabby list of everything\n",
    "just_rels = relations\\\n",
    "    .select(\"uuid\", sql.explode(\"rels\").alias(\"triple\"))\\\n",
    "    .select(sql.col(\"uuid\"),\n",
    "            sql.col(\"triple\")[\"s\"][\"word\"].alias(\"subject\"),\n",
    "            sql.col(\"triple\")[\"v\"][\"word\"].alias(\"verb\"),\n",
    "            sql.col(\"triple\")[\"p\"][\"word\"].alias(\"predicate\"))\n",
    "    \n",
    "just_rels.show()"
   ]
  },
  {
   "cell_type": "code",
   "execution_count": 8,
   "metadata": {
    "collapsed": true
   },
   "outputs": [],
   "source": [
    "# Now just unique nouns that we need to look up\n",
    "nouns = relations\\\n",
    "    .select(sql.explode(\"rels\").alias(\"triple\"))\\\n",
    "    .select(sql.lower(sql.col(\"triple\")[\"s\"][\"word\"]).alias(\"noun\"))\\\n",
    "    .unionAll(\n",
    "    relations\\\n",
    "    .select(sql.explode(\"rels\").alias(\"triple\"))\\\n",
    "    .select(sql.lower(sql.col(\"triple\")[\"p\"][\"word\"]).alias(\"noun\"))\n",
    "    )\\\n",
    "    .dropna()\\\n",
    "    .groupBy(\"noun\")\\\n",
    "    .count()\\\n",
    "    .orderBy(\"count\", ascending=False)"
   ]
  },
  {
   "cell_type": "code",
   "execution_count": 9,
   "metadata": {
    "collapsed": false
   },
   "outputs": [
    {
     "name": "stdout",
     "output_type": "stream",
     "text": [
      "+-------+-----------------+\n",
      "|summary|            count|\n",
      "+-------+-----------------+\n",
      "|  count|           163586|\n",
      "|   mean|48.57210274717885|\n",
      "| stddev|975.6051699530569|\n",
      "|    min|                1|\n",
      "|    max|           164319|\n",
      "+-------+-----------------+\n",
      "\n",
      "+-----------+------+\n",
      "|       noun| count|\n",
      "+-----------+------+\n",
      "|       data|164319|\n",
      "|       card|101642|\n",
      "|preparation| 89415|\n",
      "| collection| 87921|\n",
      "|     number| 80680|\n",
      "|  precision| 74790|\n",
      "|          ]| 74263|\n",
      "|      notes| 71765|\n",
      "|   specimen| 65776|\n",
      "|          1| 64165|\n",
      "|  specimens| 60131|\n",
      "|   locality| 48267|\n",
      "|     length| 46928|\n",
      "|    storage| 46769|\n",
      "|       note| 46322|\n",
      "|     effort| 44702|\n",
      "|        acc| 43744|\n",
      "|  herbarium| 41996|\n",
      "|   comments| 39757|\n",
      "|      point| 38863|\n",
      "|    habitat| 38813|\n",
      "|12-jul-2002| 38782|\n",
      "|    section| 38310|\n",
      "|      huc12| 37393|\n",
      "|      field| 37083|\n",
      "|          2| 36751|\n",
      "|    flowers| 36366|\n",
      "|       soil| 31891|\n",
      "|     brasil| 30171|\n",
      "|       etoh| 29011|\n",
      "+-----------+------+\n",
      "only showing top 30 rows\n",
      "\n"
     ]
    }
   ],
   "source": [
    "num_nouns = nouns.count()\n",
    "nouns.describe().show()\n",
    "nouns.show(30)"
   ]
  },
  {
   "cell_type": "code",
   "execution_count": 11,
   "metadata": {
    "collapsed": false
   },
   "outputs": [
    {
     "name": "stdout",
     "output_type": "stream",
     "text": [
      "+-----+\n",
      "|count|\n",
      "+-----+\n",
      "|    1|\n",
      "|    1|\n",
      "|    1|\n",
      "+-----+\n",
      "only showing top 3 rows\n",
      "\n"
     ]
    }
   ],
   "source": [
    "# Median noun count\n",
    "import math\n",
    "nouns\\\n",
    "    .select(sql.col(\"count\"))\\\n",
    "    .limit(int(math.floor(num_nouns/2)))\\\n",
    "    .orderBy(sql.col(\"count\"))\\\n",
    "    .show(3)"
   ]
  },
  {
   "cell_type": "code",
   "execution_count": 12,
   "metadata": {
    "collapsed": false
   },
   "outputs": [
    {
     "data": {
      "text/plain": [
       "77237"
      ]
     },
     "execution_count": 12,
     "metadata": {},
     "output_type": "execute_result"
    }
   ],
   "source": [
    "# ok, how many have more than 1?\n",
    "nouns\\\n",
    "    .filter(sql.col(\"count\") > 1)\\\n",
    "    .count()"
   ]
  },
  {
   "cell_type": "code",
   "execution_count": 21,
   "metadata": {
    "collapsed": false
   },
   "outputs": [],
   "source": [
    "# distribution of noun frequency\n",
    "nouns_pdf = nouns.limit(10000).toPandas()"
   ]
  },
  {
   "cell_type": "code",
   "execution_count": 22,
   "metadata": {
    "collapsed": false
   },
   "outputs": [
    {
     "data": {
      "text/plain": [
       "<matplotlib.text.Text at 0x7fb9c52beb10>"
      ]
     },
     "execution_count": 22,
     "metadata": {},
     "output_type": "execute_result"
    },
    {
     "data": {
      "image/png": "[encoded data removed]",
      "text/plain": [
       "<matplotlib.figure.Figure at 0x7fb9c53e1c10>"
      ]
     },
     "metadata": {},
     "output_type": "display_data"
    }
   ],
   "source": [
    "import seaborn as sns\n",
    "ticks = range(0, 10001, 1000)\n",
    "ax = sns.barplot(x=\"noun\", y=\"count\", data=nouns_pdf)\n",
    "ax.set_yscale('log')\n",
    "ax.get_xaxis().set_ticks(ticks)\n",
    "ax.get_xaxis().set_ticklabels(ticks)\n",
    "ax.set_title(\"Distribution of Most Common 10,000 Terms Found in Relations\")\n",
    "ax.set_ylabel(\"Count (Log scale)\")\n",
    "ax.set_xlabel(\"Rank of Unique Terms\")"
   ]
  },
  {
   "cell_type": "code",
   "execution_count": 37,
   "metadata": {
    "collapsed": false
   },
   "outputs": [
    {
     "data": {
      "text/plain": [
       "76208"
      ]
     },
     "execution_count": 37,
     "metadata": {},
     "output_type": "execute_result"
    }
   ],
   "source": [
    "# let's make some candidates to try looking up.\n",
    "# more than 1 occurence seems to trim off a lot\n",
    "nouns\\\n",
    "    .filter(sql.col(\"count\") > 1)\\\n",
    "    .filter(sql.length(sql.col(\"noun\")) > 2)\\\n",
    "    .count()"
   ]
  },
  {
   "cell_type": "code",
   "execution_count": 41,
   "metadata": {
    "collapsed": false
   },
   "outputs": [],
   "source": [
    "# write those out\n",
    "nouns\\\n",
    "    .filter(sql.col(\"count\") > 1)\\\n",
    "    .filter(sql.length(sql.col(\"noun\")) > 2)\\\n",
    "    .write.format(\"json\").save(\"../data/idigbio_nouns.json\")"
   ]
  },
  {
   "cell_type": "code",
   "execution_count": null,
   "metadata": {
    "collapsed": true
   },
   "outputs": [],
   "source": []
  }
 ],
 "metadata": {
  "kernelspec": {
   "display_name": "Python 2",
   "language": "python",
   "name": "python2"
  },
  "language_info": {
   "codemirror_mode": {
    "name": "ipython",
    "version": 2
   },
   "file_extension": ".py",
   "mimetype": "text/x-python",
   "name": "python",
   "nbconvert_exporter": "python",
   "pygments_lexer": "ipython2",
   "version": "2.7.6"
  }
 },
 "nbformat": 4,
 "nbformat_minor": 0
}

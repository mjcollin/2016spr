{
 "cells": [
  {
   "cell_type": "markdown",
   "metadata": {},
   "source": [
    "# Experimenting with chunking classifier"
   ]
  },
  {
   "cell_type": "code",
   "execution_count": 3,
   "metadata": {
    "collapsed": false
   },
   "outputs": [
    {
     "name": "stderr",
     "output_type": "stream",
     "text": [
      ":0: FutureWarning: IPython widgets are experimental and may change in the future.\n"
     ]
    }
   ],
   "source": [
    "%matplotlib inline\n",
    "from __future__ import print_function\n",
    "import os\n",
    "from pyspark import SQLContext\n",
    "from pyspark.sql import Row\n",
    "import pyspark.sql.functions as sql\n",
    "import pyspark.sql.types as types\n",
    "#from pyspark.sql.functions import udf, length\n",
    "import matplotlib.pyplot as plt\n",
    "import numpy\n",
    "import math\n",
    "import matplotlib.pyplot as plt\n",
    "import seaborn as sns\n",
    "\n",
    "import nltk\n",
    "import pyspark.ml.feature as feature"
   ]
  },
  {
   "cell_type": "code",
   "execution_count": 5,
   "metadata": {
    "collapsed": false
   },
   "outputs": [
    {
     "name": "stdout",
     "output_type": "stream",
     "text": [
      "3230857\n",
      "292\n"
     ]
    }
   ],
   "source": [
    "# Load Processed Parquet\n",
    "sqlContext = SQLContext(sc)\n",
    "notes = sqlContext.read.parquet(\"../data/idigbio_notes.parquet\")\n",
    "total_records = notes.count()\n",
    "print(total_records)\n",
    "# Small sample of the df\n",
    "notes = notes.sample(withReplacement=False, fraction=0.0001)\n",
    "notes.cache()\n",
    "print(notes.count())"
   ]
  },
  {
   "cell_type": "code",
   "execution_count": 8,
   "metadata": {
    "collapsed": false
   },
   "outputs": [
    {
     "name": "stdout",
     "output_type": "stream",
     "text": [
      "+-------------------------------------------------------------------------------------------------------------------------------------------------------------------------+\n",
      "|tokens                                                                                                                                                                   |\n",
      "+-------------------------------------------------------------------------------------------------------------------------------------------------------------------------+\n",
      "|[Frequent, in, loamy, sand, below, outcrops, in, small, ,, rocky, ,, ungrazed, Hesperstipa, comata-Bouteloua, gracilis, prairie, remnant, at, fork, in, rd, .]           |\n",
      "|[BROOD, 32]                                                                                                                                                              |\n",
      "|[[, 1°44'28, '', S, 51°27'21.3, '', W, BRASIL, :, PA, ,, Melgaço, Caxiuanã, Estação, Cient., Ferreira, Pena, Trilha, 19-22.xi.2003, YPT, AP, Aguiar, ,, JDias, P05090, ]]|\n",
      "|[Herbarium, of, Winona, H., Welch]                                                                                                                                       |\n",
      "|[Number, of, specimens, in, set, :, 1]                                                                                                                                   |\n",
      "+-------------------------------------------------------------------------------------------------------------------------------------------------------------------------+\n",
      "only showing top 5 rows\n",
      "\n"
     ]
    }
   ],
   "source": [
    "from lib.tokens import Tokens\n",
    "tokens = Tokens()\n",
    "udf_tokenize = sql.udf(tokens.tokenize, types.ArrayType(types.StringType()))\n",
    "notes_w_tokens = notes.withColumn('tokens', udf_tokenize(notes['document']))\n",
    "notes_w_tokens\\\n",
    "    .select(sql.col(\"tokens\"))\\\n",
    "    .show(5, truncate=False)"
   ]
  },
  {
   "cell_type": "code",
   "execution_count": 9,
   "metadata": {
    "collapsed": false
   },
   "outputs": [
    {
     "name": "stdout",
     "output_type": "stream",
     "text": [
      "+---------------------------------------------------------------------------------------------------------------------------------------------------------------------------------------------------------------------------------------------------------------------------------------------------------------------------------------------------------------------------------------------------------------------------------------------------------------------------------------------------------------------------------------------------------------------------------------------------------------------------------------------------------------------------------------------------------------------------------------------------------------------------------------------------------------------------------------+\n",
      "|pos                                                                                                                                                                                                                                                                                                                                                                                                                                                                                                                                                                                                                                                                                                                                                                                                                                    |\n",
      "+---------------------------------------------------------------------------------------------------------------------------------------------------------------------------------------------------------------------------------------------------------------------------------------------------------------------------------------------------------------------------------------------------------------------------------------------------------------------------------------------------------------------------------------------------------------------------------------------------------------------------------------------------------------------------------------------------------------------------------------------------------------------------------------------------------------------------------------+\n",
      "|[Map(word -> Frequent, tag -> NNP), Map(word -> in, tag -> IN), Map(word -> loamy, tag -> NN), Map(word -> sand, tag -> NN), Map(word -> below, tag -> IN), Map(word -> outcrops, tag -> NNS), Map(word -> in, tag -> IN), Map(word -> small, tag -> JJ), Map(word -> ,, tag -> ,), Map(word -> rocky, tag -> JJ), Map(word -> ,, tag -> ,), Map(word -> ungrazed, tag -> VBN), Map(word -> Hesperstipa, tag -> NNP), Map(word -> comata-Bouteloua, tag -> NNP), Map(word -> gracilis, tag -> VBZ), Map(word -> prairie, tag -> NN), Map(word -> remnant, tag -> NN), Map(word -> at, tag -> IN), Map(word -> fork, tag -> NN), Map(word -> in, tag -> IN), Map(word -> rd, tag -> NN), Map(word -> ., tag -> .)]                                                                                                                      |\n",
      "|[Map(word -> BROOD, tag -> NNP), Map(word -> 32, tag -> CD)]                                                                                                                                                                                                                                                                                                                                                                                                                                                                                                                                                                                                                                                                                                                                                                           |\n",
      "|[Map(word -> [, tag -> NN), Map(word -> 1°44'28, tag -> CD), Map(word -> '', tag -> ''), Map(word -> S, tag -> NNP), Map(word -> 51°27'21.3, tag -> CD), Map(word -> '', tag -> ''), Map(word -> W, tag -> NNP), Map(word -> BRASIL, tag -> NNP), Map(word -> :, tag -> :), Map(word -> PA, tag -> NNP), Map(word -> ,, tag -> ,), Map(word -> Melgaço, tag -> NNP), Map(word -> Caxiuanã, tag -> NNP), Map(word -> Estação, tag -> NNP), Map(word -> Cient., tag -> NNP), Map(word -> Ferreira, tag -> NNP), Map(word -> Pena, tag -> NNP), Map(word -> Trilha, tag -> NNP), Map(word -> 19-22.xi.2003, tag -> CD), Map(word -> YPT, tag -> NNP), Map(word -> AP, tag -> NNP), Map(word -> Aguiar, tag -> NNP), Map(word -> ,, tag -> ,), Map(word -> JDias, tag -> NNP), Map(word -> P05090, tag -> NNP), Map(word -> ], tag -> NNP)]|\n",
      "|[Map(word -> Herbarium, tag -> NN), Map(word -> of, tag -> IN), Map(word -> Winona, tag -> NNP), Map(word -> H., tag -> NNP), Map(word -> Welch, tag -> NNP)]                                                                                                                                                                                                                                                                                                                                                                                                                                                                                                                                                                                                                                                                          |\n",
      "|[Map(word -> Number, tag -> NNP), Map(word -> of, tag -> IN), Map(word -> specimens, tag -> NNS), Map(word -> in, tag -> IN), Map(word -> set, tag -> NN), Map(word -> :, tag -> :), Map(word -> 1, tag -> LS)]                                                                                                                                                                                                                                                                                                                                                                                                                                                                                                                                                                                                                        |\n",
      "+---------------------------------------------------------------------------------------------------------------------------------------------------------------------------------------------------------------------------------------------------------------------------------------------------------------------------------------------------------------------------------------------------------------------------------------------------------------------------------------------------------------------------------------------------------------------------------------------------------------------------------------------------------------------------------------------------------------------------------------------------------------------------------------------------------------------------------------+\n",
      "only showing top 5 rows\n",
      "\n"
     ]
    }
   ],
   "source": [
    "from lib.pos_tags import PosTags\n",
    "pos_tags = PosTags()\n",
    "udf_part_of_speech = sql.udf(pos_tags.tag, types.ArrayType(\n",
    "                                    types.MapType(\n",
    "                                        types.StringType(),\n",
    "                                        types.StringType()\n",
    "                                    )\n",
    "                                )\n",
    "                            )\n",
    "\n",
    "notes_w_tokens2 = notes_w_tokens.withColumn('pos', \n",
    "                                            udf_part_of_speech(notes_w_tokens['tokens']))\n",
    "notes_w_tokens2\\\n",
    "    .select(sql.col(\"pos\"))\\\n",
    "    .show(5, truncate=False)"
   ]
  },
  {
   "cell_type": "code",
   "execution_count": 11,
   "metadata": {
    "collapsed": false
   },
   "outputs": [],
   "source": [
    "# Write out this small set of tagged records to build a training set by manually adding a iob tag\n",
    "notes_w_tokens2.write.json(\"../data/chunker_pre_training.json\")"
   ]
  },
  {
   "cell_type": "code",
   "execution_count": null,
   "metadata": {
    "collapsed": true
   },
   "outputs": [],
   "source": []
  }
 ],
 "metadata": {
  "kernelspec": {
   "display_name": "Python 2",
   "language": "python",
   "name": "python2"
  },
  "language_info": {
   "codemirror_mode": {
    "name": "ipython",
    "version": 2
   },
   "file_extension": ".py",
   "mimetype": "text/x-python",
   "name": "python",
   "nbconvert_exporter": "python",
   "pygments_lexer": "ipython2",
   "version": "2.7.6"
  }
 },
 "nbformat": 4,
 "nbformat_minor": 0
}
